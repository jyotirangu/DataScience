{
  "nbformat": 4,
  "nbformat_minor": 0,
  "metadata": {
    "colab": {
      "provenance": [],
      "authorship_tag": "ABX9TyMEvYC77QRrMb6gwkh2iKKe",
      "include_colab_link": true
    },
    "kernelspec": {
      "name": "python3",
      "display_name": "Python 3"
    },
    "language_info": {
      "name": "python"
    }
  },
  "cells": [
    {
      "cell_type": "markdown",
      "metadata": {
        "id": "view-in-github",
        "colab_type": "text"
      },
      "source": [
        "<a href=\"https://colab.research.google.com/github/jyotirangu/DataScience/blob/main/00P1.ipynb\" target=\"_parent\"><img src=\"https://colab.research.google.com/assets/colab-badge.svg\" alt=\"Open In Colab\"/></a>"
      ]
    },
    {
      "cell_type": "code",
      "execution_count": null,
      "metadata": {
        "id": "XGJD2pBmfNL9"
      },
      "outputs": [],
      "source": [
        "L = [1,2,3]\n"
      ]
    },
    {
      "cell_type": "code",
      "source": [
        "class Atm:\n",
        "\n",
        "  # constructor(special function)->superpower ->\n",
        "  def __init__(self):\n",
        "    print(id(self))\n",
        "    self.pin = ''\n",
        "    self.bal = 0\n",
        "    # self.menu()\n",
        "\n",
        "  def menu(self):\n",
        "    user_input = input(\"\"\"\n",
        "      1. Press 1 to create pin\n",
        "      2. Press 2 to change pin\n",
        "      3. Press 3 to check balance\n",
        "      4. Press 4 to withdraw\n",
        "      5. Anything else to exit\n",
        "    \"\"\")\n",
        "\n",
        "    if user_input == '1':\n",
        "      self.create_pin()\n",
        "    elif user_input == '2':\n",
        "      self.change_pin()\n",
        "    elif user_input == '3':\n",
        "      self.check_bal()\n",
        "    elif user_input == '4':\n",
        "      self.withdraw()\n",
        "    else:\n",
        "      exit()\n",
        "\n",
        "\n",
        "  def create_pin(self):\n",
        "    self.pin = input(\"Enter the Pin : \")\n",
        "    self.bal = int(input(\"Enter the Balance : \"))\n",
        "    print(\"Pin Set Successfully\")\n",
        "    self.menu()\n",
        "\n",
        "  def change_pin(self):\n",
        "    old_pin = input(\"Enter the old pin : \")\n",
        "\n",
        "    if old_pin == self.pin:\n",
        "      self.pin = input(\"Enter the new pin : \")\n",
        "      print(\"Pin set successfully\")\n",
        "    else:\n",
        "      print(\"Incorrect Pin \")\n",
        "    self.menu()\n",
        "\n",
        "  def check_bal(self):\n",
        "    user_pin = input('Enter your pin : ')\n",
        "    if user_pin == self.pin:\n",
        "      print('Your balance is ', self.bal)\n",
        "    else:\n",
        "      print('Incorrect Pin')\n",
        "    self.menu()\n",
        "\n",
        "  def withdraw(self):\n",
        "    user_pin = input('Enter the pin : ')\n",
        "    if user_pin == self.pin:\n",
        "      # allow to withdraw\n",
        "      amount = int(input('Enter the amount : '))\n",
        "      if amount <= self.bal:\n",
        "        self.bal = self.bal - amount\n",
        "        print('Withdrawl successful, balance is',self.bal)\n",
        "      else:\n",
        "        print('Insufficient Balance')\n",
        "    else:\n",
        "      print('Invalid pin')\n",
        "    self.menu()\n",
        "\n"
      ],
      "metadata": {
        "id": "K3AS04rBilMq"
      },
      "execution_count": 4,
      "outputs": []
    },
    {
      "cell_type": "code",
      "source": [
        "obj1 = Atm()"
      ],
      "metadata": {
        "colab": {
          "base_uri": "https://localhost:8080/"
        },
        "id": "HOfxYaadgyt6",
        "outputId": "165891cd-0311-4aee-a605-06081accd378"
      },
      "execution_count": 5,
      "outputs": [
        {
          "output_type": "stream",
          "name": "stdout",
          "text": [
            "139605661195088\n"
          ]
        }
      ]
    },
    {
      "cell_type": "code",
      "source": [
        "id(obj1)"
      ],
      "metadata": {
        "colab": {
          "base_uri": "https://localhost:8080/"
        },
        "id": "JeGq88KTQ0FZ",
        "outputId": "632ac0e8-e6e3-4524-e54f-f14332a6d9c5"
      },
      "execution_count": 7,
      "outputs": [
        {
          "output_type": "execute_result",
          "data": {
            "text/plain": [
              "139605661195088"
            ]
          },
          "metadata": {},
          "execution_count": 7
        }
      ]
    },
    {
      "cell_type": "code",
      "source": [
        "obj2 = Atm()"
      ],
      "metadata": {
        "colab": {
          "base_uri": "https://localhost:8080/"
        },
        "id": "eMba82CTP4IK",
        "outputId": "fda99a36-2001-467c-9072-89f8fc977974"
      },
      "execution_count": 6,
      "outputs": [
        {
          "output_type": "stream",
          "name": "stdout",
          "text": [
            "139605661193744\n"
          ]
        }
      ]
    },
    {
      "cell_type": "code",
      "source": [
        "id(obj2)"
      ],
      "metadata": {
        "colab": {
          "base_uri": "https://localhost:8080/"
        },
        "id": "eXkPVEvVQ6MS",
        "outputId": "bc9e94fc-866b-4342-f59b-6bde0f319854"
      },
      "execution_count": 8,
      "outputs": [
        {
          "output_type": "execute_result",
          "data": {
            "text/plain": [
              "139605661193744"
            ]
          },
          "metadata": {},
          "execution_count": 8
        }
      ]
    },
    {
      "cell_type": "code",
      "source": [
        "L = [1,2,3]\n",
        "len(L) # function ->bcos it is outside the list class\n",
        "L.append(5)# method -> bcos it is inside the list class"
      ],
      "metadata": {
        "id": "RyorU_tcRCQF"
      },
      "execution_count": 10,
      "outputs": []
    },
    {
      "cell_type": "code",
      "source": [
        "class Temp:\n",
        "\n",
        "  def __init__(self):\n",
        "    print('hello')\n",
        "\n",
        "obj = Temp()"
      ],
      "metadata": {
        "colab": {
          "base_uri": "https://localhost:8080/"
        },
        "id": "hv6C5iZZRCgJ",
        "outputId": "f538ba2b-36d1-47d8-9c60-c2c8efc6bf32"
      },
      "execution_count": 11,
      "outputs": [
        {
          "output_type": "stream",
          "name": "stdout",
          "text": [
            "hello\n"
          ]
        }
      ]
    },
    {
      "cell_type": "code",
      "source": [
        "class Fraction:\n",
        "\n",
        "  # parameterized constructor\n",
        "  def __init__(self,x,y):\n",
        "    self.num = x\n",
        "    self.den = y\n",
        "\n",
        "  def __str__(self):\n",
        "    return '{}/{}'.format(self.num,self.den)\n",
        "\n",
        "  def __add__(self,other):\n",
        "    new_num = self.num*other.den + other.num*self.den\n",
        "    new_den = self.den*other.den\n",
        "\n",
        "    return '{}/{}'.format(new_num,new_den)\n",
        "\n",
        "  def __sub__(self,other):\n",
        "    new_num = self.num*other.den - other.num*self.den\n",
        "    new_den = self.den*other.den\n",
        "\n",
        "    return '{}/{}'.format(new_num,new_den)\n",
        "\n",
        "  def __mul__(self,other):\n",
        "    new_num = self.num*other.num\n",
        "    new_den = self.den*other.den\n",
        "\n",
        "    return '{}/{}'.format(new_num,new_den)\n",
        "\n",
        "  def __truediv__(self,other):\n",
        "    new_num = self.num*other.den\n",
        "    new_den = self.den*other.num\n",
        "\n",
        "    return '{}/{}'.format(new_num,new_den)\n",
        "\n",
        "  def convert_to_decimal(self):\n",
        "    return self.num/self.den\n",
        "\n",
        "\n",
        "\n",
        "\n"
      ],
      "metadata": {
        "id": "GIDYdPxMRCi9"
      },
      "execution_count": 12,
      "outputs": []
    },
    {
      "cell_type": "code",
      "source": [
        "fr1 = Fraction(3,4)\n",
        "fr2 = Fraction(1,2)"
      ],
      "metadata": {
        "id": "MeJxHfAvRCmp"
      },
      "execution_count": 13,
      "outputs": []
    },
    {
      "cell_type": "code",
      "source": [
        "print(fr1 + fr2)\n",
        "print(fr1 - fr2)\n",
        "print(fr1 * fr2)\n",
        "print(fr1 / fr2)"
      ],
      "metadata": {
        "colab": {
          "base_uri": "https://localhost:8080/"
        },
        "id": "F1DKAEL_RgcC",
        "outputId": "e697761d-61af-4099-d343-7e0079559e86"
      },
      "execution_count": 14,
      "outputs": [
        {
          "output_type": "stream",
          "name": "stdout",
          "text": [
            "10/8\n",
            "2/8\n",
            "3/8\n",
            "6/4\n"
          ]
        }
      ]
    }
  ]
}