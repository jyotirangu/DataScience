{
  "nbformat": 4,
  "nbformat_minor": 0,
  "metadata": {
    "colab": {
      "provenance": [],
      "authorship_tag": "ABX9TyM5A/9zaRp3FUECQZXO5DKQ",
      "include_colab_link": true
    },
    "kernelspec": {
      "name": "python3",
      "display_name": "Python 3"
    },
    "language_info": {
      "name": "python"
    }
  },
  "cells": [
    {
      "cell_type": "markdown",
      "metadata": {
        "id": "view-in-github",
        "colab_type": "text"
      },
      "source": [
        "<a href=\"https://colab.research.google.com/github/jyotirangu/DataScience/blob/main/00_Basics/4_Task3_Generator_Decorator_Iterator.ipynb\" target=\"_parent\"><img src=\"https://colab.research.google.com/assets/colab-badge.svg\" alt=\"Open In Colab\"/></a>"
      ]
    },
    {
      "cell_type": "markdown",
      "source": [
        "## Namespace and Scope"
      ],
      "metadata": {
        "id": "7faE0W61ZppD"
      }
    },
    {
      "cell_type": "markdown",
      "source": [
        "### `Q1:` Write `Person` Class as given below and then display it's namespace.\n",
        "\n"
      ],
      "metadata": {
        "id": "72PqYgCtZtGG"
      }
    },
    {
      "cell_type": "markdown",
      "source": [
        "```\n",
        "Class Name - Person\n",
        "\n",
        "Attributes:\n",
        "name - public\n",
        "state - public\n",
        "city - private\n",
        "age - private\n",
        "\n",
        "Methods:\n",
        "address - public\n",
        "It give address of the person as \"<name>, <city>, <state>\"\n",
        "```"
      ],
      "metadata": {
        "id": "eWcxnKzPZvft"
      }
    },
    {
      "cell_type": "code",
      "source": [
        "class Person:\n",
        "  def __init__(self,name,state):\n",
        "    self.name = name\n",
        "    self.state = state\n",
        "    self.__city = None\n",
        "    self.__age = None\n",
        "\n",
        "  def set_city(self,city):\n",
        "    self.__city = city\n",
        "\n",
        "  def get_city(self):\n",
        "    return self.__city\n",
        "\n",
        "  def set_age(self,age):\n",
        "    self.__age = age\n",
        "\n",
        "  def get_age(self):\n",
        "    return self.__age\n",
        "\n",
        "  def address(self):\n",
        "    return f\"{self.name}, {self.__city}, {self.state}\"\n",
        "\n",
        "for i in Person.__dict__:\n",
        "  print(i)\n"
      ],
      "metadata": {
        "colab": {
          "base_uri": "https://localhost:8080/"
        },
        "id": "Wtoma3xUaQ7o",
        "outputId": "98eb0f48-20c5-47b2-85d1-5997517f5535"
      },
      "execution_count": 1,
      "outputs": [
        {
          "output_type": "stream",
          "name": "stdout",
          "text": [
            "__module__\n",
            "__init__\n",
            "set_city\n",
            "get_city\n",
            "set_age\n",
            "get_age\n",
            "address\n",
            "__dict__\n",
            "__weakref__\n",
            "__doc__\n"
          ]
        }
      ]
    },
    {
      "cell_type": "markdown",
      "source": [
        "### `Q2:` Write a program to show namespace of object/instance of above(Person) class."
      ],
      "metadata": {
        "id": "25yjmvErbkWZ"
      }
    },
    {
      "cell_type": "code",
      "execution_count": 2,
      "metadata": {
        "colab": {
          "base_uri": "https://localhost:8080/"
        },
        "id": "Z4LJmZLsZmpI",
        "outputId": "1404472f-1fcb-493b-d718-3bd8b776d597"
      },
      "outputs": [
        {
          "output_type": "stream",
          "name": "stdout",
          "text": [
            "Address :  Jyoti, Hyderabad, Telengana\n",
            "name\n",
            "state\n",
            "_Person__city\n",
            "_Person__age\n"
          ]
        }
      ],
      "source": [
        "p = Person('Jyoti','Telengana')\n",
        "p.set_city('Hyderabad')\n",
        "p.set_age(23)\n",
        "print('Address : ',p.address())\n",
        "\n",
        "for i in p.__dict__:\n",
        "  print(i)"
      ]
    },
    {
      "cell_type": "markdown",
      "source": [
        "### `Q3:` Write a recursive program to to calculate `gcd` and print no. of function calls taken to find the solution.\n",
        "```\n",
        "gcd(5,10) -> result in 5 as gcd and function call 3\n",
        "```"
      ],
      "metadata": {
        "id": "dAoo4myJcJCK"
      }
    },
    {
      "cell_type": "code",
      "source": [
        "counter = 0\n",
        "def gcd(a,b):\n",
        "  global counter\n",
        "  counter += 1\n",
        "  if b == 0:\n",
        "    return a\n",
        "  else:\n",
        "    return gcd(b,a%b)\n",
        "print(gcd(5,10), counter)"
      ],
      "metadata": {
        "colab": {
          "base_uri": "https://localhost:8080/"
        },
        "id": "K409-Q3OfayF",
        "outputId": "9611509f-8c5e-415a-cc75-5aee091eca5d"
      },
      "execution_count": 3,
      "outputs": [
        {
          "output_type": "stream",
          "name": "stdout",
          "text": [
            "5 3\n"
          ]
        }
      ]
    },
    {
      "cell_type": "markdown",
      "source": [
        "## Iterator And Generator"
      ],
      "metadata": {
        "id": "yFLlPwAwcN2C"
      }
    },
    {
      "cell_type": "markdown",
      "source": [
        "### `Q4:` Create MyEnumerate class,\n",
        "Create your own `MyEnumerate` class such that someone can use it instead of enumerate. It will need to return a `tuple` with each iteration, with the first element in the tuple being the `index` (starting with 0) and the second element being the `current element` from the underlying data structure. Trying to use `MyEnumerate` with a noniterable argument will result in an error.\n",
        "\n",
        "```\n",
        "for index, letter in MyEnumerate('abc'):\n",
        "    print(f'{index} : {letter}')\n",
        "```\n",
        "\n",
        "Output:\n",
        "```\n",
        "0 : a\n",
        "1 : b\n",
        "2 : c\n",
        "```"
      ],
      "metadata": {
        "id": "4ypYd4zRcQQr"
      }
    },
    {
      "cell_type": "code",
      "source": [
        "l = [1, 2, 3]\n",
        "iterator = iter(l)\n",
        "next(iterator)"
      ],
      "metadata": {
        "colab": {
          "base_uri": "https://localhost:8080/"
        },
        "id": "kW0A4hWccRXj",
        "outputId": "7402bd6d-bf88-4ef9-adf3-b5ffa3ecbba4"
      },
      "execution_count": 4,
      "outputs": [
        {
          "output_type": "execute_result",
          "data": {
            "text/plain": [
              "1"
            ]
          },
          "metadata": {},
          "execution_count": 4
        }
      ]
    },
    {
      "cell_type": "code",
      "source": [
        "next(iterator)\n"
      ],
      "metadata": {
        "colab": {
          "base_uri": "https://localhost:8080/"
        },
        "id": "5VWt_exNnn-Z",
        "outputId": "12c8f7ce-18aa-45fb-df44-ed8f0e6be838"
      },
      "execution_count": 5,
      "outputs": [
        {
          "output_type": "execute_result",
          "data": {
            "text/plain": [
              "2"
            ]
          },
          "metadata": {},
          "execution_count": 5
        }
      ]
    },
    {
      "cell_type": "code",
      "source": [
        "next(iterator)"
      ],
      "metadata": {
        "colab": {
          "base_uri": "https://localhost:8080/"
        },
        "id": "ZhKYOx_2nqCp",
        "outputId": "bd1819b2-76e3-4813-889c-989f6f63bf09"
      },
      "execution_count": 6,
      "outputs": [
        {
          "output_type": "execute_result",
          "data": {
            "text/plain": [
              "3"
            ]
          },
          "metadata": {},
          "execution_count": 6
        }
      ]
    },
    {
      "cell_type": "code",
      "source": [
        "# alternate solution\n",
        "class MyEnumerateIterator:\n",
        "  def __init__(self, data, max_items):\n",
        "    self.data = data\n",
        "    self.max_items = max_items\n",
        "    self.index = 0\n",
        "\n",
        "  def __next__(self):\n",
        "    if self.index >= self.max_items:\n",
        "      raise StopIteration\n",
        "    value = (self.index, self.data[self.index])\n",
        "    self.index += 1\n",
        "    return value\n",
        "\n",
        "\n",
        "class MyEnumerate:\n",
        "  def __init__(self, data):\n",
        "    self.data = data\n",
        "\n",
        "  def __iter__(self):\n",
        "    return MyEnumerateIterator(self.data, len(self.data))\n",
        "\n",
        "for index, letter in MyEnumerate('abc'):\n",
        "  print(f'{index} : {letter}')\n"
      ],
      "metadata": {
        "colab": {
          "base_uri": "https://localhost:8080/"
        },
        "id": "ALQ1Xp3xnsSw",
        "outputId": "d4e23553-d2fc-4ea9-b8f4-e94546cbe1b7"
      },
      "execution_count": 8,
      "outputs": [
        {
          "output_type": "stream",
          "name": "stdout",
          "text": [
            "0 : a\n",
            "1 : b\n",
            "2 : c\n"
          ]
        }
      ]
    },
    {
      "cell_type": "code",
      "source": [
        "class MyEnumerate:\n",
        "  def __init__(self, data):\n",
        "    self.data = data\n",
        "    self.index = 0\n",
        "\n",
        "  def __iter__(self):\n",
        "    return MyEnumerateIterator(self.data, len(self.data))\n",
        "\n",
        "  def __next__(self):\n",
        "    if self.index >= len(self.data):\n",
        "      raise StopIteration\n",
        "    value = (self.index, self.data[self.index])\n",
        "    self.index += 1\n",
        "    return value\n",
        "\n",
        "for index, letter in MyEnumerate('abc'):\n",
        "  print(f'{index} : {letter}')"
      ],
      "metadata": {
        "colab": {
          "base_uri": "https://localhost:8080/"
        },
        "id": "5k_cRi_XplbI",
        "outputId": "36f0862d-71e5-45bc-9df1-676f41d1d441"
      },
      "execution_count": 9,
      "outputs": [
        {
          "output_type": "stream",
          "name": "stdout",
          "text": [
            "0 : a\n",
            "1 : b\n",
            "2 : c\n"
          ]
        }
      ]
    },
    {
      "cell_type": "markdown",
      "source": [
        "### `Q5:` Iterate in circle\n",
        "Define a class, `Circle`, that takes two arguments when defined: a sequence and a number. The idea is that the object will then return elements the defined number of times. If the number is greater than the number of elements, then the sequence  repeats as necessary. You can define an another class used as a helper (like I call `CircleIterator`).\n",
        "\n",
        "```\n",
        "c = Circle('abc', 5)\n",
        "d = Circle('abc', 7)\n",
        "print(list(c))\n",
        "print(list(d))\n",
        "```\n",
        "\n",
        "Output\n",
        "```\n",
        "[a, b, c, a, b]\n",
        "[a, b, c, a, b, c, a]\n",
        "```"
      ],
      "metadata": {
        "id": "3FXX4Fg0cT4w"
      }
    },
    {
      "cell_type": "code",
      "source": [
        "class Circle:\n",
        "  def __init__(self,data,max_items):\n",
        "    self.data = data\n",
        "    self.index = 0\n",
        "    self.max_items = max_items\n",
        "\n",
        "  def __iter__(self):\n",
        "    return self\n",
        "\n",
        "  def __next__(self):\n",
        "    if self.index == self.max_items:\n",
        "      raise StopIteration\n",
        "    value = self.data[self.index % len(self.data)]\n",
        "    self.index += 1\n",
        "    return value\n",
        "\n",
        "c = Circle('abc', 5)\n",
        "d = Circle('abc', 7)\n",
        "print(list(c))\n",
        "print(list(d))"
      ],
      "metadata": {
        "colab": {
          "base_uri": "https://localhost:8080/"
        },
        "id": "-TiPpm6ccVAk",
        "outputId": "7526d232-d3be-4d5e-e46b-09676ee0544b"
      },
      "execution_count": 11,
      "outputs": [
        {
          "output_type": "stream",
          "name": "stdout",
          "text": [
            "['a', 'b', 'c', 'a', 'b']\n",
            "['a', 'b', 'c', 'a', 'b', 'c', 'a']\n"
          ]
        }
      ]
    },
    {
      "cell_type": "markdown",
      "source": [
        "### `Q6:` Generator time elapsed\n",
        "Write a generator function whose argument must be iterable. With each iteration, the generator will return a two-element tuple. The first element in the tuple will be an integer indicating how many seconds have passed since the previous iteration. The tuple’s second element will be the next item from the passed argument.\n",
        "\n",
        "Note that the timing should be relative to the previous iteration, not when the\n",
        "generator was first created or invoked. Thus the timing number in the first iteration\n",
        "will be 0\n",
        "\n",
        "```\n",
        "for t in elapsed_since('abcd'):\n",
        "    print(t)\n",
        "    time.sleep(2)\n",
        "```\n",
        "\n",
        "Output:\n",
        "```\n",
        "(0.0, 'a')\n",
        "(2.005651817999933, 'b')\n",
        "(2.0023095009998997, 'c')\n",
        "(2.001949742000079, 'd')\n",
        "```\n",
        "Note: Your output may differ because of diffrent system has different processing configuration.\n"
      ],
      "metadata": {
        "id": "DXE1EpOyqX5k"
      }
    },
    {
      "cell_type": "code",
      "source": [
        "import time\n",
        "\n",
        "def elapsed_since(data):\n",
        "  last_time = time.perf_counter()\n",
        "  for item in data:\n",
        "    current_time = time.perf_counter()\n",
        "    delta = current_time- last_time\n",
        "    yield(delta, item)\n",
        "\n",
        "for t in elapsed_since('abcd'):\n",
        "  print(t)\n",
        "  time.sleep(2)\n"
      ],
      "metadata": {
        "colab": {
          "base_uri": "https://localhost:8080/"
        },
        "id": "qKJqD4ULqZUG",
        "outputId": "1772f92a-3452-43db-f573-f8eb80345048"
      },
      "execution_count": 12,
      "outputs": [
        {
          "output_type": "stream",
          "name": "stdout",
          "text": [
            "(1.1100000847363845e-06, 'a')\n",
            "(2.0001571679995322, 'b')\n",
            "(4.000339374999385, 'c')\n",
            "(6.000550863999706, 'd')\n"
          ]
        }
      ]
    },
    {
      "cell_type": "markdown",
      "source": [
        "## Decorators"
      ],
      "metadata": {
        "id": "DfNfGk4EqeeG"
      }
    },
    {
      "cell_type": "markdown",
      "source": [
        "### `Q7:` Write a Python program to make a chain of function decorators (bold, italic, underline etc.) on a given function which prints \"hello world\"\n",
        "\n",
        "```\n",
        "def hello():\n",
        "    return \"hello world\"\n",
        "```\n",
        "\n",
        "```\n",
        "bold - wrap string with <b> tag. <b>Str</b>\n",
        "italic - wrap string with <i> tag. <i>Str</i>\n",
        "underline- wrap string with <u> tag. <u>Str</u>\n",
        "```"
      ],
      "metadata": {
        "id": "KYtmQv8AqfYm"
      }
    },
    {
      "cell_type": "code",
      "source": [
        "def make_bold(func):\n",
        "  def wrapped():\n",
        "    return '<b>'+ func() + \"</b>\"\n",
        "  return wrapped\n",
        "\n",
        "def make_italic(func):\n",
        "  def wrapped():\n",
        "    return '<i>'+ func() + \"</i>\"\n",
        "  return wrapped\n",
        "\n",
        "def make_underline(func):\n",
        "  def wrapped():\n",
        "    return '<u>'+ func() + \"</u>\"\n",
        "  return wrapped\n",
        "\n",
        "\n",
        "@make_bold\n",
        "@make_italic\n",
        "@make_underline\n",
        "def hello():\n",
        "  return 'hello world'\n",
        "\n",
        "print(hello())"
      ],
      "metadata": {
        "colab": {
          "base_uri": "https://localhost:8080/"
        },
        "id": "K_SgfGhbqkGk",
        "outputId": "5c138e52-750c-487f-9285-35a89d2b4945"
      },
      "execution_count": 14,
      "outputs": [
        {
          "output_type": "stream",
          "name": "stdout",
          "text": [
            "<b><i><u>hello world</u></i></b>\n"
          ]
        }
      ]
    },
    {
      "cell_type": "markdown",
      "source": [
        "### `Q8:` Write a decorator called `printer` which causes any decorated function to print their return values. If the return value of a given function is `None`, printer should do nothing.\n",
        "\n"
      ],
      "metadata": {
        "id": "9o6lUDFtqkjP"
      }
    },
    {
      "cell_type": "code",
      "source": [
        "from functools import wraps\n",
        "\n",
        "def printer(func):\n",
        "  @wraps(func)\n",
        "  def inner(*args, **kwargs):\n",
        "    return_value = func(*args, **kwargs)\n",
        "    if return_value is not None:\n",
        "      print(return_value)\n",
        "    return return_value\n",
        "  return inner\n",
        "\n",
        "@printer\n",
        "def hello(string):\n",
        "  return string\n",
        "\n",
        "hello('hello')"
      ],
      "metadata": {
        "colab": {
          "base_uri": "https://localhost:8080/",
          "height": 53
        },
        "id": "BmLHk8W1qoAn",
        "outputId": "2bea364f-4a21-4f84-9ae5-954142f9110b"
      },
      "execution_count": 21,
      "outputs": [
        {
          "output_type": "stream",
          "name": "stdout",
          "text": [
            "hello\n"
          ]
        },
        {
          "output_type": "execute_result",
          "data": {
            "text/plain": [
              "'hello'"
            ],
            "application/vnd.google.colaboratory.intrinsic+json": {
              "type": "string"
            }
          },
          "metadata": {},
          "execution_count": 21
        }
      ]
    },
    {
      "cell_type": "code",
      "source": [
        "help(hello)"
      ],
      "metadata": {
        "colab": {
          "base_uri": "https://localhost:8080/"
        },
        "id": "qw-VdnK_vgtz",
        "outputId": "51c65aa2-095e-4ead-d59a-3490a8431e11"
      },
      "execution_count": 22,
      "outputs": [
        {
          "output_type": "stream",
          "name": "stdout",
          "text": [
            "Help on function hello in module __main__:\n",
            "\n",
            "hello(string)\n",
            "\n"
          ]
        }
      ]
    },
    {
      "cell_type": "markdown",
      "source": [
        "### `Q9:` Make a decorator which calls a given function twice. You can assume the functions don't return anything important, but they may take arguments.\n",
        "```\n",
        "#Lets say given function\n",
        "def hello(string):\n",
        "    print(string)\n",
        "\n",
        "#on calling after specified decorator is inplaced\n",
        "hello('hello')\n",
        "```\n",
        "\n",
        "Output:\n",
        "```\n",
        "hello\n",
        "hello\n",
        "```"
      ],
      "metadata": {
        "id": "7ZKE9xKWqq1c"
      }
    },
    {
      "cell_type": "code",
      "source": [
        "#Write your cod here\n",
        "def double(func):\n",
        "    @wraps(func)\n",
        "    def inner(*args, **kwargs):\n",
        "        func(*args, **kwargs)\n",
        "        func(*args, **kwargs)\n",
        "    return inner\n",
        "@double\n",
        "def hello(string):\n",
        "    print(string)\n",
        "\n",
        "hello(\"hello\")"
      ],
      "metadata": {
        "colab": {
          "base_uri": "https://localhost:8080/"
        },
        "id": "nNYBnMoLquik",
        "outputId": "c973b520-1821-4ec7-fc46-ec00ff2f8573"
      },
      "execution_count": 24,
      "outputs": [
        {
          "output_type": "stream",
          "name": "stdout",
          "text": [
            "hello\n",
            "hello\n"
          ]
        }
      ]
    },
    {
      "cell_type": "markdown",
      "source": [
        "### `Q10:` Write a decorator which doubles the return value of any function. And test that decoratos is working correctly or not using `asert`.\n",
        "\n",
        "```\n",
        "add(2,3) -> result in 10. Without decorator it should be 5.\n",
        "```"
      ],
      "metadata": {
        "id": "Zzi0GQkGqu_S"
      }
    },
    {
      "cell_type": "code",
      "source": [
        "# Write your code here\n",
        "def double(func):\n",
        "    @wraps(func)\n",
        "    def inner(*args, **kwargs):\n",
        "        return func(*args, **kwargs) * 2\n",
        "    return inner\n",
        "@double\n",
        "def add_withDeco(a,b):\n",
        "    return a+b\n",
        "\n",
        "def add(a,b):\n",
        "    return a+b\n",
        "\n",
        "a=2\n",
        "b=3\n",
        "assert add(a,b)*2 == add_withDeco(a,b), \"Values are not matching\"\n",
        "print(\"Values are matching\")"
      ],
      "metadata": {
        "colab": {
          "base_uri": "https://localhost:8080/"
        },
        "id": "Mf31xPNJwaqv",
        "outputId": "789679f4-439d-4447-88dc-7d69c39b9fe5"
      },
      "execution_count": 23,
      "outputs": [
        {
          "output_type": "stream",
          "name": "stdout",
          "text": [
            "Values are matching\n"
          ]
        }
      ]
    }
  ]
}