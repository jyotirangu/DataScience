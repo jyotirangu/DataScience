{
  "nbformat": 4,
  "nbformat_minor": 0,
  "metadata": {
    "colab": {
      "provenance": [],
      "authorship_tag": "ABX9TyMhR7k0qJYSPBgzLndqIhiP",
      "include_colab_link": true
    },
    "kernelspec": {
      "name": "python3",
      "display_name": "Python 3"
    },
    "language_info": {
      "name": "python"
    }
  },
  "cells": [
    {
      "cell_type": "markdown",
      "metadata": {
        "id": "view-in-github",
        "colab_type": "text"
      },
      "source": [
        "<a href=\"https://colab.research.google.com/github/jyotirangu/DataScience/blob/main/8_OOP_Concepts/OOP5_KeyPoints.ipynb\" target=\"_parent\"><img src=\"https://colab.research.google.com/assets/colab-badge.svg\" alt=\"Open In Colab\"/></a>"
      ]
    },
    {
      "cell_type": "code",
      "execution_count": 4,
      "metadata": {
        "colab": {
          "base_uri": "https://localhost:8080/"
        },
        "id": "bZZGKZIGGkWc",
        "outputId": "26b40fdf-2851-4742-c1f3-ebe572f4ba83"
      },
      "outputs": [
        {
          "output_type": "stream",
          "name": "stdout",
          "text": [
            "[('Santosh', 45), ('ankit', 31), ('ankita', 40)]\n",
            "[('ankit', 31), ('ankita', 40), ('Santosh', 45)]\n",
            "[('Santosh', 45), ('ankita', 40), ('ankit', 31)]\n"
          ]
        }
      ],
      "source": [
        "# enumerate\n",
        "# The enumerate() method adds a counter to an iterable and returns it (the enumerate object).\n",
        "L = [('Santosh',45),('ankit',31),('ankita',40)]\n",
        "\n",
        "# to arrange the list items in decesending order with respect to it number\n",
        "print(sorted(L))\n",
        "# It sorted on the basis of the first value\n",
        "print(sorted(L,key=lambda x:x[1]))\n",
        "# However we want it in decesending order\n",
        "print(sorted(L,key=lambda x:x[1],reverse=True))\n"
      ]
    },
    {
      "cell_type": "code",
      "source": [
        "L = [15,21,13,13]\n",
        "sorted(list(enumerate(L)),reverse=True)"
      ],
      "metadata": {
        "colab": {
          "base_uri": "https://localhost:8080/"
        },
        "id": "-f9SlUr5Hta0",
        "outputId": "4e46ca3d-f0fb-4fcf-a0c9-726eb5bcc5e5"
      },
      "execution_count": 5,
      "outputs": [
        {
          "output_type": "execute_result",
          "data": {
            "text/plain": [
              "[(3, 13), (2, 13), (1, 21), (0, 15)]"
            ]
          },
          "metadata": {},
          "execution_count": 5
        }
      ]
    },
    {
      "cell_type": "code",
      "source": [
        "# destructor\n",
        "class Example:\n",
        "\n",
        "  def __init__(self):\n",
        "    print('constructor called')\n",
        "\n",
        "  # destructor\n",
        "  def __del__(self):\n",
        "    print('destructor called')\n",
        "\n",
        "obj = Example()\n",
        "a = obj\n",
        "del obj\n",
        "del a"
      ],
      "metadata": {
        "colab": {
          "base_uri": "https://localhost:8080/"
        },
        "id": "mephIynvImfX",
        "outputId": "3d9da163-4148-47bb-8d2d-7229de1f7055"
      },
      "execution_count": 6,
      "outputs": [
        {
          "output_type": "stream",
          "name": "stdout",
          "text": [
            "constructor called\n",
            "destructor called\n"
          ]
        }
      ]
    },
    {
      "cell_type": "code",
      "source": [
        "# dir\n",
        "\n",
        "class Test:\n",
        "    def __init__(self):\n",
        "        self.foo = 11\n",
        "        self._bar = 23\n",
        "        self.__baz = 23\n",
        "\n",
        "    def greet(self):\n",
        "      print('hello')\n",
        "\n",
        "t = Test()\n",
        "print(dir(t)) # This gives us a list with the object’s attributes"
      ],
      "metadata": {
        "colab": {
          "base_uri": "https://localhost:8080/"
        },
        "id": "KehlDJjqLBQV",
        "outputId": "aae28eaa-3592-4b77-be30-af6139cdd1bb"
      },
      "execution_count": 7,
      "outputs": [
        {
          "output_type": "stream",
          "name": "stdout",
          "text": [
            "['_Test__baz', '__class__', '__delattr__', '__dict__', '__dir__', '__doc__', '__eq__', '__format__', '__ge__', '__getattribute__', '__getstate__', '__gt__', '__hash__', '__init__', '__init_subclass__', '__le__', '__lt__', '__module__', '__ne__', '__new__', '__reduce__', '__reduce_ex__', '__repr__', '__setattr__', '__sizeof__', '__str__', '__subclasshook__', '__weakref__', '_bar', 'foo', 'greet']\n"
          ]
        }
      ]
    },
    {
      "cell_type": "code",
      "source": [
        "# isinstance\n",
        "\n",
        "class Example:\n",
        "\n",
        "  def __init__(self):\n",
        "    print('hello')\n",
        "\n",
        "obj = Example()\n",
        "\n",
        "isinstance(obj,Example)"
      ],
      "metadata": {
        "colab": {
          "base_uri": "https://localhost:8080/"
        },
        "id": "8RhM8acmMkjD",
        "outputId": "bbe99a8e-e955-4c12-dccc-6d7d7cb81d33"
      },
      "execution_count": 8,
      "outputs": [
        {
          "output_type": "stream",
          "name": "stdout",
          "text": [
            "hello\n"
          ]
        },
        {
          "output_type": "execute_result",
          "data": {
            "text/plain": [
              "True"
            ]
          },
          "metadata": {},
          "execution_count": 8
        }
      ]
    },
    {
      "cell_type": "code",
      "source": [
        "# The diamond problem\n",
        "class Class1:\n",
        "    def m(self):\n",
        "        print(\"In Class1\")\n",
        "\n",
        "class Class2(Class1):\n",
        "    def m(self):\n",
        "        print(\"In Class2\")\n",
        "\n",
        "class Class3(Class1):\n",
        "    def m(self):\n",
        "        print(\"In Class3\")\n",
        "\n",
        "class Class4(Class3, Class2):\n",
        "    pass\n",
        "\n",
        "obj = Class4()\n",
        "obj.m()\n",
        "# MRO"
      ],
      "metadata": {
        "colab": {
          "base_uri": "https://localhost:8080/"
        },
        "id": "oTDAdBgAOxDj",
        "outputId": "37f5d9ea-7f6d-409c-9606-19ab4968eeb4"
      },
      "execution_count": 9,
      "outputs": [
        {
          "output_type": "stream",
          "name": "stdout",
          "text": [
            "In Class3\n"
          ]
        }
      ]
    },
    {
      "cell_type": "code",
      "source": [
        "# repr and other magic/dunder methods\n",
        "\n",
        "a = 'hello'\n",
        "\n",
        "print(str(a))\n",
        "print(repr(a))"
      ],
      "metadata": {
        "colab": {
          "base_uri": "https://localhost:8080/"
        },
        "id": "BFPYruR0RalN",
        "outputId": "dfea72b3-fef1-48eb-dc63-2425ce4412f7"
      },
      "execution_count": 10,
      "outputs": [
        {
          "output_type": "stream",
          "name": "stdout",
          "text": [
            "hello\n",
            "'hello'\n"
          ]
        }
      ]
    },
    {
      "cell_type": "code",
      "source": [
        "import datetime\n",
        "\n",
        "a = datetime.datetime.now()\n",
        "b = str(a)\n",
        "\n",
        "print(str(a))\n",
        "print(str(b))\n",
        "\n",
        "print(repr(a))\n",
        "print(repr(b))"
      ],
      "metadata": {
        "colab": {
          "base_uri": "https://localhost:8080/"
        },
        "id": "tpD44NfIReFc",
        "outputId": "180e6152-7aff-4742-c775-3c7a6f9fdce7"
      },
      "execution_count": 11,
      "outputs": [
        {
          "output_type": "stream",
          "name": "stdout",
          "text": [
            "2025-06-16 10:25:38.049766\n",
            "2025-06-16 10:25:38.049766\n",
            "datetime.datetime(2025, 6, 16, 10, 25, 38, 49766)\n",
            "'2025-06-16 10:25:38.049766'\n"
          ]
        }
      ]
    },
    {
      "cell_type": "markdown",
      "source": [
        "In summary\n",
        "\n",
        "*   str is for users -> meant to be more readable\n",
        "*   repr is for developers for debugging - > for being unambigous\n"
      ],
      "metadata": {
        "id": "NPWtgtGLRhaf"
      }
    },
    {
      "cell_type": "code",
      "source": [
        "# how objects are stored even though they are mutable\n",
        "# https://stackoverflow.com/questions/31340756/python-why-can-i-put-mutable-object-in-a-dict-or-set\n",
        "class A:\n",
        "\n",
        "  def __init__(self):\n",
        "    print('constructor')\n",
        "\n",
        "  def hello(self):\n",
        "    print('hello')\n",
        "\n",
        "a = A()\n",
        "a.hello()\n",
        "s = {a}\n",
        "print(s)\n",
        "dir(a)"
      ],
      "metadata": {
        "colab": {
          "base_uri": "https://localhost:8080/"
        },
        "id": "ncFHxM2MRsFx",
        "outputId": "a5ef955c-11ee-4a9e-fa35-8b532de90ba1"
      },
      "execution_count": 12,
      "outputs": [
        {
          "output_type": "stream",
          "name": "stdout",
          "text": [
            "constructor\n",
            "hello\n",
            "{<__main__.A object at 0x7bf2a3a31d50>}\n"
          ]
        },
        {
          "output_type": "execute_result",
          "data": {
            "text/plain": [
              "['__class__',\n",
              " '__delattr__',\n",
              " '__dict__',\n",
              " '__dir__',\n",
              " '__doc__',\n",
              " '__eq__',\n",
              " '__format__',\n",
              " '__ge__',\n",
              " '__getattribute__',\n",
              " '__getstate__',\n",
              " '__gt__',\n",
              " '__hash__',\n",
              " '__init__',\n",
              " '__init_subclass__',\n",
              " '__le__',\n",
              " '__lt__',\n",
              " '__module__',\n",
              " '__ne__',\n",
              " '__new__',\n",
              " '__reduce__',\n",
              " '__reduce_ex__',\n",
              " '__repr__',\n",
              " '__setattr__',\n",
              " '__sizeof__',\n",
              " '__str__',\n",
              " '__subclasshook__',\n",
              " '__weakref__',\n",
              " 'hello']"
            ]
          },
          "metadata": {},
          "execution_count": 12
        }
      ]
    },
    {
      "cell_type": "code",
      "source": [
        "class A:\n",
        "\n",
        "  def __init__(self):\n",
        "    print('constructor')\n",
        "\n",
        "  def __eq__(self):\n",
        "    pass\n",
        "\n",
        "  def __hash__(self):\n",
        "    return 1\n",
        "\n",
        "  def hello(self):\n",
        "    print('hello')\n",
        "\n",
        "a = A()\n",
        "a.hello()\n",
        "s = {a}\n",
        "print(s)\n",
        "\n",
        "dir(a)\n",
        "\n"
      ],
      "metadata": {
        "colab": {
          "base_uri": "https://localhost:8080/"
        },
        "id": "jLs2LWtVTnes",
        "outputId": "7aa403b7-ec7c-4d67-f2c8-78b58256d7df"
      },
      "execution_count": 13,
      "outputs": [
        {
          "output_type": "stream",
          "name": "stdout",
          "text": [
            "constructor\n",
            "hello\n",
            "{<__main__.A object at 0x7bf2a3c1ba90>}\n"
          ]
        },
        {
          "output_type": "execute_result",
          "data": {
            "text/plain": [
              "['__class__',\n",
              " '__delattr__',\n",
              " '__dict__',\n",
              " '__dir__',\n",
              " '__doc__',\n",
              " '__eq__',\n",
              " '__format__',\n",
              " '__ge__',\n",
              " '__getattribute__',\n",
              " '__getstate__',\n",
              " '__gt__',\n",
              " '__hash__',\n",
              " '__init__',\n",
              " '__init_subclass__',\n",
              " '__le__',\n",
              " '__lt__',\n",
              " '__module__',\n",
              " '__ne__',\n",
              " '__new__',\n",
              " '__reduce__',\n",
              " '__reduce_ex__',\n",
              " '__repr__',\n",
              " '__setattr__',\n",
              " '__sizeof__',\n",
              " '__str__',\n",
              " '__subclasshook__',\n",
              " '__weakref__',\n",
              " 'hello']"
            ]
          },
          "metadata": {},
          "execution_count": 13
        }
      ]
    },
    {
      "cell_type": "code",
      "source": [
        "print(L.__hash__)"
      ],
      "metadata": {
        "colab": {
          "base_uri": "https://localhost:8080/"
        },
        "id": "QfASyGM5UB5U",
        "outputId": "5de50e94-4d1e-4b49-fe3c-19fc15fa6b52"
      },
      "execution_count": 16,
      "outputs": [
        {
          "output_type": "stream",
          "name": "stdout",
          "text": [
            "None\n"
          ]
        }
      ]
    },
    {
      "cell_type": "code",
      "source": [
        "hash(1)"
      ],
      "metadata": {
        "colab": {
          "base_uri": "https://localhost:8080/"
        },
        "id": "IyijXkShULP-",
        "outputId": "64f7d229-bff7-44fd-95c2-12c0ec35e85e"
      },
      "execution_count": 17,
      "outputs": [
        {
          "output_type": "execute_result",
          "data": {
            "text/plain": [
              "1"
            ]
          },
          "metadata": {},
          "execution_count": 17
        }
      ]
    },
    {
      "cell_type": "code",
      "source": [
        "hash('hello')"
      ],
      "metadata": {
        "colab": {
          "base_uri": "https://localhost:8080/"
        },
        "id": "TZaAFzbLUOFt",
        "outputId": "c1e25de1-53db-4b3a-a19e-e96b831fe977"
      },
      "execution_count": 18,
      "outputs": [
        {
          "output_type": "execute_result",
          "data": {
            "text/plain": [
              "1503242004440791739"
            ]
          },
          "metadata": {},
          "execution_count": 18
        }
      ]
    },
    {
      "cell_type": "code",
      "source": [
        "hash((1,2,3,))"
      ],
      "metadata": {
        "colab": {
          "base_uri": "https://localhost:8080/"
        },
        "id": "uKVFlsf1URQh",
        "outputId": "a7d2b7a7-9724-43b8-ff7e-4f989969c32c"
      },
      "execution_count": 19,
      "outputs": [
        {
          "output_type": "execute_result",
          "data": {
            "text/plain": [
              "529344067295497451"
            ]
          },
          "metadata": {},
          "execution_count": 19
        }
      ]
    },
    {
      "cell_type": "code",
      "source": [
        "hash([1,2,3])"
      ],
      "metadata": {
        "colab": {
          "base_uri": "https://localhost:8080/",
          "height": 141
        },
        "id": "eswfOh0PUUBN",
        "outputId": "a7c25d46-1908-4767-c3ca-e2c9823586be"
      },
      "execution_count": 20,
      "outputs": [
        {
          "output_type": "error",
          "ename": "TypeError",
          "evalue": "unhashable type: 'list'",
          "traceback": [
            "\u001b[0;31m---------------------------------------------------------------------------\u001b[0m",
            "\u001b[0;31mTypeError\u001b[0m                                 Traceback (most recent call last)",
            "\u001b[0;32m<ipython-input-20-2302361394>\u001b[0m in \u001b[0;36m<cell line: 0>\u001b[0;34m()\u001b[0m\n\u001b[0;32m----> 1\u001b[0;31m \u001b[0mhash\u001b[0m\u001b[0;34m(\u001b[0m\u001b[0;34m[\u001b[0m\u001b[0;36m1\u001b[0m\u001b[0;34m,\u001b[0m\u001b[0;36m2\u001b[0m\u001b[0;34m,\u001b[0m\u001b[0;36m3\u001b[0m\u001b[0;34m]\u001b[0m\u001b[0;34m)\u001b[0m\u001b[0;34m\u001b[0m\u001b[0;34m\u001b[0m\u001b[0m\n\u001b[0m",
            "\u001b[0;31mTypeError\u001b[0m: unhashable type: 'list'"
          ]
        }
      ]
    },
    {
      "cell_type": "markdown",
      "source": [
        "1. What is a decorator in Python?"
      ],
      "metadata": {
        "id": "cWxdUJYzXWZF"
      }
    },
    {
      "cell_type": "markdown",
      "source": [
        "Python offers a unique feature called decorators.\n",
        "\n",
        "Let's start with an analogy before getting to the technical definition of the decorators. When we mention the word \"decorator\", what enters your mind? Well, likely something that adds beauty to an existing object. An example is when we hang a picture frame to a wall to enhance the room.\n",
        "\n",
        "Decorators in Python add some feature or functionality to an existing function without altering it.\n",
        "\n",
        "Let's say we have the following simple function that takes two numbers as parameters and divides them.\n",
        "\n",
        "def divide(first, second):\n",
        "\n",
        "    print (\"The result is:\", first/second)\n",
        "Now if we call this function by passing the two values 16 and 4, it will return the following output:\n",
        "\n",
        "divide(16, 4)\n",
        "The output is:\n",
        "\n",
        "The result is: 4.0\n",
        "\n",
        "\n"
      ],
      "metadata": {
        "id": "wTuCNfgIXjas"
      }
    },
    {
      "cell_type": "code",
      "source": [
        "def divide(first, second):\n",
        "    print (\"The result is:\", first/second)\n",
        "\n",
        "divide(16, 4)"
      ],
      "metadata": {
        "colab": {
          "base_uri": "https://localhost:8080/"
        },
        "id": "rXt3xaGqUdJ4",
        "outputId": "19c4d479-4af6-44d8-9f53-52623860f1dd"
      },
      "execution_count": 21,
      "outputs": [
        {
          "output_type": "stream",
          "name": "stdout",
          "text": [
            "The result is: 4.0\n"
          ]
        }
      ]
    },
    {
      "cell_type": "markdown",
      "source": [
        "What will happen if we pass the number 4 first, and 16 after? The answer will be 0.25. But we don't want it to happen. We want a scenario where if we see that first < second, we swap the numbers and divide them. But we aren't allowed to change the function.\n",
        "\n",
        "Let's create a decorator that will take the function as a parameter. This decorator will add the swipe functionality to our function.\n",
        "\n",
        "def swipe_decorator(func):\n",
        "\n",
        "    def swipe(first, second):\n",
        "        if first < second:\n",
        "            first, second = second, first\n",
        "        return func(first, second)\n",
        "\n",
        "    return swipe\n",
        "Now we have generated a decorator for the divide() function. Let's see how it works.\n",
        "\n",
        "divide = swipe_decorator(divide)\n",
        "\n",
        "divide(4, 16)\n",
        "\n",
        "The output is:\n",
        "\n",
        "The result is: 4.0\n",
        "\n",
        "We have passed the function as a parameter to the decorator. The decorator \"swiped our values\" and returned the function with swiped values. After that, we invoked the returned function to generate the output as expected."
      ],
      "metadata": {
        "id": "VU5cRwLPYWt4"
      }
    },
    {
      "cell_type": "code",
      "source": [
        "# Func refrencinf this divide function\n",
        "def divide(first, second):\n",
        "    print (\"The result is:\", first/second)\n",
        "\n",
        "def swipe_decorator(func):\n",
        "    def swipe(first, second):\n",
        "        if first < second:\n",
        "            first, second = second, first\n",
        "        return func(first, second)\n",
        "    return swipe\n",
        "\n",
        "\n",
        "divide(4, 16) # Undecorated\n",
        "\n",
        "divide = swipe_decorator(divide) # Decorated\n",
        "\n",
        "# Decorated\n",
        "divide(4, 16)"
      ],
      "metadata": {
        "colab": {
          "base_uri": "https://localhost:8080/"
        },
        "id": "OGECz8jaYWNK",
        "outputId": "704b2b6d-36c7-402d-e72d-4fd5472f8a69"
      },
      "execution_count": 22,
      "outputs": [
        {
          "output_type": "stream",
          "name": "stdout",
          "text": [
            "The result is: 0.25\n",
            "The result is: 4.0\n"
          ]
        }
      ]
    },
    {
      "cell_type": "code",
      "source": [
        "def divide(first, second):\n",
        "    print (\"The result is:\", first/second)\n",
        "\n",
        "divide(4,10) # Bigger/smaller"
      ],
      "metadata": {
        "colab": {
          "base_uri": "https://localhost:8080/"
        },
        "id": "ujplIFsgXiou",
        "outputId": "39a09c57-952f-4925-86b2-e23c58f82a26"
      },
      "execution_count": 23,
      "outputs": [
        {
          "output_type": "stream",
          "name": "stdout",
          "text": [
            "The result is: 0.4\n"
          ]
        }
      ]
    },
    {
      "cell_type": "code",
      "source": [
        "# Another way of doing the same thing\n",
        "\n",
        "def swipe_decorator(func):\n",
        "    def swipe(first, second):\n",
        "        if first < second:\n",
        "            first, second = second, first\n",
        "        return func(first, second)\n",
        "    return swipe\n",
        "\n",
        "@swipe_decorator # divide = swipe_decorator(divide)\n",
        "def divide(first, second):\n",
        "    print (\"The result is:\", first/second)\n",
        "\n",
        "\n",
        "\n",
        "divide(4, 16)"
      ],
      "metadata": {
        "colab": {
          "base_uri": "https://localhost:8080/"
        },
        "id": "LrVsDsu0Yrn3",
        "outputId": "1e72bbc7-2eb7-4e5b-859e-15e41a0228bb"
      },
      "execution_count": 24,
      "outputs": [
        {
          "output_type": "stream",
          "name": "stdout",
          "text": [
            "The result is: 4.0\n"
          ]
        }
      ]
    },
    {
      "cell_type": "markdown",
      "source": [
        "2. How can you determine whether a class is a subclass of another class?"
      ],
      "metadata": {
        "id": "iODhHSYoYtkp"
      }
    },
    {
      "cell_type": "markdown",
      "source": [
        "Ans:\n",
        "\n",
        "This is accomplished by utilising a Python function called issubclass(). The function returns true or false depending on if a class is a child of another class, indicating whether it is."
      ],
      "metadata": {
        "id": "e-vLNw8CYwrP"
      }
    },
    {
      "cell_type": "code",
      "source": [
        "class ABC:\n",
        "    pass\n",
        "\n",
        "class PQR(ABC):\n",
        "    pass\n",
        "\n",
        "print(issubclass(ABC, PQR)) # False as ABC is not the child class of PQR\n",
        "print(issubclass(PQR, ABC)) # True as PQR is a child os ABC"
      ],
      "metadata": {
        "colab": {
          "base_uri": "https://localhost:8080/"
        },
        "id": "B9bir1Z2Y0Kf",
        "outputId": "5f1cb149-3f96-4dc4-c55b-9571a6e9a854"
      },
      "execution_count": 25,
      "outputs": [
        {
          "output_type": "stream",
          "name": "stdout",
          "text": [
            "False\n",
            "True\n"
          ]
        }
      ]
    },
    {
      "cell_type": "markdown",
      "source": [
        "\n",
        "3.What does Python's MRO (Method Resolution Order) mean?"
      ],
      "metadata": {
        "id": "wZOTWppBY5dJ"
      }
    },
    {
      "cell_type": "markdown",
      "source": [
        "Ans:\n",
        "\n",
        "Method Resolution Order is referred to as MRO. A class inherits from many classes under multiple inheritance. If we attempt to access a method by building an object from the child class, the methods of the child class are first searched for the method. If the method is not found in the child class, the inheritance classes are searched from left to right.\n",
        "\n",
        "The show method is present in both the Father and Mother classes in the example presented below.\n",
        "\n",
        "In MRO, methods and variables are searched from left to right because while conducting inheritance, Father class is written first and Mother class is written afterwards. So firstly Father class will be searched for show method if found then will get executed if not, Mother class will be searched."
      ],
      "metadata": {
        "id": "v7O6Mr9TY74M"
      }
    },
    {
      "cell_type": "code",
      "source": [
        "# Example code\n",
        "class Father:\n",
        "  def __init__(self):\n",
        "    print('You are in Father Class Constructor')\n",
        "\n",
        "  def show(self):\n",
        "    print(\"Father Class instance Method\")\n",
        "\n",
        "class Mother:\n",
        "  def __init__(self):\n",
        "    print(\"You are in Mother Class Constructor\")\n",
        "\n",
        "  def show(self):\n",
        "    print(\"Mother Class instance Method\")\n",
        "\n",
        "class Son(Father, Mother):\n",
        "    def __init__(self):\n",
        "        print(\"You are in Son Class Constructor\")\n",
        "\n",
        "son = Son()\n",
        "son.show()"
      ],
      "metadata": {
        "colab": {
          "base_uri": "https://localhost:8080/"
        },
        "id": "ldj7c5FSY_Rb",
        "outputId": "92be668c-ed6c-4724-95cc-a36b6ac21553"
      },
      "execution_count": 26,
      "outputs": [
        {
          "output_type": "stream",
          "name": "stdout",
          "text": [
            "You are in Son Class Constructor\n",
            "Father Class instance Method\n"
          ]
        }
      ]
    },
    {
      "cell_type": "markdown",
      "source": [
        "4. What’s the meaning of single and double underscores in Python variable and method names"
      ],
      "metadata": {
        "id": "ZPnSdEGVZCNm"
      }
    },
    {
      "cell_type": "markdown",
      "source": [
        "* Single Leading Underscore: `_var`\n",
        "* Single Trailing Underscore: `var_`\n",
        "* Double Leading Underscore: `__var`\n",
        "* Double Leading and Trailing Underscore: `__var__`\n",
        "* Single Underscore: `_`\n",
        "\n",
        "1. **Single Leading Underscore:** `_var` are a Python naming convention that indicates a name is meant for internal use. It is generally not enforced by the\n",
        "Python interpreter and is only meant as a hint to the programmer.\n",
        "\n",
        " Adding a single underscore in front of a variable name is more like someone putting up a tiny underscore warning sign that says:\n",
        "\n",
        "> “Hey, this isn’t really meant to be a part of the public interface of this class. Best to leave it alone.”"
      ],
      "metadata": {
        "id": "LRMOvnlMZFxd"
      }
    },
    {
      "cell_type": "code",
      "source": [
        "class Test:\n",
        "    def __init__(self):\n",
        "        self.foo = 11\n",
        "        self._bar = 23\n",
        "\n",
        "t = Test()\n",
        "print(t.foo) #Print 11\n",
        "\n",
        "print(t._bar) # Print 23"
      ],
      "metadata": {
        "colab": {
          "base_uri": "https://localhost:8080/"
        },
        "id": "wcOIgtguZP0m",
        "outputId": "d2772384-bcde-48a5-e1e6-ae64e39de2d8"
      },
      "execution_count": 27,
      "outputs": [
        {
          "output_type": "stream",
          "name": "stdout",
          "text": [
            "11\n",
            "23\n"
          ]
        }
      ]
    },
    {
      "cell_type": "markdown",
      "source": [
        "2. **Single Trailing Underscore:** `var_`\n",
        " Sometimes the most fitting name for a variable is already taken by a keyword in the Python language. Therefore, names like class or def cannot be used as variable names in Python. In this case, you can append a single underscore to break the naming conflict:\n",
        "\n"
      ],
      "metadata": {
        "id": "5wNPL14SZTIp"
      }
    },
    {
      "cell_type": "code",
      "source": [
        "def make_object(name, class):\n",
        "    pass"
      ],
      "metadata": {
        "colab": {
          "base_uri": "https://localhost:8080/",
          "height": 106
        },
        "id": "vHgWnaqUZt5v",
        "outputId": "d6e073c0-2c5a-49e2-fe00-f172ce273b69"
      },
      "execution_count": 28,
      "outputs": [
        {
          "output_type": "error",
          "ename": "SyntaxError",
          "evalue": "invalid syntax (<ipython-input-28-295413822>, line 1)",
          "traceback": [
            "\u001b[0;36m  File \u001b[0;32m\"<ipython-input-28-295413822>\"\u001b[0;36m, line \u001b[0;32m1\u001b[0m\n\u001b[0;31m    def make_object(name, class):\u001b[0m\n\u001b[0m                          ^\u001b[0m\n\u001b[0;31mSyntaxError\u001b[0m\u001b[0;31m:\u001b[0m invalid syntax\n"
          ]
        }
      ]
    },
    {
      "cell_type": "code",
      "source": [
        "def make_object(name, class_):\n",
        "    pass"
      ],
      "metadata": {
        "id": "pnsB9lFQZw-D"
      },
      "execution_count": 29,
      "outputs": []
    },
    {
      "cell_type": "markdown",
      "source": [
        "In summary, a single trailing underscore (postfix) is used by convention to avoid naming conflicts with Python keywords. This convention is defined and explained in PEP 8."
      ],
      "metadata": {
        "id": "_Tsk1UChZzpi"
      }
    },
    {
      "cell_type": "markdown",
      "source": [
        "3. **Double Leading Underscore**: `__var`\n",
        "\n",
        "A double underscore prefix causes the Python interpreter to rewrite\n",
        "the attribute name in order to avoid naming conflicts in subclasses.\n",
        "\n",
        "This is also called *name mangling*—the interpreter changes the name\n",
        "of the variable in a way that makes it harder to create collisions when\n",
        "the class is extended later."
      ],
      "metadata": {
        "id": "Kj7CF33XZ5P2"
      }
    },
    {
      "cell_type": "code",
      "source": [
        "class Test:\n",
        "    def __init__(self):\n",
        "        self.foo = 11\n",
        "        self._bar = 23\n",
        "        self.__baz = 23\n",
        "\n",
        "t = Test()\n",
        "print(dir(t)) # This gives us a list with the object’s attributes"
      ],
      "metadata": {
        "colab": {
          "base_uri": "https://localhost:8080/"
        },
        "id": "hDDhqe2MZ9DI",
        "outputId": "12bef28f-67b7-4334-ba73-45ae956f20f5"
      },
      "execution_count": 30,
      "outputs": [
        {
          "output_type": "stream",
          "name": "stdout",
          "text": [
            "['_Test__baz', '__class__', '__delattr__', '__dict__', '__dir__', '__doc__', '__eq__', '__format__', '__ge__', '__getattribute__', '__getstate__', '__gt__', '__hash__', '__init__', '__init_subclass__', '__le__', '__lt__', '__module__', '__ne__', '__new__', '__reduce__', '__reduce_ex__', '__repr__', '__setattr__', '__sizeof__', '__str__', '__subclasshook__', '__weakref__', '_bar', 'foo']\n"
          ]
        }
      ]
    },
    {
      "cell_type": "markdown",
      "source": [
        "```\n",
        "['_Test__baz', '__class__', '__delattr__', '__dict__',\n",
        "'__dir__', '__doc__', '__eq__', '__format__', '__ge__',\n",
        "'__getattribute__', '__gt__', '__hash__', '__init__',\n",
        "'__le__', '__lt__', '__module__', '__ne__', '__new__',\n",
        "'__reduce__', '__reduce_ex__', '__repr__',\n",
        "'__setattr__', '__sizeof__', '__str__',\n",
        "'__subclasshook__', '__weakref__', '_bar', 'foo']\n",
        "```\n",
        "\n",
        "Let’s take this list and look for our original variable names `foo`, `_bar`, and `__baz`. I promise you’ll notice some interesting changes.\n",
        "\n",
        "First of all, the `self.foo` variable appears unmodified as `foo` in the\n",
        "attribute list.\n",
        "\n",
        "Next up, `self._bar` behaves the same way—it shows up on the class\n",
        "as `_bar`. Like I explained before, the leading underscore is just a convention\n",
        "in this case—a hint for the programmer.\n",
        "\n",
        "However, with `self.__baz` things look a little different. When you\n",
        "search for `__baz` in that list, you’ll see that there is no variable with\n",
        "that exact name.\n",
        "\n",
        "So what happened to `__baz`?\n",
        "\n",
        "> If you look closely, you’ll see there’s an attribute called `_Test__baz`\n",
        "on this object. This is the name mangling that the Python interpreter\n",
        "applies. It does this to protect the variable from getting overridden in\n",
        "subclasses.\n",
        "\n",
        "This type of variables also explained in `Private attributes` and `methods` session."
      ],
      "metadata": {
        "id": "WJViVImYaByW"
      }
    },
    {
      "cell_type": "markdown",
      "source": [
        "4. **Double Leading and Trailing Underscore**: `__var__`\n",
        "\n",
        "Double underscores `__` are often referred to as “**dunders**” in the Python\n",
        "community. The reason is that double underscores appear quite often\n",
        "in Python code, and to avoid fatiguing their jaw muscles, Pythonistas\n",
        "often shorten “**double underscore**” to “**dunder**.”\n",
        "\n",
        "The names that have both leading and trailing double underscores are reserved for special use in the language. This rule covers things like `__init__` for object constructors, or `__call__` to make objects callable.\n",
        "\n",
        "These dunder methods are often referred to as magic methods.\n",
        "\n",
        "There are many dunder methods, here are some:-\n",
        "\n",
        "`__str__, __repr__, __call__, __add__, __sub__, __len__` etc.\n",
        "\n"
      ],
      "metadata": {
        "id": "acLWOvZ7aRjb"
      }
    },
    {
      "cell_type": "markdown",
      "source": [
        "5. Single Underscore _: Sometimes used as a name for temporary or insignificant variables (“don’t care). Also, it represents the result of the last expression in a Python REPL session."
      ],
      "metadata": {
        "id": "MtdYkQRWaL4T"
      }
    },
    {
      "cell_type": "markdown",
      "source": [
        "### **`5. What is the difference between OOP and SOP?`**\n",
        "\n",
        "| Object Oriented Programming | Structural Programming|\n",
        "| :-- | :-- |\n",
        "| Object-Oriented Programming is a type of programming which is based on objects rather than just functions and procedures | Provides logical structure to a program where programs are divided functions |\n",
        "| Bottom-up approach | Top-down approach |\n",
        "| Provides data hiding | Does not provide data hiding |\n",
        "| Can solve problems of any complexity | Can solve moderate problems |\n",
        "| Code can be reused thereby reducing redundancy | Does not support code reusability |\n",
        "\n",
        "### **`6. Can you call the base class method without creating an instance?`**\n",
        "\n",
        "Yes, you can call the base class without instantiating it if:\n",
        "- It is a static method\n",
        "- The base class is inherited by some other subclass\n",
        "\n",
        "### **`7. What are the limitations of inheritance?`**\n",
        "\n",
        "- Increases the time and effort required to execute a program as it requires jumping back and forth between different classes.\n",
        "- The parent class and the child class get tightly coupled.\n",
        "- Any modifications to the program would require changes both in the parent as well as the child class\n",
        "- Needs careful implementation else would lead to incorrect results\n",
        "\n",
        "### **`8. What is the difference between range() and xrange()?`**\n",
        "\n",
        "- range() creates a static list that can be iterated through while checking some conditions. This is a function that returns a list with integer sequences.\n",
        "- xrange() is same in functionality as range() but it does not return a list, instead it returns an object of xrange(). xrange() is used in generators for yielding.\n",
        "\n",
        "| range() | xrange() |\n",
        "| :-- | :-- |\n",
        "| In Python 3, xrange() is not supported; instead, the range() function is used to iterate in for loops. | The xrange() function is used in Python 2 to iterate in for loops.\n",
        "| It returns a list. | It returns a generator object as it doesn’t really generate a static list at the run time. |\n",
        "| It takes more memory as it keeps the entire list of iterating numbers in memory. | It takes less memory as it keeps only one number at a time in memory. |"
      ],
      "metadata": {
        "id": "ioQMN4rFbNpH"
      }
    },
    {
      "cell_type": "markdown",
      "source": [
        "### **`9. How to override the way objects are printed?`**\n",
        "\n",
        "Use the `__str__` and the `__repr__` dunder methods.\n",
        "\n",
        "Here’s an example that demonstrates how an instance from the Person class can be nicely formatted when printed to the console."
      ],
      "metadata": {
        "id": "L3LrB9aabmYW"
      }
    },
    {
      "cell_type": "code",
      "source": [
        "class Person:\n",
        "    def __init__(self, first_name, last_name, age):\n",
        "        self.first_name = first_name\n",
        "        self.last_name = last_name\n",
        "        self.age = age\n",
        "\n",
        "    def __str__(self):\n",
        "        return f\"{self.first_name} {self.last_name} ({self.age})\"\n",
        "\n",
        "    def __repr__(self):\n",
        "        return f\"{self.first_name} {self.last_name} ({self.age})\"\n",
        "\n",
        "person = Person(\"John\", \"Doe\", 30) # thanks to __str__\n",
        "person"
      ],
      "metadata": {
        "colab": {
          "base_uri": "https://localhost:8080/"
        },
        "id": "ylxZpuMubpD9",
        "outputId": "3b695574-b043-4ee2-e21b-b0f7d95e228d"
      },
      "execution_count": 31,
      "outputs": [
        {
          "output_type": "execute_result",
          "data": {
            "text/plain": [
              "John Doe (30)"
            ]
          },
          "metadata": {},
          "execution_count": 31
        }
      ]
    },
    {
      "cell_type": "markdown",
      "source": [
        "### **`10. What is the difference between a class method, a static method and an instance method?`**\n",
        "\n"
      ],
      "metadata": {
        "id": "Dod1gj9-bu1b"
      }
    },
    {
      "cell_type": "markdown",
      "source": [
        "Let’s begin by writing a (Python 3) class that contains simple examples\n",
        "for all three method types:\n",
        "```\n",
        "class MyClass:\n",
        "\n",
        "    def method(self):\n",
        "        return 'instance method called', self\n",
        "\n",
        "    @classmethod\n",
        "    def classmethod(cls):\n",
        "        return 'class method called', cls\n",
        "\n",
        "    @staticmethod\n",
        "    def staticmethod():\n",
        "        return 'static method called'\n",
        "```\n",
        "\n",
        "**`Instance Methods`**\n",
        "\n",
        "The first method on `MyClass`, called `method`, is a regular instance method. That’s the basic, no-frills method type you’ll use most of the time. You can see the method takes one parameter, self, which points to an instance of MyClass when the method is called. But of course, instance methods can accept more than just one parameter.\n",
        "\n",
        "Through the self parameter, instance methods can freely access attributes and other methods on the same object. This gives them a lot of power when it comes to modifying an object’s state.\n",
        "\n",
        "Not only can they modify object state, instance methods can also access the class itself through the `self.__class__` attribute. This means instance methods can also modify class state.  This makes instance methods powerful in terms of access restrictions—they can freely modify state on the object instance and on the class itself.\n",
        "\n",
        "\n"
      ],
      "metadata": {
        "id": "pIpdKIZWbv2a"
      }
    },
    {
      "cell_type": "markdown",
      "source": [
        "**`Class Methods`**\n",
        "\n",
        "Let’s compare that to the second method, `MyClass.classmethod`. I marked this method with a [`@classmethod`](https://docs.python.org/3/library/functions.html#classmethod) decorator to flag it as a class method. Instead of accepting a self parameter, class methods take a `cls` parameter that points to the class—and *not* the object instance—when the method is called.\n",
        "\n",
        "Since the class method only has access to this `cls` argument, it can’t modify object instance state. That would require access to self. However, class methods can still modify class state that applies across all instances of the class."
      ],
      "metadata": {
        "id": "dnzCnbdhb1_Y"
      }
    },
    {
      "cell_type": "markdown",
      "source": [
        "`Static Methods`\n",
        "\n",
        "The third method, `MyClass.staticmethod` was marked with a [`@staticmethod6`](https://docs.python.org/3/library/functions.html#staticmethod) decorator to flag it as a static method.\n",
        "\n",
        "This type of method doesn’t take a `self` or a `cls` parameter, although, of course, it can be made to accept an arbitrary number of other parameters.\n",
        "\n",
        "As a result, a static method cannot modify object state or class state.\n",
        "Static methods are restricted in what data they can access—they’re primarily a way to namespace your methods."
      ],
      "metadata": {
        "id": "trh8eic1b5Gz"
      }
    },
    {
      "cell_type": "markdown",
      "source": [
        "**Let’s See Them in Action!**\n",
        "\n",
        "Let’s take a look at how these methods behave in action when we call them. We’ll start by creating an instance of the class and then calling the three different methods on it.\n",
        "\n",
        "`MyClass` was set up in such a way that each method’s implementation returns a tuple containing information we can use to trace what’s going on and which parts of the class or object that method can access.\n"
      ],
      "metadata": {
        "id": "2eMUc6Ilb78K"
      }
    },
    {
      "cell_type": "code",
      "source": [
        "# Class\n",
        "\n",
        "class MyClass:\n",
        "\n",
        "    def method(self):\n",
        "        return 'instance method called', self\n",
        "\n",
        "    @classmethod\n",
        "    def classmethod(cls):\n",
        "        return 'class method called', cls\n",
        "\n",
        "    @staticmethod\n",
        "    def staticmethod():\n",
        "        return 'static method called'\n"
      ],
      "metadata": {
        "id": "4yol3tKYb-wy"
      },
      "execution_count": 32,
      "outputs": []
    },
    {
      "cell_type": "markdown",
      "source": [
        "Here’s what happens when we call an instance method:"
      ],
      "metadata": {
        "id": "pudK90AycBXn"
      }
    },
    {
      "cell_type": "code",
      "source": [
        "obj = MyClass()\n",
        "obj.method()"
      ],
      "metadata": {
        "colab": {
          "base_uri": "https://localhost:8080/"
        },
        "id": "hBIWiB6icGKJ",
        "outputId": "43cadcda-dcbf-42f4-f655-0eabbc0559f9"
      },
      "execution_count": 33,
      "outputs": [
        {
          "output_type": "execute_result",
          "data": {
            "text/plain": [
              "('instance method called', <__main__.MyClass at 0x7bf2a3c09b10>)"
            ]
          },
          "metadata": {},
          "execution_count": 33
        }
      ]
    },
    {
      "cell_type": "markdown",
      "source": [
        "This confirms that, in this case, the instance method called method has access to the object instance (printed as `<MyClass instance>`) via the self argument.\n",
        "\n",
        "When the method is called, Python replaces the `self` argument with the instance object, `obj`.\n",
        "\n",
        "We could ignore the syntactic sugar provided by the `obj.method()` **dot-call syntax** and pass the instance object manually to get the same result:\n",
        "```\n",
        "MyClass.method(obj)\n",
        "```\n"
      ],
      "metadata": {
        "id": "o7-5AUCAcIz1"
      }
    },
    {
      "cell_type": "code",
      "source": [
        "MyClass.method(obj)"
      ],
      "metadata": {
        "colab": {
          "base_uri": "https://localhost:8080/"
        },
        "id": "gh33YwjocLiG",
        "outputId": "28874327-5c66-46c6-f584-75ed354c9786"
      },
      "execution_count": 34,
      "outputs": [
        {
          "output_type": "execute_result",
          "data": {
            "text/plain": [
              "('instance method called', <__main__.MyClass at 0x7bf2a3c09b10>)"
            ]
          },
          "metadata": {},
          "execution_count": 34
        }
      ]
    },
    {
      "cell_type": "code",
      "source": [
        "type(obj)"
      ],
      "metadata": {
        "colab": {
          "base_uri": "https://localhost:8080/"
        },
        "id": "wVDGt5oAcOrp",
        "outputId": "6ca16252-d6fa-4cf5-b20c-f89345fb159e"
      },
      "execution_count": 35,
      "outputs": [
        {
          "output_type": "execute_result",
          "data": {
            "text/plain": [
              "__main__.MyClass"
            ]
          },
          "metadata": {},
          "execution_count": 35
        }
      ]
    },
    {
      "cell_type": "markdown",
      "source": [
        "Let’s try out the **class method** next:\n"
      ],
      "metadata": {
        "id": "VjCOj_sKcRjJ"
      }
    },
    {
      "cell_type": "code",
      "source": [
        "obj.classmethod()"
      ],
      "metadata": {
        "colab": {
          "base_uri": "https://localhost:8080/"
        },
        "id": "8GSXRwHjcUA2",
        "outputId": "db3f17b2-0d1e-4cc6-f1e7-d83e8bd16bd6"
      },
      "execution_count": 36,
      "outputs": [
        {
          "output_type": "execute_result",
          "data": {
            "text/plain": [
              "('class method called', __main__.MyClass)"
            ]
          },
          "metadata": {},
          "execution_count": 36
        }
      ]
    },
    {
      "cell_type": "markdown",
      "source": [
        "Calling `classmethod()` showed us that it doesn’t have access to the `<MyClass instance>` object, but only to the `<class MyClass>` object, representing the class itself (**everything in Python is an object, even classes themselves**).\n",
        "\n",
        "Notice how Python automatically passes the class as the first argument to the function when we call `MyClass.classmethod()`. Calling a method in Python through the **dot syntax** triggers this behavior. The `self` parameter on instance methods works the same way.\n",
        "\n",
        "Please note that naming these parameters `self` and `cls` is just a convention. You could just as easily name them `the_object` and `the_class` and get the same result. All that matters is that they’re positioned first in the parameter list for that particular method."
      ],
      "metadata": {
        "id": "lzVOi2xlcXJF"
      }
    },
    {
      "cell_type": "markdown",
      "source": [
        "Time to call the static method now:"
      ],
      "metadata": {
        "id": "wnTM8nI-caXr"
      }
    },
    {
      "cell_type": "code",
      "source": [
        "obj.staticmethod()"
      ],
      "metadata": {
        "colab": {
          "base_uri": "https://localhost:8080/",
          "height": 36
        },
        "id": "ZNl13Ts3cfrh",
        "outputId": "588c3806-d41a-4a6f-b6d3-61c01bee8fc7"
      },
      "execution_count": 37,
      "outputs": [
        {
          "output_type": "execute_result",
          "data": {
            "text/plain": [
              "'static method called'"
            ],
            "application/vnd.google.colaboratory.intrinsic+json": {
              "type": "string"
            }
          },
          "metadata": {},
          "execution_count": 37
        }
      ]
    },
    {
      "cell_type": "markdown",
      "source": [
        "Did you see how we called `staticmethod()` on the object and were able to do so successfully? Some developers are surprised when they learn that it’s possible to call a static method on an object instance.\n",
        "\n",
        "Behind the scenes, Python simply enforces the access restrictions by\n",
        "not passing in the `self` or the `cls` argument when a static method gets\n",
        "called using the dot syntax\n",
        "\n",
        "This confirms that static methods can neither access the object instance state nor the class state. They work like regular functions but belong to the class’ (and every instance’s) namespace.\n",
        "\n",
        "Now, let’s take a look at what happens when we attempt to call these\n",
        "methods on the class itself, **without creating an object instance** beforehand:"
      ],
      "metadata": {
        "id": "dNNcGqllcfBY"
      }
    },
    {
      "cell_type": "code",
      "source": [
        "# Class Method\n",
        "print(MyClass.classmethod())\n",
        "# Static method\n",
        "print(MyClass.staticmethod())\n",
        "#Instance Method\n",
        "print(MyClass.method())"
      ],
      "metadata": {
        "colab": {
          "base_uri": "https://localhost:8080/",
          "height": 211
        },
        "id": "7wOWU_TmcmXc",
        "outputId": "0032840c-b353-47de-92ff-6dac75050a5e"
      },
      "execution_count": 38,
      "outputs": [
        {
          "output_type": "stream",
          "name": "stdout",
          "text": [
            "('class method called', <class '__main__.MyClass'>)\n",
            "static method called\n"
          ]
        },
        {
          "output_type": "error",
          "ename": "TypeError",
          "evalue": "MyClass.method() missing 1 required positional argument: 'self'",
          "traceback": [
            "\u001b[0;31m---------------------------------------------------------------------------\u001b[0m",
            "\u001b[0;31mTypeError\u001b[0m                                 Traceback (most recent call last)",
            "\u001b[0;32m<ipython-input-38-1768883663>\u001b[0m in \u001b[0;36m<cell line: 0>\u001b[0;34m()\u001b[0m\n\u001b[1;32m      4\u001b[0m \u001b[0mprint\u001b[0m\u001b[0;34m(\u001b[0m\u001b[0mMyClass\u001b[0m\u001b[0;34m.\u001b[0m\u001b[0mstaticmethod\u001b[0m\u001b[0;34m(\u001b[0m\u001b[0;34m)\u001b[0m\u001b[0;34m)\u001b[0m\u001b[0;34m\u001b[0m\u001b[0;34m\u001b[0m\u001b[0m\n\u001b[1;32m      5\u001b[0m \u001b[0;31m#Instance Method\u001b[0m\u001b[0;34m\u001b[0m\u001b[0;34m\u001b[0m\u001b[0m\n\u001b[0;32m----> 6\u001b[0;31m \u001b[0mprint\u001b[0m\u001b[0;34m(\u001b[0m\u001b[0mMyClass\u001b[0m\u001b[0;34m.\u001b[0m\u001b[0mmethod\u001b[0m\u001b[0;34m(\u001b[0m\u001b[0;34m)\u001b[0m\u001b[0;34m)\u001b[0m\u001b[0;34m\u001b[0m\u001b[0;34m\u001b[0m\u001b[0m\n\u001b[0m",
            "\u001b[0;31mTypeError\u001b[0m: MyClass.method() missing 1 required positional argument: 'self'"
          ]
        }
      ]
    },
    {
      "cell_type": "markdown",
      "source": [
        "We were able to call `classmethod()` and `staticmethod(`) just fine, but attempting to call the instance method `method()` failed with a `TypeError`.\n",
        "\n",
        "This is to be expected. This time we didn’t create an object instance and tried calling an instance function directly on the class blueprint itself. This means there is no way for Python to populate the `self` argument and therefore the call fails with a `TypeError exception`.\n",
        "\n",
        "This should make the distinction between these three method types a\n",
        "little more clear"
      ],
      "metadata": {
        "id": "hng9RssecpmB"
      }
    },
    {
      "cell_type": "markdown",
      "source": [
        "**Key Takeaways**\n",
        "* Instance methods need a class instance and can access the instance through `self`.\n",
        "* Class methods don’t need a class instance. They can’t access the\n",
        "instance (`self`) but they have access to the class itself via `cls`.\n",
        "* Static methods don’t have access to `cls or self`. They work like\n",
        "regular functions but belong to the class’ namespace.\n",
        "* Static and class methods communicate and (to a certain degree)\n",
        "enforce developer intent about class design. This can have definite maintenance benefits.\n"
      ],
      "metadata": {
        "id": "FZL9vtRCcs7u"
      }
    }
  ]
}