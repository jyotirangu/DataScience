{
  "cells": [
    {
      "cell_type": "markdown",
      "metadata": {
        "colab_type": "text",
        "id": "view-in-github"
      },
      "source": [
        "<a href=\"https://colab.research.google.com/github/jyotirangu/DataScience/blob/main/9_File_Handling/3_ExceptionHandling.ipynb\" target=\"_parent\"><img src=\"https://colab.research.google.com/assets/colab-badge.svg\" alt=\"Open In Colab\"/></a>"
      ]
    },
    {
      "cell_type": "markdown",
      "metadata": {
        "id": "KW8PwRnXrKWP"
      },
      "source": [
        "There are 2 stages where error may happen in a program\n",
        "\n",
        "- During compilation -> Syntax Error\n",
        "- During execution -> Exceptions"
      ]
    },
    {
      "cell_type": "markdown",
      "metadata": {
        "id": "zAdrCtKtrOak"
      },
      "source": [
        "### Syntax Error\n",
        "\n",
        "- Something in the program is not written according to the program grammar.\n",
        "- Error is raised by the interpreter/compiler\n",
        "- You can solve it by rectifying the program\n"
      ]
    },
    {
      "cell_type": "code",
      "execution_count": 2,
      "metadata": {
        "id": "pUsJzmS-qvkN"
      },
      "outputs": [],
      "source": [
        "# let's create a file\n",
        "with open('sample.txt','w') as f:\n",
        "  f.write('hello world')"
      ]
    },
    {
      "cell_type": "code",
      "execution_count": 3,
      "metadata": {
        "colab": {
          "base_uri": "https://localhost:8080/"
        },
        "id": "ylLZj1VP_Qsz",
        "outputId": "854ed48b-6c2d-4b0d-9b4d-6236e8663e6b"
      },
      "outputs": [
        {
          "name": "stdout",
          "output_type": "stream",
          "text": [
            "hello world\n"
          ]
        }
      ],
      "source": [
        "# try catch demo\n",
        "with open('sample.txt', 'r') as f:\n",
        "  print(f.read())"
      ]
    },
    {
      "cell_type": "code",
      "execution_count": 4,
      "metadata": {
        "colab": {
          "base_uri": "https://localhost:8080/"
        },
        "id": "1fewB3zG_h8e",
        "outputId": "40ecbf7e-3206-4142-8a17-620e0327d38a"
      },
      "outputs": [
        {
          "name": "stdout",
          "output_type": "stream",
          "text": [
            "Hello World\n",
            "How are you?\n",
            " I am fine\n"
          ]
        }
      ],
      "source": [
        "try:\n",
        "  with open('sample1.txt','r') as f:\n",
        "    print(f.read())\n",
        "except:\n",
        "  print('Sorry file not found')"
      ]
    },
    {
      "cell_type": "code",
      "execution_count": 5,
      "metadata": {
        "colab": {
          "base_uri": "https://localhost:8080/"
        },
        "id": "ca10FEkS_ZUR",
        "outputId": "9b5f0d5f-084e-486e-a785-a31bb780b1d7"
      },
      "outputs": [
        {
          "name": "stdout",
          "output_type": "stream",
          "text": [
            "Hello World\n",
            "How are you?\n",
            " I am fine\n",
            "Some error occured\n"
          ]
        }
      ],
      "source": [
        "# catching specific exception\n",
        "try:\n",
        "  f = open('sample1.txt','r')\n",
        "  print(f.read())\n",
        "  print(m)\n",
        "except:\n",
        "  print('Some error occured')"
      ]
    },
    {
      "cell_type": "markdown",
      "metadata": {
        "id": "lSddofWHAP4p"
      },
      "source": [
        "The above error results 'Some error occured' that's because we try to open a file which does not exist, but what if we try to open an existing file(like sample.txt), see below code:-"
      ]
    },
    {
      "cell_type": "code",
      "execution_count": 6,
      "metadata": {
        "colab": {
          "base_uri": "https://localhost:8080/"
        },
        "id": "7ZyakiQgAlk5",
        "outputId": "fbe8c028-61b8-49a5-9b5c-8d7af259056b"
      },
      "outputs": [
        {
          "name": "stdout",
          "output_type": "stream",
          "text": [
            "hello world\n",
            "Some error occured\n"
          ]
        }
      ],
      "source": [
        "try:\n",
        "  f = open('sample.txt','r')\n",
        "  print(f.read())\n",
        "  print(m)\n",
        "except:\n",
        "  print('Some error occured')"
      ]
    },
    {
      "cell_type": "markdown",
      "metadata": {
        "id": "74MUeZQdAt5q"
      },
      "source": [
        "It executed the code of try and except both, thats because why first 3 lines of the above code get executed it has given output 'hello world' however when 4th line get executed, m variable not available in the code so it goes in except block. However it doesn't specify the type of error, for this you need to understand how to catch different errors."
      ]
    },
    {
      "cell_type": "code",
      "execution_count": 7,
      "metadata": {
        "colab": {
          "base_uri": "https://localhost:8080/"
        },
        "id": "gdXpP9Q6B-Hq",
        "outputId": "ce6968ae-f8d4-4b53-86a1-42c1caa471c2"
      },
      "outputs": [
        {
          "name": "stdout",
          "output_type": "stream",
          "text": [
            "hello world\n",
            "5\n",
            "2.5\n",
            "list index out of range\n"
          ]
        }
      ],
      "source": [
        "try:\n",
        "  m = 5\n",
        "  f = open('sample.txt', 'r')\n",
        "  print(f.read())\n",
        "  print(m)\n",
        "  print(5/2)\n",
        "  L = [1,2,3]\n",
        "  L[100]\n",
        "except FileNotFoundError:\n",
        "  print('File not found')\n",
        "except NameError:\n",
        "  print('Variable not defined')\n",
        "except ZeroDivisionError:\n",
        "  print('Division by zero')\n",
        "except Exception as e:\n",
        "  print(e)"
      ]
    },
    {
      "cell_type": "code",
      "execution_count": 8,
      "metadata": {
        "id": "isKzz8ZSDzWK"
      },
      "outputs": [
        {
          "name": "stdout",
          "output_type": "stream",
          "text": [
            "hello world\n"
          ]
        }
      ],
      "source": [
        "# else\n",
        "try:\n",
        "  f = open('sample.txt','r')\n",
        "except FileNotFoundError:\n",
        "  print('File not found')\n",
        "except Exception as e:\n",
        "  print(e)\n",
        "else:\n",
        "  print(f.read())\n",
        "  f.close()"
      ]
    },
    {
      "cell_type": "code",
      "execution_count": 9,
      "metadata": {
        "colab": {
          "base_uri": "https://localhost:8080/"
        },
        "id": "vjQOxXEZFOIw",
        "outputId": "4d0a4f22-83c8-4078-a681-0325859d86ac"
      },
      "outputs": [
        {
          "name": "stdout",
          "output_type": "stream",
          "text": [
            "Hello World\n",
            "How are you?\n",
            " I am fine\n",
            "Executing finally block\n"
          ]
        }
      ],
      "source": [
        "# finally\n",
        "try:\n",
        "  f = open('sample1.txt','r')\n",
        "except FileNotFoundError:\n",
        "  print('File not found')\n",
        "except Exception as e:\n",
        "  print(e)\n",
        "else:\n",
        "  print(f.read())\n",
        "  f.close()\n",
        "finally:\n",
        "  print('Executing finally block')"
      ]
    },
    {
      "cell_type": "code",
      "execution_count": 13,
      "metadata": {
        "id": "O5ZT4TcSL0Zg"
      },
      "outputs": [],
      "source": [
        "# raise Exception\n",
        "# In Python programming, exceptions are raised when errors occur at runtime.\n",
        "# We can also manually raise exceptions using the raise keyword.\n",
        "\n",
        "# We can optionally pass values to the exception to clarify why that exception was raised"
      ]
    },
    {
      "cell_type": "code",
      "execution_count": 10,
      "metadata": {
        "colab": {
          "base_uri": "https://localhost:8080/",
          "height": 211
        },
        "id": "I8UR7L5QL4ia",
        "outputId": "48829914-b729-47a5-e13e-75377b6d0686"
      },
      "outputs": [
        {
          "ename": "ZeroDivisionError",
          "evalue": "aise hi try kar rahi hu",
          "output_type": "error",
          "traceback": [
            "\u001b[1;31m---------------------------------------------------------------------------\u001b[0m",
            "\u001b[1;31mZeroDivisionError\u001b[0m                         Traceback (most recent call last)",
            "Cell \u001b[1;32mIn[10], line 1\u001b[0m\n\u001b[1;32m----> 1\u001b[0m \u001b[38;5;28;01mraise\u001b[39;00m \u001b[38;5;167;01mZeroDivisionError\u001b[39;00m(\u001b[38;5;124m'\u001b[39m\u001b[38;5;124maise hi try kar rahi hu\u001b[39m\u001b[38;5;124m'\u001b[39m)\n\u001b[0;32m      2\u001b[0m \u001b[38;5;66;03m# Java\u001b[39;00m\n\u001b[0;32m      3\u001b[0m \u001b[38;5;66;03m# try -> try\u001b[39;00m\n\u001b[0;32m      4\u001b[0m \u001b[38;5;66;03m# except -> catch\u001b[39;00m\n\u001b[0;32m      5\u001b[0m \u001b[38;5;66;03m# raise -> throw\u001b[39;00m\n",
            "\u001b[1;31mZeroDivisionError\u001b[0m: aise hi try kar rahi hu"
          ]
        }
      ],
      "source": [
        "raise ZeroDivisionError('aise hi try kar rahi hu')\n",
        "# Java\n",
        "# try -> try\n",
        "# except -> catch\n",
        "# raise -> throw"
      ]
    },
    {
      "cell_type": "code",
      "execution_count": 11,
      "metadata": {
        "colab": {
          "base_uri": "https://localhost:8080/"
        },
        "id": "gzBsRyakMh_z",
        "outputId": "f2a640c8-53c1-4c68-94d7-ac5e34163650"
      },
      "outputs": [
        {
          "name": "stdout",
          "output_type": "stream",
          "text": [
            "Insufficient Balance\n"
          ]
        }
      ],
      "source": [
        "class Bank:\n",
        "\n",
        "  def __init__(self,balance):\n",
        "    self.balance = balance\n",
        "\n",
        "  def withdraw(self,amount):\n",
        "    if amount < 0:\n",
        "      raise Exception('amount cannot be -ve')\n",
        "    if self.balance < amount:\n",
        "      raise Exception('Insufficient Balance')\n",
        "    self.balance = self.balance - amount\n",
        "\n",
        "obj = Bank(10000)\n",
        "try:\n",
        "  obj.withdraw(15000)\n",
        "except Exception as e:\n",
        "  print(e)\n",
        "else:\n",
        "  print(obj.balance)"
      ]
    },
    {
      "cell_type": "code",
      "execution_count": 12,
      "metadata": {
        "colab": {
          "base_uri": "https://localhost:8080/"
        },
        "id": "xUOMPHKQOs0O",
        "outputId": "5a39d78e-177f-4d18-a3d8-5f115a6f2e9a"
      },
      "outputs": [
        {
          "name": "stdout",
          "output_type": "stream",
          "text": [
            "amount cannot be -ve\n"
          ]
        }
      ],
      "source": [
        "# Custom exception class\n",
        "\n",
        "class MyException(Exception):\n",
        "  def __init__(self,message):\n",
        "    print(message)\n",
        "\n",
        "\n",
        "class Bank:\n",
        "\n",
        "  def __init__(self,balance):\n",
        "    self.balance = balance\n",
        "\n",
        "  def withdraw(self,amount):\n",
        "    if amount < 0:\n",
        "      raise MyException('amount cannot be -ve')\n",
        "    if self.balance < amount:\n",
        "      raise MyException('Insufficient Balance')\n",
        "    self.balance = self.balance - amount\n",
        "\n",
        "obj = Bank(10000)\n",
        "try:\n",
        "  obj.withdraw(-15000)\n",
        "except MyException as e:\n",
        "  pass\n",
        "else:\n",
        "  print(obj.balance)"
      ]
    },
    {
      "cell_type": "code",
      "execution_count": 13,
      "metadata": {
        "colab": {
          "base_uri": "https://localhost:8080/"
        },
        "id": "C-uFgvKHQBNs",
        "outputId": "e07c1e50-2471-4a0f-a6d5-339d3b078fa9"
      },
      "outputs": [
        {
          "name": "stdout",
          "output_type": "stream",
          "text": [
            "Authentication Failed\n",
            "logout\n"
          ]
        }
      ],
      "source": [
        "class SecurityError(Exception):\n",
        "\n",
        "  def __init__(self,message):\n",
        "    print(message)\n",
        "\n",
        "  def logout(self):\n",
        "    print('logout')\n",
        "\n",
        "\n",
        "class Google:\n",
        "\n",
        "  def __init__(self, name, email, password, device):\n",
        "    self.name = name\n",
        "    self.email = email\n",
        "    self.password = password\n",
        "    self.device = device\n",
        "\n",
        "  def login(self, email, password, device):\n",
        "    if device != self.device:\n",
        "      raise SecurityError('Authentication Failed')\n",
        "    if email == self.email and password == self.password:\n",
        "      print('Welcome')\n",
        "    else:\n",
        "      print('Authentication Failed')\n",
        "\n",
        "obj = Google('Jyoti', 'jyotirangu@gmail.com','1234','android')\n",
        "\n",
        "try:\n",
        "  obj.login('jyotirangu@gmail.com','1234','ios')\n",
        "except SecurityError as e:\n",
        "  e.logout()\n",
        "else:\n",
        "  print(obj.name)\n",
        "  print('database connection closed')"
      ]
    }
  ],
  "metadata": {
    "colab": {
      "authorship_tag": "ABX9TyOHMYbQ8oArh6WQC+/7Zvxi",
      "include_colab_link": true,
      "provenance": []
    },
    "kernelspec": {
      "display_name": "Python 3",
      "name": "python3"
    },
    "language_info": {
      "codemirror_mode": {
        "name": "ipython",
        "version": 3
      },
      "file_extension": ".py",
      "mimetype": "text/x-python",
      "name": "python",
      "nbconvert_exporter": "python",
      "pygments_lexer": "ipython3",
      "version": "3.10.11"
    }
  },
  "nbformat": 4,
  "nbformat_minor": 0
}
