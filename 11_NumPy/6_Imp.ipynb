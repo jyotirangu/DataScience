{
 "cells": [
  {
   "cell_type": "code",
   "execution_count": 1,
   "id": "a358a617",
   "metadata": {},
   "outputs": [],
   "source": [
    "import numpy as np"
   ]
  },
  {
   "cell_type": "code",
   "execution_count": 2,
   "id": "482c1192",
   "metadata": {},
   "outputs": [
    {
     "name": "stdout",
     "output_type": "stream",
     "text": [
      "[-10.  -9.  -8.  -7.  -6.  -5.  -4.  -3.  -2.  -1.   0.   1.   2.   3.\n",
      "   4.   5.   6.   7.   8.   9.]\n",
      "[-10.  -9.  -8.  -7.  -6.  -5.  -4.  -3.  -2.  -1.   0.   1.   2.   3.\n",
      "   4.   5.   6.   7.   8.   9.]\n"
     ]
    }
   ],
   "source": [
    "# Plotting 3D graphs\n",
    "# meshgrids\n",
    "a = np.linspace(-10,9,20)\n",
    "b = np.linspace(-10,9,20)\n",
    "print(a)\n",
    "print(b)\n"
   ]
  },
  {
   "cell_type": "code",
   "execution_count": 3,
   "id": "48537f14",
   "metadata": {},
   "outputs": [],
   "source": [
    "xx,yy = np.meshgrid(a,b)"
   ]
  },
  {
   "cell_type": "code",
   "execution_count": 4,
   "id": "71438d62",
   "metadata": {},
   "outputs": [
    {
     "data": {
      "text/plain": [
       "array([[-10.,  -9.,  -8.,  -7.,  -6.,  -5.,  -4.,  -3.,  -2.,  -1.,   0.,\n",
       "          1.,   2.,   3.,   4.,   5.,   6.,   7.,   8.,   9.],\n",
       "       [-10.,  -9.,  -8.,  -7.,  -6.,  -5.,  -4.,  -3.,  -2.,  -1.,   0.,\n",
       "          1.,   2.,   3.,   4.,   5.,   6.,   7.,   8.,   9.],\n",
       "       [-10.,  -9.,  -8.,  -7.,  -6.,  -5.,  -4.,  -3.,  -2.,  -1.,   0.,\n",
       "          1.,   2.,   3.,   4.,   5.,   6.,   7.,   8.,   9.],\n",
       "       [-10.,  -9.,  -8.,  -7.,  -6.,  -5.,  -4.,  -3.,  -2.,  -1.,   0.,\n",
       "          1.,   2.,   3.,   4.,   5.,   6.,   7.,   8.,   9.],\n",
       "       [-10.,  -9.,  -8.,  -7.,  -6.,  -5.,  -4.,  -3.,  -2.,  -1.,   0.,\n",
       "          1.,   2.,   3.,   4.,   5.,   6.,   7.,   8.,   9.],\n",
       "       [-10.,  -9.,  -8.,  -7.,  -6.,  -5.,  -4.,  -3.,  -2.,  -1.,   0.,\n",
       "          1.,   2.,   3.,   4.,   5.,   6.,   7.,   8.,   9.],\n",
       "       [-10.,  -9.,  -8.,  -7.,  -6.,  -5.,  -4.,  -3.,  -2.,  -1.,   0.,\n",
       "          1.,   2.,   3.,   4.,   5.,   6.,   7.,   8.,   9.],\n",
       "       [-10.,  -9.,  -8.,  -7.,  -6.,  -5.,  -4.,  -3.,  -2.,  -1.,   0.,\n",
       "          1.,   2.,   3.,   4.,   5.,   6.,   7.,   8.,   9.],\n",
       "       [-10.,  -9.,  -8.,  -7.,  -6.,  -5.,  -4.,  -3.,  -2.,  -1.,   0.,\n",
       "          1.,   2.,   3.,   4.,   5.,   6.,   7.,   8.,   9.],\n",
       "       [-10.,  -9.,  -8.,  -7.,  -6.,  -5.,  -4.,  -3.,  -2.,  -1.,   0.,\n",
       "          1.,   2.,   3.,   4.,   5.,   6.,   7.,   8.,   9.],\n",
       "       [-10.,  -9.,  -8.,  -7.,  -6.,  -5.,  -4.,  -3.,  -2.,  -1.,   0.,\n",
       "          1.,   2.,   3.,   4.,   5.,   6.,   7.,   8.,   9.],\n",
       "       [-10.,  -9.,  -8.,  -7.,  -6.,  -5.,  -4.,  -3.,  -2.,  -1.,   0.,\n",
       "          1.,   2.,   3.,   4.,   5.,   6.,   7.,   8.,   9.],\n",
       "       [-10.,  -9.,  -8.,  -7.,  -6.,  -5.,  -4.,  -3.,  -2.,  -1.,   0.,\n",
       "          1.,   2.,   3.,   4.,   5.,   6.,   7.,   8.,   9.],\n",
       "       [-10.,  -9.,  -8.,  -7.,  -6.,  -5.,  -4.,  -3.,  -2.,  -1.,   0.,\n",
       "          1.,   2.,   3.,   4.,   5.,   6.,   7.,   8.,   9.],\n",
       "       [-10.,  -9.,  -8.,  -7.,  -6.,  -5.,  -4.,  -3.,  -2.,  -1.,   0.,\n",
       "          1.,   2.,   3.,   4.,   5.,   6.,   7.,   8.,   9.],\n",
       "       [-10.,  -9.,  -8.,  -7.,  -6.,  -5.,  -4.,  -3.,  -2.,  -1.,   0.,\n",
       "          1.,   2.,   3.,   4.,   5.,   6.,   7.,   8.,   9.],\n",
       "       [-10.,  -9.,  -8.,  -7.,  -6.,  -5.,  -4.,  -3.,  -2.,  -1.,   0.,\n",
       "          1.,   2.,   3.,   4.,   5.,   6.,   7.,   8.,   9.],\n",
       "       [-10.,  -9.,  -8.,  -7.,  -6.,  -5.,  -4.,  -3.,  -2.,  -1.,   0.,\n",
       "          1.,   2.,   3.,   4.,   5.,   6.,   7.,   8.,   9.],\n",
       "       [-10.,  -9.,  -8.,  -7.,  -6.,  -5.,  -4.,  -3.,  -2.,  -1.,   0.,\n",
       "          1.,   2.,   3.,   4.,   5.,   6.,   7.,   8.,   9.],\n",
       "       [-10.,  -9.,  -8.,  -7.,  -6.,  -5.,  -4.,  -3.,  -2.,  -1.,   0.,\n",
       "          1.,   2.,   3.,   4.,   5.,   6.,   7.,   8.,   9.]])"
      ]
     },
     "execution_count": 4,
     "metadata": {},
     "output_type": "execute_result"
    }
   ],
   "source": [
    "xx"
   ]
  },
  {
   "cell_type": "code",
   "execution_count": 5,
   "id": "1333058b",
   "metadata": {},
   "outputs": [
    {
     "data": {
      "text/plain": [
       "array([[-10., -10., -10., -10., -10., -10., -10., -10., -10., -10., -10.,\n",
       "        -10., -10., -10., -10., -10., -10., -10., -10., -10.],\n",
       "       [ -9.,  -9.,  -9.,  -9.,  -9.,  -9.,  -9.,  -9.,  -9.,  -9.,  -9.,\n",
       "         -9.,  -9.,  -9.,  -9.,  -9.,  -9.,  -9.,  -9.,  -9.],\n",
       "       [ -8.,  -8.,  -8.,  -8.,  -8.,  -8.,  -8.,  -8.,  -8.,  -8.,  -8.,\n",
       "         -8.,  -8.,  -8.,  -8.,  -8.,  -8.,  -8.,  -8.,  -8.],\n",
       "       [ -7.,  -7.,  -7.,  -7.,  -7.,  -7.,  -7.,  -7.,  -7.,  -7.,  -7.,\n",
       "         -7.,  -7.,  -7.,  -7.,  -7.,  -7.,  -7.,  -7.,  -7.],\n",
       "       [ -6.,  -6.,  -6.,  -6.,  -6.,  -6.,  -6.,  -6.,  -6.,  -6.,  -6.,\n",
       "         -6.,  -6.,  -6.,  -6.,  -6.,  -6.,  -6.,  -6.,  -6.],\n",
       "       [ -5.,  -5.,  -5.,  -5.,  -5.,  -5.,  -5.,  -5.,  -5.,  -5.,  -5.,\n",
       "         -5.,  -5.,  -5.,  -5.,  -5.,  -5.,  -5.,  -5.,  -5.],\n",
       "       [ -4.,  -4.,  -4.,  -4.,  -4.,  -4.,  -4.,  -4.,  -4.,  -4.,  -4.,\n",
       "         -4.,  -4.,  -4.,  -4.,  -4.,  -4.,  -4.,  -4.,  -4.],\n",
       "       [ -3.,  -3.,  -3.,  -3.,  -3.,  -3.,  -3.,  -3.,  -3.,  -3.,  -3.,\n",
       "         -3.,  -3.,  -3.,  -3.,  -3.,  -3.,  -3.,  -3.,  -3.],\n",
       "       [ -2.,  -2.,  -2.,  -2.,  -2.,  -2.,  -2.,  -2.,  -2.,  -2.,  -2.,\n",
       "         -2.,  -2.,  -2.,  -2.,  -2.,  -2.,  -2.,  -2.,  -2.],\n",
       "       [ -1.,  -1.,  -1.,  -1.,  -1.,  -1.,  -1.,  -1.,  -1.,  -1.,  -1.,\n",
       "         -1.,  -1.,  -1.,  -1.,  -1.,  -1.,  -1.,  -1.,  -1.],\n",
       "       [  0.,   0.,   0.,   0.,   0.,   0.,   0.,   0.,   0.,   0.,   0.,\n",
       "          0.,   0.,   0.,   0.,   0.,   0.,   0.,   0.,   0.],\n",
       "       [  1.,   1.,   1.,   1.,   1.,   1.,   1.,   1.,   1.,   1.,   1.,\n",
       "          1.,   1.,   1.,   1.,   1.,   1.,   1.,   1.,   1.],\n",
       "       [  2.,   2.,   2.,   2.,   2.,   2.,   2.,   2.,   2.,   2.,   2.,\n",
       "          2.,   2.,   2.,   2.,   2.,   2.,   2.,   2.,   2.],\n",
       "       [  3.,   3.,   3.,   3.,   3.,   3.,   3.,   3.,   3.,   3.,   3.,\n",
       "          3.,   3.,   3.,   3.,   3.,   3.,   3.,   3.,   3.],\n",
       "       [  4.,   4.,   4.,   4.,   4.,   4.,   4.,   4.,   4.,   4.,   4.,\n",
       "          4.,   4.,   4.,   4.,   4.,   4.,   4.,   4.,   4.],\n",
       "       [  5.,   5.,   5.,   5.,   5.,   5.,   5.,   5.,   5.,   5.,   5.,\n",
       "          5.,   5.,   5.,   5.,   5.,   5.,   5.,   5.,   5.],\n",
       "       [  6.,   6.,   6.,   6.,   6.,   6.,   6.,   6.,   6.,   6.,   6.,\n",
       "          6.,   6.,   6.,   6.,   6.,   6.,   6.,   6.,   6.],\n",
       "       [  7.,   7.,   7.,   7.,   7.,   7.,   7.,   7.,   7.,   7.,   7.,\n",
       "          7.,   7.,   7.,   7.,   7.,   7.,   7.,   7.,   7.],\n",
       "       [  8.,   8.,   8.,   8.,   8.,   8.,   8.,   8.,   8.,   8.,   8.,\n",
       "          8.,   8.,   8.,   8.,   8.,   8.,   8.,   8.,   8.],\n",
       "       [  9.,   9.,   9.,   9.,   9.,   9.,   9.,   9.,   9.,   9.,   9.,\n",
       "          9.,   9.,   9.,   9.,   9.,   9.,   9.,   9.,   9.]])"
      ]
     },
     "execution_count": 5,
     "metadata": {},
     "output_type": "execute_result"
    }
   ],
   "source": [
    "yy"
   ]
  },
  {
   "cell_type": "code",
   "execution_count": 6,
   "id": "99b9f03e",
   "metadata": {},
   "outputs": [
    {
     "data": {
      "text/plain": [
       "<matplotlib.collections.PathCollection at 0x21d8b8abec0>"
      ]
     },
     "execution_count": 6,
     "metadata": {},
     "output_type": "execute_result"
    },
    {
     "data": {
      "image/png": "[encoded data removed]",
      "text/plain": [
       "<Figure size 640x480 with 1 Axes>"
      ]
     },
     "metadata": {},
     "output_type": "display_data"
    }
   ],
   "source": [
    "import matplotlib.pyplot as plt\n",
    "plt.scatter(xx,yy)"
   ]
  },
  {
   "cell_type": "code",
   "execution_count": 15,
   "id": "f425778f",
   "metadata": {},
   "outputs": [
    {
     "name": "stderr",
     "output_type": "stream",
     "text": [
      "C:\\Users\\H\\AppData\\Local\\Temp\\ipykernel_27876\\1554065941.py:2: RuntimeWarning:\n",
      "\n",
      "invalid value encountered in log\n",
      "\n"
     ]
    },
    {
     "data": {
      "text/plain": [
       "array([[        nan,         nan,         nan, ..., -5.29541514,\n",
       "        -5.23291288, -5.17168626],\n",
       "       [        nan,         nan,         nan, ..., -5.09339494,\n",
       "        -5.03089268, -4.96966606],\n",
       "       [        nan,         nan,         nan, ..., -4.89137473,\n",
       "        -4.82887247, -4.76764586],\n",
       "       ...,\n",
       "       [        nan,         nan,         nan, ..., 14.30054446,\n",
       "        14.36304672, 14.42427333],\n",
       "       [        nan,         nan,         nan, ..., 14.50256466,\n",
       "        14.56506692, 14.62629354],\n",
       "       [        nan,         nan,         nan, ..., 14.70458486,\n",
       "        14.76708712, 14.82831374]])"
      ]
     },
     "execution_count": 15,
     "metadata": {},
     "output_type": "execute_result"
    }
   ],
   "source": [
    "def func(x,y):\n",
    "    return 3*np.log(x) + 2*y\n",
    "\n",
    "zz = func(xx,yy)\n",
    "zz"
   ]
  },
  {
   "cell_type": "code",
   "execution_count": 13,
   "id": "7b852b64",
   "metadata": {},
   "outputs": [],
   "source": [
    "# import numpy as np\n",
    "# import plotly.graph_objects as go\n",
    "# import plotly.io as pio\n",
    "\n",
    "# print(pio.renderers)\n",
    "\n",
    "# # Set renderer to vscode\n",
    "# pio.renderers.default = 'vscode'\n",
    "\n",
    "# # Create 3D surface data\n",
    "# x = y = np.linspace(-5, 5, 100)\n",
    "# xx, yy = np.meshgrid(x, y)\n",
    "# zz = np.sin(np.sqrt(xx**2 + yy**2))\n",
    "\n",
    "# # Create the figure\n",
    "# fig = go.Figure()\n",
    "\n",
    "# # Add surface trace\n",
    "# fig.add_trace(go.Surface(x=xx, y=yy, z=zz))\n",
    "\n",
    "# # Show the figure in the browser\n",
    "# fig.show()\n"
   ]
  },
  {
   "cell_type": "code",
   "execution_count": 16,
   "id": "9cdf20e2",
   "metadata": {},
   "outputs": [
    {
     "data": {
      "application/vnd.plotly.v1+json": {
       "config": {
        "plotlyServerURL": "https://plot.ly"
       },
       "data": [
        {
         "hovertemplate": "<extra></extra>",
         "legendgroup": "",
         "marker": {
          "color": "#636efa",
          "symbol": "circle"
         },
         "mode": "markers",
         "name": "",
         "scene": "scene",
         "showlegend": false,
         "type": "scatter3d"
        },
        {
         "type": "surface",
         "x": {
          "bdata": "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",
          "dtype": "f8",
          "shape": "100, 100"
         },
         "y": {
          "bdata": "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",
          "dtype": "f8",
          "shape": "100, 100"
         },
         "z": {
          "bdata": "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",
          "dtype": "f8",
          "shape": "100, 100"
         }
        }
       ],
       "layout": {
        "legend": {
         "tracegroupgap": 0
        },
        "margin": {
         "t": 60
        },
        "scene": {
         "domain": {
          "x": [
           0,
           1
          ],
          "y": [
           0,
           1
          ]
         }
        },
        "template": {
         "data": {
          "bar": [
           {
            "error_x": {
             "color": "#2a3f5f"
            },
            "error_y": {
             "color": "#2a3f5f"
            },
            "marker": {
             "line": {
              "color": "#E5ECF6",
              "width": 0.5
             },
             "pattern": {
              "fillmode": "overlay",
              "size": 10,
              "solidity": 0.2
             }
            },
            "type": "bar"
           }
          ],
          "barpolar": [
           {
            "marker": {
             "line": {
              "color": "#E5ECF6",
              "width": 0.5
             },
             "pattern": {
              "fillmode": "overlay",
              "size": 10,
              "solidity": 0.2
             }
            },
            "type": "barpolar"
           }
          ],
          "carpet": [
           {
            "aaxis": {
             "endlinecolor": "#2a3f5f",
             "gridcolor": "white",
             "linecolor": "white",
             "minorgridcolor": "white",
             "startlinecolor": "#2a3f5f"
            },
            "baxis": {
             "endlinecolor": "#2a3f5f",
             "gridcolor": "white",
             "linecolor": "white",
             "minorgridcolor": "white",
             "startlinecolor": "#2a3f5f"
            },
            "type": "carpet"
           }
          ],
          "choropleth": [
           {
            "colorbar": {
             "outlinewidth": 0,
             "ticks": ""
            },
            "type": "choropleth"
           }
          ],
          "contour": [
           {
            "colorbar": {
             "outlinewidth": 0,
             "ticks": ""
            },
            "colorscale": [
             [
              0,
              "#0d0887"
             ],
             [
              0.1111111111111111,
              "#46039f"
             ],
             [
              0.2222222222222222,
              "#7201a8"
             ],
             [
              0.3333333333333333,
              "#9c179e"
             ],
             [
              0.4444444444444444,
              "#bd3786"
             ],
             [
              0.5555555555555556,
              "#d8576b"
             ],
             [
              0.6666666666666666,
              "#ed7953"
             ],
             [
              0.7777777777777778,
              "#fb9f3a"
             ],
             [
              0.8888888888888888,
              "#fdca26"
             ],
             [
              1,
              "#f0f921"
             ]
            ],
            "type": "contour"
           }
          ],
          "contourcarpet": [
           {
            "colorbar": {
             "outlinewidth": 0,
             "ticks": ""
            },
            "type": "contourcarpet"
           }
          ],
          "heatmap": [
           {
            "colorbar": {
             "outlinewidth": 0,
             "ticks": ""
            },
            "colorscale": [
             [
              0,
              "#0d0887"
             ],
             [
              0.1111111111111111,
              "#46039f"
             ],
             [
              0.2222222222222222,
              "#7201a8"
             ],
             [
              0.3333333333333333,
              "#9c179e"
             ],
             [
              0.4444444444444444,
              "#bd3786"
             ],
             [
              0.5555555555555556,
              "#d8576b"
             ],
             [
              0.6666666666666666,
              "#ed7953"
             ],
             [
              0.7777777777777778,
              "#fb9f3a"
             ],
             [
              0.8888888888888888,
              "#fdca26"
             ],
             [
              1,
              "#f0f921"
             ]
            ],
            "type": "heatmap"
           }
          ],
          "histogram": [
           {
            "marker": {
             "pattern": {
              "fillmode": "overlay",
              "size": 10,
              "solidity": 0.2
             }
            },
            "type": "histogram"
           }
          ],
          "histogram2d": [
           {
            "colorbar": {
             "outlinewidth": 0,
             "ticks": ""
            },
            "colorscale": [
             [
              0,
              "#0d0887"
             ],
             [
              0.1111111111111111,
              "#46039f"
             ],
             [
              0.2222222222222222,
              "#7201a8"
             ],
             [
              0.3333333333333333,
              "#9c179e"
             ],
             [
              0.4444444444444444,
              "#bd3786"
             ],
             [
              0.5555555555555556,
              "#d8576b"
             ],
             [
              0.6666666666666666,
              "#ed7953"
             ],
             [
              0.7777777777777778,
              "#fb9f3a"
             ],
             [
              0.8888888888888888,
              "#fdca26"
             ],
             [
              1,
              "#f0f921"
             ]
            ],
            "type": "histogram2d"
           }
          ],
          "histogram2dcontour": [
           {
            "colorbar": {
             "outlinewidth": 0,
             "ticks": ""
            },
            "colorscale": [
             [
              0,
              "#0d0887"
             ],
             [
              0.1111111111111111,
              "#46039f"
             ],
             [
              0.2222222222222222,
              "#7201a8"
             ],
             [
              0.3333333333333333,
              "#9c179e"
             ],
             [
              0.4444444444444444,
              "#bd3786"
             ],
             [
              0.5555555555555556,
              "#d8576b"
             ],
             [
              0.6666666666666666,
              "#ed7953"
             ],
             [
              0.7777777777777778,
              "#fb9f3a"
             ],
             [
              0.8888888888888888,
              "#fdca26"
             ],
             [
              1,
              "#f0f921"
             ]
            ],
            "type": "histogram2dcontour"
           }
          ],
          "mesh3d": [
           {
            "colorbar": {
             "outlinewidth": 0,
             "ticks": ""
            },
            "type": "mesh3d"
           }
          ],
          "parcoords": [
           {
            "line": {
             "colorbar": {
              "outlinewidth": 0,
              "ticks": ""
             }
            },
            "type": "parcoords"
           }
          ],
          "pie": [
           {
            "automargin": true,
            "type": "pie"
           }
          ],
          "scatter": [
           {
            "fillpattern": {
             "fillmode": "overlay",
             "size": 10,
             "solidity": 0.2
            },
            "type": "scatter"
           }
          ],
          "scatter3d": [
           {
            "line": {
             "colorbar": {
              "outlinewidth": 0,
              "ticks": ""
             }
            },
            "marker": {
             "colorbar": {
              "outlinewidth": 0,
              "ticks": ""
             }
            },
            "type": "scatter3d"
           }
          ],
          "scattercarpet": [
           {
            "marker": {
             "colorbar": {
              "outlinewidth": 0,
              "ticks": ""
             }
            },
            "type": "scattercarpet"
           }
          ],
          "scattergeo": [
           {
            "marker": {
             "colorbar": {
              "outlinewidth": 0,
              "ticks": ""
             }
            },
            "type": "scattergeo"
           }
          ],
          "scattergl": [
           {
            "marker": {
             "colorbar": {
              "outlinewidth": 0,
              "ticks": ""
             }
            },
            "type": "scattergl"
           }
          ],
          "scattermap": [
           {
            "marker": {
             "colorbar": {
              "outlinewidth": 0,
              "ticks": ""
             }
            },
            "type": "scattermap"
           }
          ],
          "scattermapbox": [
           {
            "marker": {
             "colorbar": {
              "outlinewidth": 0,
              "ticks": ""
             }
            },
            "type": "scattermapbox"
           }
          ],
          "scatterpolar": [
           {
            "marker": {
             "colorbar": {
              "outlinewidth": 0,
              "ticks": ""
             }
            },
            "type": "scatterpolar"
           }
          ],
          "scatterpolargl": [
           {
            "marker": {
             "colorbar": {
              "outlinewidth": 0,
              "ticks": ""
             }
            },
            "type": "scatterpolargl"
           }
          ],
          "scatterternary": [
           {
            "marker": {
             "colorbar": {
              "outlinewidth": 0,
              "ticks": ""
             }
            },
            "type": "scatterternary"
           }
          ],
          "surface": [
           {
            "colorbar": {
             "outlinewidth": 0,
             "ticks": ""
            },
            "colorscale": [
             [
              0,
              "#0d0887"
             ],
             [
              0.1111111111111111,
              "#46039f"
             ],
             [
              0.2222222222222222,
              "#7201a8"
             ],
             [
              0.3333333333333333,
              "#9c179e"
             ],
             [
              0.4444444444444444,
              "#bd3786"
             ],
             [
              0.5555555555555556,
              "#d8576b"
             ],
             [
              0.6666666666666666,
              "#ed7953"
             ],
             [
              0.7777777777777778,
              "#fb9f3a"
             ],
             [
              0.8888888888888888,
              "#fdca26"
             ],
             [
              1,
              "#f0f921"
             ]
            ],
            "type": "surface"
           }
          ],
          "table": [
           {
            "cells": {
             "fill": {
              "color": "#EBF0F8"
             },
             "line": {
              "color": "white"
             }
            },
            "header": {
             "fill": {
              "color": "#C8D4E3"
             },
             "line": {
              "color": "white"
             }
            },
            "type": "table"
           }
          ]
         },
         "layout": {
          "annotationdefaults": {
           "arrowcolor": "#2a3f5f",
           "arrowhead": 0,
           "arrowwidth": 1
          },
          "autotypenumbers": "strict",
          "coloraxis": {
           "colorbar": {
            "outlinewidth": 0,
            "ticks": ""
           }
          },
          "colorscale": {
           "diverging": [
            [
             0,
             "#8e0152"
            ],
            [
             0.1,
             "#c51b7d"
            ],
            [
             0.2,
             "#de77ae"
            ],
            [
             0.3,
             "#f1b6da"
            ],
            [
             0.4,
             "#fde0ef"
            ],
            [
             0.5,
             "#f7f7f7"
            ],
            [
             0.6,
             "#e6f5d0"
            ],
            [
             0.7,
             "#b8e186"
            ],
            [
             0.8,
             "#7fbc41"
            ],
            [
             0.9,
             "#4d9221"
            ],
            [
             1,
             "#276419"
            ]
           ],
           "sequential": [
            [
             0,
             "#0d0887"
            ],
            [
             0.1111111111111111,
             "#46039f"
            ],
            [
             0.2222222222222222,
             "#7201a8"
            ],
            [
             0.3333333333333333,
             "#9c179e"
            ],
            [
             0.4444444444444444,
             "#bd3786"
            ],
            [
             0.5555555555555556,
             "#d8576b"
            ],
            [
             0.6666666666666666,
             "#ed7953"
            ],
            [
             0.7777777777777778,
             "#fb9f3a"
            ],
            [
             0.8888888888888888,
             "#fdca26"
            ],
            [
             1,
             "#f0f921"
            ]
           ],
           "sequentialminus": [
            [
             0,
             "#0d0887"
            ],
            [
             0.1111111111111111,
             "#46039f"
            ],
            [
             0.2222222222222222,
             "#7201a8"
            ],
            [
             0.3333333333333333,
             "#9c179e"
            ],
            [
             0.4444444444444444,
             "#bd3786"
            ],
            [
             0.5555555555555556,
             "#d8576b"
            ],
            [
             0.6666666666666666,
             "#ed7953"
            ],
            [
             0.7777777777777778,
             "#fb9f3a"
            ],
            [
             0.8888888888888888,
             "#fdca26"
            ],
            [
             1,
             "#f0f921"
            ]
           ]
          },
          "colorway": [
           "#636efa",
           "#EF553B",
           "#00cc96",
           "#ab63fa",
           "#FFA15A",
           "#19d3f3",
           "#FF6692",
           "#B6E880",
           "#FF97FF",
           "#FECB52"
          ],
          "font": {
           "color": "#2a3f5f"
          },
          "geo": {
           "bgcolor": "white",
           "lakecolor": "white",
           "landcolor": "#E5ECF6",
           "showlakes": true,
           "showland": true,
           "subunitcolor": "white"
          },
          "hoverlabel": {
           "align": "left"
          },
          "hovermode": "closest",
          "mapbox": {
           "style": "light"
          },
          "paper_bgcolor": "white",
          "plot_bgcolor": "#E5ECF6",
          "polar": {
           "angularaxis": {
            "gridcolor": "white",
            "linecolor": "white",
            "ticks": ""
           },
           "bgcolor": "#E5ECF6",
           "radialaxis": {
            "gridcolor": "white",
            "linecolor": "white",
            "ticks": ""
           }
          },
          "scene": {
           "xaxis": {
            "backgroundcolor": "#E5ECF6",
            "gridcolor": "white",
            "gridwidth": 2,
            "linecolor": "white",
            "showbackground": true,
            "ticks": "",
            "zerolinecolor": "white"
           },
           "yaxis": {
            "backgroundcolor": "#E5ECF6",
            "gridcolor": "white",
            "gridwidth": 2,
            "linecolor": "white",
            "showbackground": true,
            "ticks": "",
            "zerolinecolor": "white"
           },
           "zaxis": {
            "backgroundcolor": "#E5ECF6",
            "gridcolor": "white",
            "gridwidth": 2,
            "linecolor": "white",
            "showbackground": true,
            "ticks": "",
            "zerolinecolor": "white"
           }
          },
          "shapedefaults": {
           "line": {
            "color": "#2a3f5f"
           }
          },
          "ternary": {
           "aaxis": {
            "gridcolor": "white",
            "linecolor": "white",
            "ticks": ""
           },
           "baxis": {
            "gridcolor": "white",
            "linecolor": "white",
            "ticks": ""
           },
           "bgcolor": "#E5ECF6",
           "caxis": {
            "gridcolor": "white",
            "linecolor": "white",
            "ticks": ""
           }
          },
          "title": {
           "x": 0.05
          },
          "xaxis": {
           "automargin": true,
           "gridcolor": "white",
           "linecolor": "white",
           "ticks": "",
           "title": {
            "standoff": 15
           },
           "zerolinecolor": "white",
           "zerolinewidth": 2
          },
          "yaxis": {
           "automargin": true,
           "gridcolor": "white",
           "linecolor": "white",
           "ticks": "",
           "title": {
            "standoff": 15
           },
           "zerolinecolor": "white",
           "zerolinewidth": 2
          }
         }
        }
       }
      }
     },
     "metadata": {},
     "output_type": "display_data"
    }
   ],
   "source": [
    "import plotly.express as px \n",
    "import plotly.graph_objects as go  \n",
    "import plotly.io as pio\n",
    "\n",
    "# print(pio.renderers)\n",
    "\n",
    "# Set renderer to vscode\n",
    "pio.renderers.default = 'vscode'\n",
    "\n",
    "fig = px.scatter_3d()\n",
    "fig.add_trace(go.Surface(x=xx,y=yy,z=zz))\n",
    "\n",
    "fig.show()"
   ]
  },
  {
   "cell_type": "code",
   "execution_count": null,
   "id": "c5d84f9b",
   "metadata": {},
   "outputs": [],
   "source": [
    "# Working with random\n",
    "# randint \n",
    "# seed\n",
    "# shuffle \n",
    "# choice  "
   ]
  },
  {
   "cell_type": "code",
   "execution_count": 17,
   "id": "391f39bc",
   "metadata": {},
   "outputs": [
    {
     "data": {
      "text/plain": [
       "array([[[0.65069115, 0.93610542],\n",
       "        [0.31354368, 0.96014964],\n",
       "        [0.74159302, 0.33109442]],\n",
       "\n",
       "       [[0.88860372, 0.11753822],\n",
       "        [0.43728951, 0.90122889],\n",
       "        [0.43755026, 0.36423336]]])"
      ]
     },
     "execution_count": 17,
     "metadata": {},
     "output_type": "execute_result"
    }
   ],
   "source": [
    "np.random.random((2,3,2))"
   ]
  },
  {
   "cell_type": "code",
   "execution_count": 18,
   "id": "3518d9c4",
   "metadata": {},
   "outputs": [
    {
     "data": {
      "text/plain": [
       "array([[45, 36, 93, 25],\n",
       "       [78, 49, 21, 35],\n",
       "       [63, 91, 36, 25]], dtype=int32)"
      ]
     },
     "execution_count": 18,
     "metadata": {},
     "output_type": "execute_result"
    }
   ],
   "source": [
    "np.random.randint(1,100,12).reshape(3,4)"
   ]
  },
  {
   "cell_type": "code",
   "execution_count": 19,
   "id": "88b23066",
   "metadata": {},
   "outputs": [
    {
     "data": {
      "text/plain": [
       "array([[45, 48, 65, 68],\n",
       "       [68, 10, 84, 22],\n",
       "       [37, 88, 71, 89]], dtype=int32)"
      ]
     },
     "execution_count": 19,
     "metadata": {},
     "output_type": "execute_result"
    }
   ],
   "source": [
    "np.random.seed(0)\n",
    "np.random.randint(1,100,12).reshape(3,4)"
   ]
  },
  {
   "cell_type": "code",
   "execution_count": 27,
   "id": "344d5bad",
   "metadata": {},
   "outputs": [
    {
     "data": {
      "text/plain": [
       "array([ 12,  41,  33,  67,  89, 100])"
      ]
     },
     "execution_count": 27,
     "metadata": {},
     "output_type": "execute_result"
    }
   ],
   "source": [
    "a = np.array([12,41,33,67,89,100])\n",
    "a"
   ]
  },
  {
   "cell_type": "code",
   "execution_count": null,
   "id": "687a5560",
   "metadata": {},
   "outputs": [
    {
     "data": {
      "text/plain": [
       "array([ 33,  89,  67, 100,  41,  12])"
      ]
     },
     "execution_count": 28,
     "metadata": {},
     "output_type": "execute_result"
    }
   ],
   "source": [
    "np.random.shuffle(a)\n",
    "# shuffle is the permanent method, changes made with shuffle are permenent\n",
    "a"
   ]
  },
  {
   "cell_type": "code",
   "execution_count": 29,
   "id": "f9fbea0c",
   "metadata": {},
   "outputs": [
    {
     "data": {
      "text/plain": [
       "array([ 33,  89,  67, 100,  41,  12])"
      ]
     },
     "execution_count": 29,
     "metadata": {},
     "output_type": "execute_result"
    }
   ],
   "source": [
    "a"
   ]
  },
  {
   "cell_type": "code",
   "execution_count": null,
   "id": "cb5c7b10",
   "metadata": {},
   "outputs": [
    {
     "data": {
      "text/plain": [
       "array([100,  12, 100])"
      ]
     },
     "execution_count": 32,
     "metadata": {},
     "output_type": "execute_result"
    }
   ],
   "source": [
    "np.random.choice(a,3)\n",
    "# choice, first randomly choose one number and then put it back in the array, then again randomly choose 2nd number and put it back in the array likewise, for the 3rd number. However if you don't want this behaviour you can use replace=False as follow"
   ]
  },
  {
   "cell_type": "code",
   "execution_count": 33,
   "id": "7cedba1e",
   "metadata": {},
   "outputs": [
    {
     "data": {
      "text/plain": [
       "array([41, 67, 12])"
      ]
     },
     "execution_count": 33,
     "metadata": {},
     "output_type": "execute_result"
    }
   ],
   "source": [
    "np.random.choice(a,3,replace=False)"
   ]
  },
  {
   "cell_type": "code",
   "execution_count": 37,
   "id": "ac1d9ebf",
   "metadata": {},
   "outputs": [
    {
     "data": {
      "text/plain": [
       "array([[0, 1, 2],\n",
       "       [3, 4, 5]])"
      ]
     },
     "execution_count": 37,
     "metadata": {},
     "output_type": "execute_result"
    }
   ],
   "source": [
    "# flip \n",
    "b = np.arange(6).reshape(2,3)\n",
    "b"
   ]
  },
  {
   "cell_type": "code",
   "execution_count": 40,
   "id": "3098eb92",
   "metadata": {},
   "outputs": [
    {
     "data": {
      "text/plain": [
       "array([[5, 4, 3],\n",
       "       [2, 1, 0]])"
      ]
     },
     "execution_count": 40,
     "metadata": {},
     "output_type": "execute_result"
    }
   ],
   "source": [
    "np.flip(b)"
   ]
  },
  {
   "cell_type": "code",
   "execution_count": 41,
   "id": "69d6adbb",
   "metadata": {},
   "outputs": [
    {
     "data": {
      "text/plain": [
       "array([[2, 2, 2],\n",
       "       [3, 3, 3]])"
      ]
     },
     "execution_count": 41,
     "metadata": {},
     "output_type": "execute_result"
    }
   ],
   "source": [
    "# clip -> fade\n",
    "np.clip(b,2,3)"
   ]
  },
  {
   "cell_type": "code",
   "execution_count": 43,
   "id": "ddf8c2a4",
   "metadata": {},
   "outputs": [
    {
     "data": {
      "text/plain": [
       "array(['1', 'hello', 'True', '1.5'], dtype='<U32')"
      ]
     },
     "execution_count": 43,
     "metadata": {},
     "output_type": "execute_result"
    }
   ],
   "source": [
    "# structured arrays\n",
    "a = np.array([1,'hello',True,1.5])\n",
    "a"
   ]
  },
  {
   "cell_type": "code",
   "execution_count": 48,
   "id": "8ce4b211",
   "metadata": {},
   "outputs": [
    {
     "name": "stdout",
     "output_type": "stream",
     "text": [
      "<class 'numpy.str_'>\n",
      "<class 'numpy.str_'>\n",
      "<class 'numpy.str_'>\n",
      "<class 'numpy.str_'>\n"
     ]
    }
   ],
   "source": [
    "# In the above output you can see <U32 which means unicode which stores 32 characters. Point to remember is that even though you have store interger, string, boolean, float in a, but they have been converted into str, run the below code to verify\n",
    "\n",
    "print(type(a[0]))\n",
    "print(type(a[1]))\n",
    "print(type(a[2]))\n",
    "print(type(a[3]))\n"
   ]
  },
  {
   "cell_type": "code",
   "execution_count": null,
   "id": "7c7df832",
   "metadata": {},
   "outputs": [],
   "source": [
    "# There is a way to create hetrogenous array in numpy your structured arrays"
   ]
  },
  {
   "cell_type": "code",
   "execution_count": 51,
   "id": "9f906fe0",
   "metadata": {},
   "outputs": [],
   "source": [
    "dt = np.dtype(\n",
    "    [\n",
    "        ('name', 'U20'),\n",
    "        ('iq', np.int32),\n",
    "        ('cgpa', np.float64),\n",
    "        ('placed','U20')\n",
    "         \n",
    "    ]\n",
    ")"
   ]
  },
  {
   "cell_type": "code",
   "execution_count": 52,
   "id": "7df67412",
   "metadata": {},
   "outputs": [
    {
     "data": {
      "text/plain": [
       "dtype([('name', '<U20'), ('iq', '<i4'), ('cgpa', '<f8'), ('placed', '<U20')])"
      ]
     },
     "execution_count": 52,
     "metadata": {},
     "output_type": "execute_result"
    }
   ],
   "source": [
    "dt"
   ]
  },
  {
   "cell_type": "code",
   "execution_count": 56,
   "id": "f753ef0e",
   "metadata": {},
   "outputs": [
    {
     "data": {
      "text/plain": [
       "array([('jyoti', 100, 6.66, 'Yes'), ('shruti', 120, 8.9 , 'Yes'),\n",
       "       ('rahul',   8, 7.3 , 'No')],\n",
       "      dtype=[('name', '<U20'), ('iq', '<i4'), ('cgpa', '<f8'), ('placed', '<U20')])"
      ]
     },
     "execution_count": 56,
     "metadata": {},
     "output_type": "execute_result"
    }
   ],
   "source": [
    "stu = np.array(\n",
    "    [\n",
    "        ('jyoti', 100,6.66,'Yes'),\n",
    "        ('shruti', 120,8.9,'Yes'),\n",
    "        ('rahul', 8 ,7.3,'No')\n",
    "    ],dtype=dt\n",
    ")\n",
    "\n",
    "stu"
   ]
  },
  {
   "cell_type": "code",
   "execution_count": 57,
   "id": "fbeb3dec",
   "metadata": {},
   "outputs": [
    {
     "data": {
      "text/plain": [
       "np.void(('jyoti', 100, 6.66, 'Yes'), dtype=[('name', '<U20'), ('iq', '<i4'), ('cgpa', '<f8'), ('placed', '<U20')])"
      ]
     },
     "execution_count": 57,
     "metadata": {},
     "output_type": "execute_result"
    }
   ],
   "source": [
    "stu[0]"
   ]
  },
  {
   "cell_type": "code",
   "execution_count": 58,
   "id": "fd97d6eb",
   "metadata": {},
   "outputs": [
    {
     "data": {
      "text/plain": [
       "np.int32(100)"
      ]
     },
     "execution_count": 58,
     "metadata": {},
     "output_type": "execute_result"
    }
   ],
   "source": [
    "stu[0][1]"
   ]
  },
  {
   "cell_type": "code",
   "execution_count": 59,
   "id": "6535f38b",
   "metadata": {},
   "outputs": [
    {
     "data": {
      "text/plain": [
       "array([6.66, 8.9 , 7.3 ])"
      ]
     },
     "execution_count": 59,
     "metadata": {},
     "output_type": "execute_result"
    }
   ],
   "source": [
    "stu['cgpa']"
   ]
  },
  {
   "cell_type": "code",
   "execution_count": 60,
   "id": "c5cf25ef",
   "metadata": {},
   "outputs": [],
   "source": [
    "# save and load numpy objects\n",
    "np.save('student.npy', stu)"
   ]
  },
  {
   "cell_type": "code",
   "execution_count": null,
   "id": "f22fcbe7",
   "metadata": {},
   "outputs": [],
   "source": [
    "# remaining functions\n",
    "# --> np.swapaxes\n",
    "# --> np.uniform\n",
    "# --> np.count_nonzero\n",
    "# --> np.tile\n",
    "# --> np.repeat\n",
    "# --> np.allclose"
   ]
  },
  {
   "cell_type": "markdown",
   "id": "44e0564d",
   "metadata": {},
   "source": [
    "###`np.swapaxes(arr, axis1, axis2)`\n",
    "```\n",
    "Interchange two axes of an array.\n",
    "\n",
    "Syntax : numpy.swapaxes(arr, axis1, axis2)\n",
    "Parameters :\n",
    "arr : [array_like] input array.\n",
    "axis1 : [int] First axis.\n",
    "axis2 : [int] Second axis.\n",
    "Return : [ndarray]\n",
    "```"
   ]
  },
  {
   "cell_type": "code",
   "execution_count": 61,
   "id": "eab87873",
   "metadata": {},
   "outputs": [
    {
     "name": "stdout",
     "output_type": "stream",
     "text": [
      "[[1 2 3]\n",
      " [4 5 6]]\n",
      "(2, 3)\n",
      "Swapped\n",
      "[[1 4]\n",
      " [2 5]\n",
      " [3 6]]\n",
      "(3, 2)\n"
     ]
    }
   ],
   "source": [
    "#Example \n",
    "x = np.array([[1,2,3],[4,5,6]])\n",
    "print(x)\n",
    "print(x.shape)\n",
    "print(\"Swapped\")\n",
    "x_swapped = np.swapaxes(x,0,1)\n",
    "print(x_swapped)\n",
    "print(x_swapped.shape)"
   ]
  },
  {
   "cell_type": "markdown",
   "id": "fea7cfd9",
   "metadata": {},
   "source": [
    "Note: It is not same as reshaping."
   ]
  },
  {
   "cell_type": "code",
   "execution_count": 62,
   "id": "fe667499",
   "metadata": {},
   "outputs": [
    {
     "name": "stdout",
     "output_type": "stream",
     "text": [
      "[[1 2]\n",
      " [3 4]\n",
      " [5 6]]\n"
     ]
    }
   ],
   "source": [
    "x_reshaped = x.reshape(3,2)\n",
    "print(x_reshaped)"
   ]
  },
  {
   "cell_type": "markdown",
   "id": "6cbbfa77",
   "metadata": {},
   "source": [
    "###`numpy.random.uniform(low=0.0, high=1.0, size=None)`\n",
    "Draw samples from a uniform distribution in rangge [low - high); high not included.\n",
    "https://numpy.org/doc/stable/reference/random/generated/numpy.random.uniform.html\n",
    "```\n",
    "Syntax : numpy.random.uniform(low, high, size=None)\n",
    "            low -> lower bound of sample; default value is 0\n",
    "            high -> uper bound of sample; defalut value is 1.0\n",
    "            size -> shape of the desired sample. If the given shape is, e.g., (m, n, k), then m * n * k samples are drawn.\n",
    "\n",
    "Return : Return the random samples as numpy array.\n",
    "```\n",
    "When ever we need to test our model on uniform data and we might not get truly uniform data in real scenario, we can use this function to randomly generate data for us."
   ]
  },
  {
   "cell_type": "code",
   "execution_count": 63,
   "id": "a63e0a47",
   "metadata": {},
   "outputs": [
    {
     "name": "stdout",
     "output_type": "stream",
     "text": [
      "[10.39135809  5.74033154  4.56128134  2.91011173  8.51657058  5.01765365\n",
      "  6.25277344  0.2066878   6.79399047  6.73305295]\n"
     ]
    }
   ],
   "source": [
    "#Example:\n",
    "uniform = np.random.uniform(0, 11, 10)\n",
    "print(uniform)"
   ]
  },
  {
   "cell_type": "code",
   "execution_count": 64,
   "id": "6cd2604c",
   "metadata": {},
   "outputs": [
    {
     "data": {
      "image/png": "[encoded data removed]",
      "text/plain": [
       "<Figure size 640x480 with 1 Axes>"
      ]
     },
     "metadata": {},
     "output_type": "display_data"
    }
   ],
   "source": [
    "#Example:\n",
    "import matplotlib.pyplot as plt\n",
    "  \n",
    "# Using uniform() method\n",
    "uniform = np.random.uniform(-5, 10, 1000)\n",
    "\n",
    "plt.hist(uniform, bins = 30, density = True)\n",
    "plt.show()"
   ]
  },
  {
   "cell_type": "markdown",
   "id": "59a09787",
   "metadata": {},
   "source": [
    "###`np.count_nonzero(arr, axis=None)`\n",
    "This function counts the number of non-zero values in the array\n",
    "https://numpy.org/doc/stable/reference/generated/numpy.count_nonzero.html\n",
    "\n",
    "```\n",
    "Syntax : numpy.count_nonzero(arr, axis=None)\n",
    "\n",
    "Parameters :\n",
    "    arr : [array_like] The array for which to count non-zeros.\n",
    "\n",
    "    axis : [int or tuple, optional] Axis or tuple of axes along which to count non-zeros. Default is None, meaning that non-zeros will be counted along a flattened version of arr.\n",
    "\n",
    "    keepdims : [bool, optional] If this is set to True, the axes that are counted are left in the result as dimensions with size one.\n",
    "\n",
    "Return : [int or array of int] Number of non-zero values in the array along a given axis. Otherwise, the total number of non-zero values in the array is returned.\n",
    "```\n"
   ]
  },
  {
   "cell_type": "code",
   "execution_count": 65,
   "id": "858ef4bc",
   "metadata": {},
   "outputs": [
    {
     "name": "stdout",
     "output_type": "stream",
     "text": [
      "5\n",
      "[1 1 2 1]\n",
      "[2 3]\n"
     ]
    }
   ],
   "source": [
    "#Example\n",
    "\n",
    "a = np.array([[0, 1, 7, 0],\n",
    "              [3, 0, 2, 19]])\n",
    "\n",
    "print(np.count_nonzero(a))\n",
    "\n",
    "print(np.count_nonzero(a, axis=0))\n",
    "\n",
    "print(np.count_nonzero(a, axis=1))\n"
   ]
  },
  {
   "cell_type": "markdown",
   "id": "389d75f0",
   "metadata": {},
   "source": [
    "###`np.tile(A, reps)`\n",
    "Construct an array by repeating `A` the number of times given by `reps`.\n",
    "If reps has length `d`, the result will have dimension of `max(d, A.ndim)`.\n",
    "```\n",
    "Parameters:\n",
    "\n",
    "    A: array_like\n",
    "        The input array.\n",
    "\n",
    "    reps: array_like\n",
    "        The number of repetitions of A along each axis.\n",
    "\n",
    "Returns\n",
    "    c: ndarray\n",
    "        The tiled output array.\n",
    "```\n",
    "https://numpy.org/doc/stable/reference/generated/numpy.tile.html"
   ]
  },
  {
   "cell_type": "code",
   "execution_count": 66,
   "id": "20b14fe6",
   "metadata": {},
   "outputs": [
    {
     "name": "stdout",
     "output_type": "stream",
     "text": [
      "[0 1 2]\n",
      "Tiled\n",
      "[0 1 2 0 1 2]\n"
     ]
    }
   ],
   "source": [
    "# np.tile - Example\n",
    "a = np.array([0, 1, 2])\n",
    "print(a)\n",
    "print(\"Tiled\")\n",
    "print(np.tile(a, 2))\n",
    "# Reps is given as 2 so whole array will get repeted 2 times\n"
   ]
  },
  {
   "cell_type": "code",
   "execution_count": 67,
   "id": "404af9fe",
   "metadata": {},
   "outputs": [
    {
     "data": {
      "text/plain": [
       "array([[0, 1, 2, 0, 1, 2],\n",
       "       [0, 1, 2, 0, 1, 2]])"
      ]
     },
     "execution_count": 67,
     "metadata": {},
     "output_type": "execute_result"
    }
   ],
   "source": [
    "np.tile(a, (2, 2))\n",
    "# Reps is given as (2, 2) \n",
    "# means along axis-0, 2 time repetition and \n",
    "# along axis-1, 2 times repetition\n",
    "# Axis-0 downward along the rows\n",
    "# Axis -1 rightward along columns -> or inside each rows."
   ]
  },
  {
   "cell_type": "code",
   "execution_count": 68,
   "id": "1fad3ef6",
   "metadata": {},
   "outputs": [
    {
     "data": {
      "text/plain": [
       "array([[0, 1, 2, 0, 1, 2, 0, 1, 2],\n",
       "       [0, 1, 2, 0, 1, 2, 0, 1, 2]])"
      ]
     },
     "execution_count": 68,
     "metadata": {},
     "output_type": "execute_result"
    }
   ],
   "source": [
    "np.tile(a, (2, 3)) # Along axis-1 3 times repetition"
   ]
  },
  {
   "cell_type": "markdown",
   "id": "8f53ac41",
   "metadata": {},
   "source": [
    "###`np.repeat(a, repeats, axis=None)`\n",
    "Repeat elements of an array. `repeats` parameter says no of time to repeat\n",
    "\n",
    "```\n",
    "Parameters: \n",
    "            a: array_like\n",
    "                    Input array.\n",
    "\n",
    "            repeats: int or array of ints\n",
    "                    The number of repetitions for each element. repeats is broadcasted to fit the shape of the given axis.\n",
    "\n",
    "            axis: int, optional\n",
    "                    The axis along which to repeat values. By default, use the flattened input array, and return a flat output array.\n",
    "\n",
    "Returns: \n",
    "    repeated_array: ndarray\n",
    "                    Output array which has the same shape as a, except along the given axis.\n",
    "```\n",
    "https://numpy.org/doc/stable/reference/generated/numpy.repeat.html"
   ]
  },
  {
   "cell_type": "code",
   "execution_count": 69,
   "id": "59fac79e",
   "metadata": {},
   "outputs": [
    {
     "name": "stdout",
     "output_type": "stream",
     "text": [
      "[[1 2]\n",
      " [3 4]]\n",
      "[1 1 2 2 3 3 4 4]\n"
     ]
    }
   ],
   "source": [
    "x = np.array([[1,2],[3,4]])\n",
    "print(x)\n",
    "print(np.repeat(x, 2)) # Every element is getting repeted 2 times."
   ]
  },
  {
   "cell_type": "code",
   "execution_count": 70,
   "id": "676334d5",
   "metadata": {},
   "outputs": [
    {
     "name": "stdout",
     "output_type": "stream",
     "text": [
      "[[1 2]\n",
      " [3 4]]\n",
      "[[1 1 1 2 2 2]\n",
      " [3 3 3 4 4 4]]\n"
     ]
    }
   ],
   "source": [
    "print(x)\n",
    "print(np.repeat(x, 3, axis=1)) # Alog axis-1 means rightward inside rows/ along columns\n",
    "# Along axis-1 columns will increase"
   ]
  },
  {
   "cell_type": "code",
   "execution_count": 71,
   "id": "dafeea59",
   "metadata": {},
   "outputs": [
    {
     "name": "stdout",
     "output_type": "stream",
     "text": [
      "[[1 2]\n",
      " [1 2]\n",
      " [1 2]\n",
      " [3 4]\n",
      " [3 4]\n",
      " [3 4]]\n"
     ]
    }
   ],
   "source": [
    "print(np.repeat(x, 3, axis=0)) # Alog axis-0 means downward to rows/ along inside a column\n",
    "# Along axis-0 rows will increase\n"
   ]
  },
  {
   "cell_type": "markdown",
   "id": "92e69808",
   "metadata": {},
   "source": [
    "### `np.allclose`\n",
    "Returns True if two arrays are element-wise equal within a tolerance.\n",
    "\n",
    "The tolerance values are positive, typically very small numbers. The relative difference `(rtol * abs(b))` and the absolute difference `atol` are added together to compare against the `absolute difference` between `a and b`.\n",
    "\n",
    "If the following equation is element-wise True, then `allclose` returns `True`.\n",
    "\n",
    "> `absolute(a - b) <= (atol + rtol * absolute(b))`\n",
    "\n",
    "```\n",
    "Syntax : numpy.allclose(arr1, arr2, rtol, atol, equal_nan=False)\n",
    "\n",
    "Parameters :\n",
    "    arr1 : [array_like] Input 1st array.\n",
    "    arr2 : [array_like] Input 2nd array.\n",
    "    rtol : [float] The relative tolerance parameter.\n",
    "    atol : [float] The absolute tolerance parameter.\n",
    "    equal_nan : [bool] Whether to compare NaN’s as equal. \n",
    "            If True, NaN’s in arr1 will be considered equal to NaN’s in arr2 in the output array.\n",
    "\n",
    "Return : [ bool] Returns True if the two arrays are equal within the given tolerance, otherwise it returns False.\n",
    "```\n",
    "https://numpy.org/doc/stable/reference/generated/numpy.allclose.html\n",
    "https://www.geeksforgeeks.org/numpy-allclose-in-python/\n"
   ]
  },
  {
   "cell_type": "code",
   "execution_count": 72,
   "id": "83991a95",
   "metadata": {},
   "outputs": [
    {
     "name": "stdout",
     "output_type": "stream",
     "text": [
      "[1.1    1.2    1.0001]\n",
      "[1.    1.02  1.001]\n",
      "[0.1    0.18   0.0009]\n",
      "False\n",
      "True\n"
     ]
    }
   ],
   "source": [
    "#np.allclose example\n",
    "#Comparing - \n",
    "a = np.array([1.1, 1.2, 1.0001])\n",
    "b = np.array([1., 1.02, 1.001])\n",
    "print(a)\n",
    "print(b)\n",
    "print(np.abs(a-b))\n",
    "\n",
    "print(np.allclose(a,b)) # will return false\n",
    "print(np.allclose(a,b, atol=0.2)) # will return true, as i incearse the absolute tolerance value\n"
   ]
  },
  {
   "cell_type": "code",
   "execution_count": 73,
   "id": "bac83f50",
   "metadata": {},
   "outputs": [
    {
     "name": "stdout",
     "output_type": "stream",
     "text": [
      "False\n",
      "True\n"
     ]
    }
   ],
   "source": [
    "print(np.allclose([1.0, np.nan], [1.0, np.nan])) # Nan will be taken as different\n",
    "\n",
    "print(np.allclose([1.0, np.nan], [1.0, np.nan], equal_nan=True)) # Nan will be treated as same"
   ]
  }
 ],
 "metadata": {
  "kernelspec": {
   "display_name": "Python 3",
   "language": "python",
   "name": "python3"
  },
  "language_info": {
   "codemirror_mode": {
    "name": "ipython",
    "version": 3
   },
   "file_extension": ".py",
   "mimetype": "text/x-python",
   "name": "python",
   "nbconvert_exporter": "python",
   "pygments_lexer": "ipython3",
   "version": "3.12.6"
  }
 },
 "nbformat": 4,
 "nbformat_minor": 5
}
