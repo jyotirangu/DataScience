{
  "nbformat": 4,
  "nbformat_minor": 0,
  "metadata": {
    "colab": {
      "provenance": [],
      "authorship_tag": "ABX9TyPdnBXCh55J+5sWzQKQeMH3",
      "include_colab_link": true
    },
    "kernelspec": {
      "name": "python3",
      "display_name": "Python 3"
    },
    "language_info": {
      "name": "python"
    }
  },
  "cells": [
    {
      "cell_type": "markdown",
      "metadata": {
        "id": "view-in-github",
        "colab_type": "text"
      },
      "source": [
        "<a href=\"https://colab.research.google.com/github/jyotirangu/DataScience/blob/main/8_OOP_Concepts/OOP1_TASK.ipynb\" target=\"_parent\"><img src=\"https://colab.research.google.com/assets/colab-badge.svg\" alt=\"Open In Colab\"/></a>"
      ]
    },
    {
      "cell_type": "markdown",
      "source": [
        "**Q-1: Rectangle Class**\n",
        "\n",
        "1. Write a Rectangle class in Python language, allowing you to build a rectangle with length and width attributes.\n",
        "2. Create a Perimeter() method to calculate the perimeter of the rectangle and a Area() method to calculate the area of ​​the rectangle.\n",
        "3. Create a method display() that display the length, width, perimeter and area of an object created using an instantiation on rectangle class."
      ],
      "metadata": {
        "id": "k-NvvDhUaO29"
      }
    },
    {
      "cell_type": "markdown",
      "source": [
        "Eg. After making above classes and methods, on executing below code:-\n",
        "\n",
        "my_rectangle = Rectangle(3 , 4)\n",
        "my_rectangle.display()\n",
        "\n",
        "**Output:**\n",
        "\n",
        "The length of rectangle is:  3\n",
        "\n",
        "The width of rectangle is:  4\n",
        "\n",
        "The perimeter of rectangle is:  14\n",
        "\n",
        "The area of rectangle is:  12"
      ],
      "metadata": {
        "id": "tsAxyrRuauRA"
      }
    },
    {
      "cell_type": "code",
      "source": [
        "class Rectangle:\n",
        "\n",
        "  def __init__(self,l,b):\n",
        "    self.__length = l\n",
        "    self.__width = b\n",
        "\n",
        "  def __perimeter(self):\n",
        "    return 2*(self.__length + self.__width)\n",
        "\n",
        "  def __area(self):\n",
        "    return self.__length * self.__width\n",
        "\n",
        "  def display(self):\n",
        "    print('length', self.__length)\n",
        "    print('width', self.__width)\n",
        "    print('perimeter', self.__perimeter())\n",
        "    print('area', self.__area())\n",
        "\n",
        "r = Rectangle(4,5)\n",
        "r.display()\n"
      ],
      "metadata": {
        "colab": {
          "base_uri": "https://localhost:8080/"
        },
        "id": "ZreR3sV6aTe8",
        "outputId": "7e4d1103-b5b3-4c38-f59a-ca0198b158f2"
      },
      "execution_count": null,
      "outputs": [
        {
          "output_type": "stream",
          "name": "stdout",
          "text": [
            "length 4\n",
            "width 5\n",
            "perimeter 18\n",
            "area 20\n"
          ]
        }
      ]
    },
    {
      "cell_type": "markdown",
      "source": [
        "**Q-2: Bank Class**\n",
        "\n",
        "1. Create a Python class called `BankAccoun`t which represents a bank account, having as attributes: `accountNumber` (numeric type), `name `(name of the account owner as string type), `balance`.\n",
        "\n",
        "2. Create a constructor with parameters: `accountNumber, name, balance`.\n",
        "\n",
        "3. Create a `Deposit()` method which manages the deposit actions.\n",
        "\n",
        "4. Create a `Withdrawal()` method which manages withdrawals actions.\n",
        "\n",
        "5. Create an `bankFees()` method to apply the bank fees with a percentage of 5% of the balance account.\n",
        "\n",
        "6. Create a `display()` method to display account details. Give the complete code for the BankAccount class."
      ],
      "metadata": {
        "id": "EnY82v_XcLzV"
      }
    },
    {
      "cell_type": "markdown",
      "source": [
        "\n",
        "Eg. After making above classes and methods, on executing below code:-\n",
        "\n",
        "newAccount = BankAccount(2178514584, \"Mandy\" , 2800)\n",
        "\n",
        "newAccount.Withdrawal(700)\n",
        "\n",
        "newAccount.Deposit(1000)\n",
        "\n",
        "newAccount.display()\n",
        "\n",
        "**Output:**\n",
        "\n",
        "Account Number :  2178514584\n",
        "\n",
        "Account Name :  Mandy\n",
        "\n",
        "Account Balance :  3100 ₹"
      ],
      "metadata": {
        "id": "aI5YcSPkcakm"
      }
    },
    {
      "cell_type": "code",
      "source": [
        "class BankAccount:\n",
        "\n",
        "  def __init__(self,accNo,name,bal):\n",
        "    self.__acc_no = accNo\n",
        "    self.__name = name\n",
        "    self.__balance = bal\n",
        "\n",
        "  def display(self):\n",
        "    print('Account Number : ', self.__acc_no)\n",
        "    print('Account Name : ', self.__name)\n",
        "    print('Account Balance : ', self.__balance)\n",
        "\n",
        "  def deposit(self,amount):\n",
        "    self.__balance = self.__balance + amount\n",
        "\n",
        "  def withdrawal(self,amount):\n",
        "    if amount>self.__balance:\n",
        "      print('Insufficient balance')\n",
        "    else:\n",
        "      self.__balance = self.__balance - amount\n",
        "      reduction = self.__bankFees()\n",
        "      self.__balance = self.__balance - reduction\n",
        "\n",
        "  def __bankFees(self):\n",
        "    return 0.05*self.__balance\n",
        "\n",
        "cust = BankAccount(1000000,'jyoti',500)\n",
        "cust.deposit(500)\n",
        "cust.withdrawal(100)\n",
        "cust.display()\n"
      ],
      "metadata": {
        "colab": {
          "base_uri": "https://localhost:8080/"
        },
        "id": "bsdso06ScZlv",
        "outputId": "fa1f4542-8d5c-497f-c5d5-ee3fd0dc10d1"
      },
      "execution_count": null,
      "outputs": [
        {
          "output_type": "stream",
          "name": "stdout",
          "text": [
            "Account Number :  1000000\n",
            "Account Name :  jyoti\n",
            "Account Balance :  855.0\n"
          ]
        }
      ]
    },
    {
      "cell_type": "markdown",
      "source": [
        "**Q-3:Computation class**\n",
        "\n",
        "1. Create a Computation class with a default constructor (without parameters) allowing to perform various calculations on integers numbers.\n",
        "\n",
        "2. Create a method called `Factorial()` which allows to calculate the factorial of an integer n. Integer n as parameter for this method\n",
        "\n",
        "3. Create a method called `naturalSum()` allowing to calculate the sum of the first n integers 1 + 2 + 3 + .. + n. Integer n as parameter for this method.\n",
        "\n",
        "4. Create a method called `testPrime()` in the Calculation class to test the primality of a given integer n, n is Prime or Not? Integer n as parameter for this method.\n",
        "\n",
        "5. Create a method called `testPrims()` allowing to test if two numbers are prime between them. Two integers are prime to one another if they have only 1 as their common divisor. Eg. 4 and 9 are prime to each other.\n",
        "\n",
        "6. Create a `tableMult()` method which creates and displays the multiplication table of a given integer. Then create an `allTablesMult()` method to display all the integer multiplication tables 1, 2, 3, ..., 9.\n",
        "\n",
        "7. Create a static `listDiv()` method that gets all the divisors of a given integer on new list called Ldiv. Create another `listDivPrim()` method that gets all the prime divisors of a given integer."
      ],
      "metadata": {
        "id": "rqE4PldAiOsH"
      }
    },
    {
      "cell_type": "code",
      "source": [
        "class Computation:\n",
        "  def __init__(self):\n",
        "    pass\n",
        "\n",
        "  # Factorial\n",
        "  def factorial(self, n):\n",
        "    j = 1\n",
        "    for i in range(1, n+1):\n",
        "      j = j * i\n",
        "    return j\n",
        "\n",
        "  # sum of the first n numbers\n",
        "  def naturalSum(self, n):\n",
        "    return n * (n + 1) // 2\n",
        "\n",
        "  # primality test of a number\n",
        "  def testprims(self, n, m):\n",
        "\n",
        "    # Initialize the number of commons divisors\n",
        "    commonDiv = 0\n",
        "    for i in range(1, n+1):\n",
        "      if (n%i == 0 and m%i == 0):\n",
        "        commonDiv = commonDiv + 1\n",
        "      if commonDiv == 1:\n",
        "        print(f\"The numbers {n} and {m} are co-primes\")\n",
        "      else:\n",
        "        print(f\"The numbers {n} and {m} are not co-primes\")\n",
        "\n",
        "  # Primality test for a number\n",
        "  def isPrime(self, n):\n",
        "        if n < 2:\n",
        "            return False\n",
        "        for i in range(2, int(n**0.5)+1):\n",
        "            if n % i == 0:\n",
        "                return False\n",
        "        return True\n",
        "\n",
        "  # Multiplication table\n",
        "  def tableMult(self, k):\n",
        "    for i in range(1, 10):\n",
        "      print(i, \"x\", k, \"=\", i * k)\n",
        "\n",
        "  # All multiplication tables of the numbers 1, 2, ...., 9\n",
        "  def listDiv(self, num):\n",
        "    LDiv = []\n",
        "\n",
        "    for i in range(2, num+1):\n",
        "      if (num % i == 0):\n",
        "        LDiv.append(i)\n",
        "    return LDiv\n",
        "\n",
        "    print(\"The Divisors of the {} is {}\".format(num, LDiv))\n",
        "\n",
        "\n",
        "  def listDivPrim(self, num):\n",
        "    LDiv = self.listDiv(num)\n",
        "    LPrimeDiv = []\n",
        "    for i in LDiv:\n",
        "      if self.isPrime(i):\n",
        "        LPrimeDiv.append(i)\n",
        "    return LPrimeDiv\n",
        "\n",
        "\n",
        "obj = Computation()\n",
        "ans = obj.factorial(5)\n",
        "print(\"The factorial of is {}\".format(ans))\n",
        "y = obj.naturalSum(5)\n",
        "print(\"The natural sum is {}\".format(y))\n",
        "obj.testprims(5,9)\n",
        "obj.tableMult(5)\n",
        "x = obj.listDiv(9)\n",
        "print(\"The Divisors of the is {}\".format(x))\n",
        "z = obj.listDivPrim(9)\n",
        "print(\"The prime divisor is {}\".format(z))\n"
      ],
      "metadata": {
        "colab": {
          "base_uri": "https://localhost:8080/"
        },
        "id": "Mpi-GR0va_1f",
        "outputId": "e8a57b3a-7157-4e7c-8aad-b067a33a67e0"
      },
      "execution_count": null,
      "outputs": [
        {
          "output_type": "stream",
          "name": "stdout",
          "text": [
            "The factorial of is 120\n",
            "The natural sum is 15\n",
            "The numbers 5 and 9 are co-primes\n",
            "The numbers 5 and 9 are co-primes\n",
            "The numbers 5 and 9 are co-primes\n",
            "The numbers 5 and 9 are co-primes\n",
            "The numbers 5 and 9 are co-primes\n",
            "1 x 5 = 5\n",
            "2 x 5 = 10\n",
            "3 x 5 = 15\n",
            "4 x 5 = 20\n",
            "5 x 5 = 25\n",
            "6 x 5 = 30\n",
            "7 x 5 = 35\n",
            "8 x 5 = 40\n",
            "9 x 5 = 45\n",
            "The Divisors of the is [3, 9]\n",
            "The prime divisor is [3]\n"
          ]
        }
      ]
    },
    {
      "cell_type": "markdown",
      "source": [
        "**Q-4: Build flashcard using class in Python.**\n",
        "\n",
        "Build a flashcard using class in python. A flashcard is a card having information on both sides, which can be used as an aid in memorization. Flashcards usually have a question on one side and an answer on the other.\n",
        "\n",
        "Example 1:\n",
        "\n",
        "Approach:\n",
        "\n",
        "-Create a class named FlashCard.\n",
        "\n",
        "-Initialize dictionary fruits using init() method. Here you have to define fruit name as key and it's color as value.\n",
        "\n",
        " E.g., {\"Banana\": \"yellow\", \"Strawberries\": \"pink\"}\n",
        "\n",
        "--Now randomly choose a pair from fruits by using random module and store the key in variable fruit and value in variable color.\n",
        "\n",
        "Now prompt the user to answer the color of the randomly chosen fruit.\n",
        "\n",
        "-If correct print correct else print wrong.\n",
        "\n",
        "Output:\n",
        "\n",
        "welcome to fruit quiz\n",
        "\n",
        "What is the color of Strawberries\n",
        "\n",
        "pink\n",
        "\n",
        "Correct answer\n",
        "\n",
        "Enter 0, if you want to play again: 0\n",
        "\n",
        "What is the color of watermelon\n",
        "\n",
        "green\n",
        "\n",
        "Correct answer\n",
        "\n",
        "Enter 0, if you want to play again: 1"
      ],
      "metadata": {
        "id": "d633hdWrs8NN"
      }
    },
    {
      "cell_type": "code",
      "source": [
        "import random\n",
        "\n",
        "class FlashCard:\n",
        "\n",
        "  def __init__(self):\n",
        "    self.__fruits = {\n",
        "        'apple':'red',\n",
        "        'banana':'yellow',\n",
        "        'watermelon':'green',\n",
        "        'strawberry':'pink',\n",
        "        'guava':'green'\n",
        "    }\n",
        "\n",
        "  def quiz(self):\n",
        "\n",
        "    while True:\n",
        "\n",
        "      fruit,color = random.choices(list(self.__fruits.items()))[0]\n",
        "\n",
        "      print('What is the color of {}'.format(fruit))\n",
        "      user_answer = input()\n",
        "\n",
        "      if user_answer.lower() == color:\n",
        "        print('correct')\n",
        "      else:\n",
        "        print('Wrong')\n",
        "\n",
        "      option = int(input('Enter 0 to play again 1 to exit : '))\n",
        "\n",
        "      if option:\n",
        "        break\n",
        "\n",
        "print('Welcome to the fruit quiz')\n",
        "fc = FlashCard()\n",
        "fc.quiz()"
      ],
      "metadata": {
        "id": "A8QjEPRRt3qU",
        "colab": {
          "base_uri": "https://localhost:8080/"
        },
        "outputId": "8a894cae-0f2f-401d-9162-979c05be8d43"
      },
      "execution_count": 4,
      "outputs": [
        {
          "name": "stdout",
          "output_type": "stream",
          "text": [
            "Welcome to the fruit quiz\n",
            "What is the color of watermelon\n",
            "red\n",
            "Wrong\n",
            "Enter 0 to play again 1 to exit : 0\n",
            "What is the color of watermelon\n",
            "green\n",
            "correct\n",
            "Enter 0 to play again 1 to exit : 0\n",
            "What is the color of banana\n",
            "yellow\n",
            "correct\n",
            "Enter 0 to play again 1 to exit : 0\n",
            "What is the color of banana\n",
            "yellow\n",
            "correct\n",
            "Enter 0 to play again 1 to exit : 0\n",
            "What is the color of apple\n",
            "red\n",
            "correct\n",
            "Enter 0 to play again 1 to exit : 0\n",
            "What is the color of guava\n",
            "green\n",
            "correct\n",
            "Enter 0 to play again 1 to exit : 0\n",
            "What is the color of banana\n",
            "yellow\n",
            "correct\n",
            "Enter 0 to play again 1 to exit : 0\n",
            "What is the color of guava\n",
            "green\n",
            "correct\n",
            "Enter 0 to play again 1 to exit : 0\n",
            "What is the color of watermelon\n",
            "green\n",
            "correct\n",
            "Enter 0 to play again 1 to exit : 1\n"
          ]
        }
      ]
    },
    {
      "cell_type": "code",
      "source": [
        "import random\n",
        "\n",
        "d = {\n",
        "        'apple':'red',\n",
        "        'banana':'yellow',\n",
        "        'watermelon':'green',\n",
        "        'strawberry':'pink',\n",
        "        'guava':'green'\n",
        "    }\n",
        "\n",
        "fruit,color = random.choices(list(d.items()))[0]\n",
        "print(fruit)\n",
        "print(color)"
      ],
      "metadata": {
        "colab": {
          "base_uri": "https://localhost:8080/"
        },
        "id": "_gM2lyulXStM",
        "outputId": "e4c3ddd9-ef3f-4af2-9fd6-0dce93d41eaa"
      },
      "execution_count": 2,
      "outputs": [
        {
          "output_type": "stream",
          "name": "stdout",
          "text": [
            "apple\n",
            "red\n"
          ]
        }
      ]
    },
    {
      "cell_type": "markdown",
      "source": [
        "**Q-5: Problem 5 based on OOP Python.**\n",
        "\n",
        "TechWorld, a technology training center, wants to allocate courses for instructors. An instructor is identified by name, technology skills, experience and average feedback. An instructor is allocated a course, if he/she satisfies the below two conditions:\n",
        "\n",
        "- eligibility criteria:\n",
        "\n",
        "if experience is more than 3 years, average feedback should be 4.5 or more\n",
        "\n",
        "if experience is 3 years or less, average feedback should be 4 or more\n",
        "\n",
        "- he/she should posses the technology skill for the course\n",
        "\n",
        "Identify the class name and attributes to represent instructors. Write a Python program to implement the class chosen with its attributes and methods.\n",
        "\n",
        "**Note:**\n",
        "\n",
        "Consider all instance variables to be private and methods to be public.\n",
        "\n",
        "An instructor may have multiple technology skills, so consider instance variable, technology_skill to be a list.\n",
        "\n",
        "check_eligibility(): Return true if eligibility criteria is satisfied by the instructor. Else, return false\n",
        "\n",
        "allocate_course(technology): Return true if the course which requires the given technology can be allocated to the instructor. Else, return false.\n",
        "\n",
        "Represent a few objects of the class, initialize instance variables using setter methods, invoke appropriate methods and test your program."
      ],
      "metadata": {
        "id": "JBWLKvPLt51W"
      }
    },
    {
      "cell_type": "code",
      "source": [
        "\n",
        "class Instructor:\n",
        "\n",
        "  def __init__(self,name,technology,experience,feedback):\n",
        "    self.__name = name\n",
        "    self.__technology = technology\n",
        "    self.__experience = experience\n",
        "    self.__feedback = feedback\n",
        "\n",
        "  def check_eligibility(self):\n",
        "\n",
        "    if self.__experience > 3 and self.__feedback >= 4.5:\n",
        "      return True\n",
        "    elif self.__experience <= 3 and self.__feedback >= 4:\n",
        "      return True\n",
        "    else:\n",
        "      return False\n",
        "\n",
        "  def allocate_course(self,tech):\n",
        "    is_eligible = self.check_eligibility()\n",
        "\n",
        "    if is_eligible:\n",
        "      if tech in self.__technology:\n",
        "        return True\n",
        "\n",
        "      else:\n",
        "        return False\n",
        "    else:\n",
        "      return False\n",
        "\n",
        "\n",
        "ins = Instructor('Jyoti',['Data Science', 'Web development'],5,3.5)\n",
        "ins.allocate_course('Data Science')"
      ],
      "metadata": {
        "id": "dkw0eZs4vCyl",
        "colab": {
          "base_uri": "https://localhost:8080/"
        },
        "outputId": "1e0e2ef9-3a14-4609-a4dd-b88d629b5a79"
      },
      "execution_count": 8,
      "outputs": [
        {
          "output_type": "execute_result",
          "data": {
            "text/plain": [
              "False"
            ]
          },
          "metadata": {},
          "execution_count": 8
        }
      ]
    }
  ]
}