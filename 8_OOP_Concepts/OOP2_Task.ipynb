{
  "nbformat": 4,
  "nbformat_minor": 0,
  "metadata": {
    "colab": {
      "provenance": [],
      "authorship_tag": "ABX9TyOVCFwhj09HuMhKFl0ml2PY",
      "include_colab_link": true
    },
    "kernelspec": {
      "name": "python3",
      "display_name": "Python 3"
    },
    "language_info": {
      "name": "python"
    }
  },
  "cells": [
    {
      "cell_type": "markdown",
      "metadata": {
        "id": "view-in-github",
        "colab_type": "text"
      },
      "source": [
        "<a href=\"https://colab.research.google.com/github/jyotirangu/DataScience/blob/main/8_OOP_Concepts/OOP2_Task.ipynb\" target=\"_parent\"><img src=\"https://colab.research.google.com/assets/colab-badge.svg\" alt=\"Open In Colab\"/></a>"
      ]
    },
    {
      "cell_type": "markdown",
      "source": [
        "# Q1:Count number of instances of a class created in Python?\n",
        "# Example: Say Car is any class.\n",
        "\n",
        "# maruti = Car()\n",
        "# bmw = Car()\n",
        "# honda = Car()\n",
        "# So after creating above instances. We want to count how many instances are created of Car class.\n",
        "\n",
        "# For above example no of instances = 3.\n",
        "\n",
        "# Write a program for above problem."
      ],
      "metadata": {
        "id": "mMxR5LXLcOSW"
      }
    },
    {
      "cell_type": "code",
      "execution_count": 1,
      "metadata": {
        "colab": {
          "base_uri": "https://localhost:8080/"
        },
        "id": "FrkcwOrCcGN1",
        "outputId": "2eb3b2ce-bdf3-435b-8894-5abd684486e4"
      },
      "outputs": [
        {
          "output_type": "stream",
          "name": "stdout",
          "text": [
            "Number of Car instances created: 3\n"
          ]
        }
      ],
      "source": [
        "class Car:\n",
        "\n",
        "  __count = 0 # private class variable\n",
        "\n",
        "  def __init__(self):\n",
        "    Car.__count += 1\n",
        "\n",
        "  # When you define a method with the @classmethod decorator, Python\n",
        "  # automatically passes the class (not the instance) as the first argument to\n",
        "  # that method — and by convention, we call that first parameter cls. This allows\n",
        "  #  you to access class-level variables and other class-level methods.\n",
        "\n",
        "  @classmethod\n",
        "  def get_count(cls):\n",
        "        return cls.__count  # public class method to access count\n",
        "\n",
        "\n",
        "maruti = Car()\n",
        "bmw = Car()\n",
        "honda = Car()\n",
        "\n",
        "print(\"Number of Car instances created:\", Car.get_count())"
      ]
    },
    {
      "cell_type": "markdown",
      "source": [
        "Q-2: Create a deck of cards class.\n",
        "\n",
        "Internally, the deck of cards should use another class, a card class. Your requirements are:\n",
        "\n",
        "The Deck class should have a deal method to deal a single card from the deck\n",
        "After a card is dealt, it is removed from the deck.\n",
        "\n",
        "There should be a shuffle method which makes sure the deck of cards has all 52 cards and then rearranges them randomly.\n",
        "\n",
        "The Card class should have a suit (Hearts, Diamonds, Clubs, Spades) and a value (A,2,3,4,5,6,7,8,9,10,J,Q,K)\n",
        "\n",
        "\n",
        "Deck Class\n",
        "\n",
        "It is class of all possible cards in a deck. Total 52 cards.\n",
        "\n",
        "Methods - deal() it will take out one card from the deck of cards.\n",
        "\n",
        "Deck of cards should get shuffeled while creating the deck object.\n",
        "\n",
        "no of cards remaining in deck - <number> should dsiplay on printing any deck object.\n",
        "\n",
        "\n",
        "Card class\n",
        "\n",
        "It is a class of card\n",
        "Atrributes - suit and value\n",
        "<suit> of <value> should dsiplay on printing any card object."
      ],
      "metadata": {
        "id": "uuLW1Jobco9d"
      }
    },
    {
      "cell_type": "code",
      "source": [
        "import random\n",
        "\n",
        "class Card:\n",
        "\n",
        "  def __init__(self, suit, value):\n",
        "    self.suit = suit\n",
        "    self.value = value\n",
        "\n",
        "  def __repr__(self):\n",
        "    return '{} of {}'.format(self.value, self.suit)\n",
        "\n",
        "\n",
        "class Deck:\n",
        "\n",
        "  def __init__(self):\n",
        "    suits = ['Hearts','Diamonds','Clubs','Spades']\n",
        "    values = ['A','2','3','4','5','6','7','8','9','10','J','K','Q']\n",
        "    self.cards = [Card(suit,value) for suit in suits for value in values]\n",
        "    # print(self.cards)\n",
        "\n",
        "  def __str__(self):\n",
        "    return \"Cards left \"+ str(len(self.cards))\n",
        "\n",
        "  def shuffle(self):\n",
        "    if len(self.cards) < 52:\n",
        "      print('Only full deck can be shuffle')\n",
        "    else:\n",
        "      random.shuffle(self.cards)\n",
        "    return self.cards\n",
        "\n",
        "  def deal(self):\n",
        "    if len(self.cards) == 0:\n",
        "      print('All cards have been dealt')\n",
        "    return self.cards.pop()\n",
        "\n",
        "deck = Deck()\n",
        "deck.shuffle()\n",
        "print(deck.deal())\n",
        "print(deck.deal())\n",
        "print(deck)"
      ],
      "metadata": {
        "colab": {
          "base_uri": "https://localhost:8080/"
        },
        "id": "7xIkF2bScxx1",
        "outputId": "7d23ebd5-b9cc-4cfd-a08c-1e5caa0175c6"
      },
      "execution_count": 2,
      "outputs": [
        {
          "output_type": "stream",
          "name": "stdout",
          "text": [
            "6 of Clubs\n",
            "7 of Clubs\n",
            "Cards left 50\n"
          ]
        }
      ]
    },
    {
      "cell_type": "markdown",
      "source": [
        "Q-3: Find the area of a rectangle.\n",
        "Approach:\n",
        "\n",
        "The class name should be Rectangle.\n",
        "\n",
        "The constructor should accept two parameters length and height but you can't pass the values directly to it while creating the constructor.\n",
        "\n",
        "E.g., rectangle = Rectangle(length=10, height=8) <-- you can't do that while creating the instances.\n",
        "\n",
        "Create a method called area() which has no parameters.\n",
        "\n",
        "Create a method called is_square() which also has no parameters. Return True if the rectangle is a square otherwise return False.\n",
        "\n",
        "If you are using a if-else block inside the is_square() method, then use the one-linear syntax."
      ],
      "metadata": {
        "id": "2HhdQSAqc6KS"
      }
    },
    {
      "cell_type": "code",
      "source": [
        "class Rectangle:\n",
        "  def __init__(self):\n",
        "    self.len = 0\n",
        "    self.ht = 0\n",
        "    self.set_dimension()\n",
        "\n",
        "\n",
        "  def set_dimension(self):\n",
        "    self.len = int(input('Enter the length : '))\n",
        "    self.ht = int(input('Enter the height : '))\n",
        "\n",
        "\n",
        "  def area(self):\n",
        "    return self.len * self.ht\n",
        "\n",
        "  def is_square(self):\n",
        "    return True if self.len == self.ht else False\n",
        "\n",
        "\n",
        "rect = Rectangle()\n",
        "print(\"Area:\", rect.area())\n",
        "print(\"Is square?\", rect.is_square())"
      ],
      "metadata": {
        "colab": {
          "base_uri": "https://localhost:8080/"
        },
        "id": "178P_FiNdAe_",
        "outputId": "ead588cf-cbc3-4177-df5e-87c89347b66a"
      },
      "execution_count": 3,
      "outputs": [
        {
          "output_type": "stream",
          "name": "stdout",
          "text": [
            "Enter the length : 12\n",
            "Enter the height : 12\n",
            "Area: 144\n",
            "Is square? True\n"
          ]
        }
      ]
    },
    {
      "cell_type": "markdown",
      "source": [
        "\n",
        "\n",
        "Q-4: Problem 4\n",
        "Statement: Write a program that uses datetime module within a class.\n",
        "\n",
        "Enter manufacturing date and expiry date of the product.\n",
        "\n",
        "The program must display the years, months and days that are left for expiry."
      ],
      "metadata": {
        "id": "CRtjiaF7dKza"
      }
    },
    {
      "cell_type": "code",
      "source": [
        "import datetime\n",
        "from dateutil.relativedelta import relativedelta\n",
        "\n",
        "class Product:\n",
        "\n",
        "  def __init__(self):\n",
        "    self.man_date = None\n",
        "    self.exp_date = None\n",
        "    self.details()\n",
        "    self.expiry_info()\n",
        "\n",
        "  def details(self):\n",
        "    print('Enter the Manufacturing Date of the product : ')\n",
        "    y1 = int(input('Year : '))\n",
        "    m1 = int(input('Month : '))\n",
        "    d1 = int(input('Date : '))\n",
        "    self.man_date = datetime.date(y1,m1,d1)\n",
        "\n",
        "    print('\\nEnter the expiry date of the product : ')\n",
        "    y2 = int(input('Year : '))\n",
        "    m2 = int(input('Month : '))\n",
        "    d2 = int(input('Date : '))\n",
        "    self.exp_date = datetime.date(y2,m2,d2)\n",
        "\n",
        "  def expiry_info(self):\n",
        "    self.today = datetime.date.today()\n",
        "\n",
        "    if self.exp_date < self.today:\n",
        "      print(\"The product has already expired.\")\n",
        "\n",
        "    else:\n",
        "      self.diff = relativedelta(self.exp_date,self.today)\n",
        "      print('Time left for the expiry is {} years {} months {} days '.format(self.diff.years, self.diff.months, self.diff.days))\n",
        "\n",
        "p = Product()"
      ],
      "metadata": {
        "colab": {
          "base_uri": "https://localhost:8080/"
        },
        "id": "K6Qo_eQmdRK5",
        "outputId": "a1337e14-6c51-42b7-89a9-e96e2919f429"
      },
      "execution_count": 4,
      "outputs": [
        {
          "output_type": "stream",
          "name": "stdout",
          "text": [
            "Enter the Manufacturing Date of the product : \n",
            "Year : 2021\n",
            "Month : 12\n",
            "Date : 23\n",
            "\n",
            "Enter the expiry date of the product : \n",
            "Year : 2025\n",
            "Month : 12\n",
            "Date : 23\n",
            "Time left for the expiry is 0 years 6 months 13 days \n"
          ]
        }
      ]
    },
    {
      "cell_type": "markdown",
      "source": [
        "Q-5: Problem 5\n",
        "Statement: A university wants to automate their admission process.\n",
        "\n",
        "Students are admitted based on the marks scored in the qualifying exam. A student is identified by student id, age and marks in qualifying exam.\n",
        "\n",
        "Data are valid, if:\n",
        "\n",
        "Age is greater than 20\n",
        "Marks is between 0 and 100 (both inclusive)\n",
        "\n",
        "A student qualifies for admission, if\n",
        "\n",
        "Age and marks are valid and\n",
        "Marks is 65 or more\n",
        "\n",
        "Write a python program to represent the students seeking admission in the university."
      ],
      "metadata": {
        "id": "LDJeSLuVdbmH"
      }
    },
    {
      "cell_type": "code",
      "source": [
        "class Student:\n",
        "\n",
        "  def __init__(self):\n",
        "    self.__id = None\n",
        "    self.__marks = None\n",
        "    self.__age = None\n",
        "\n",
        "  # setter methods\n",
        "  def set_id(self,id):\n",
        "    self.__id = id\n",
        "  def set_marks(self, marks):\n",
        "    self.__marks = marks\n",
        "  def set_age(self, age):\n",
        "    self.__age = age\n",
        "\n",
        "  # getters\n",
        "  def get_id(self):\n",
        "    return self.__id\n",
        "  def get_marks(self):\n",
        "    return self.__marks\n",
        "  def get_age(self):\n",
        "    return self.__age\n",
        "\n",
        "\n",
        "  def age(self):\n",
        "    return self.__age > 20\n",
        "\n",
        "  def validate_marks(self):\n",
        "    return self.__marks > 0 and self.__marks <= 100\n",
        "\n",
        "  def check_qualification(self):\n",
        "    if self.age() and self.validate_marks():\n",
        "      return self.__marks >= 65\n",
        "    else:\n",
        "      return False\n",
        "\n",
        "s1 = Student()\n",
        "s1.set_id(101)\n",
        "s1.set_age(21)\n",
        "s1.set_marks(66)\n",
        "\n",
        "print(s1.get_id())\n",
        "print(s1.get_age())\n",
        "print(s1.get_marks())\n",
        "\n",
        "s1.check_qualification()"
      ],
      "metadata": {
        "colab": {
          "base_uri": "https://localhost:8080/"
        },
        "id": "Omq7T_Sqdny2",
        "outputId": "2ca1443f-112e-4f62-962e-215f1ca6ce53"
      },
      "execution_count": 5,
      "outputs": [
        {
          "output_type": "stream",
          "name": "stdout",
          "text": [
            "101\n",
            "21\n",
            "66\n"
          ]
        },
        {
          "output_type": "execute_result",
          "data": {
            "text/plain": [
              "True"
            ]
          },
          "metadata": {},
          "execution_count": 5
        }
      ]
    },
    {
      "cell_type": "markdown",
      "source": [
        "Q-6: Ice-Cream Scoops and Bowl shop\n",
        "Create a class Scoop which has one public property flavor and one private proptery price.\n",
        "\n",
        "Take flavor values during object creation.\n",
        "\n",
        "Create a class Bowl with private prperty scoop_list which will have list of scoopd object.\n",
        "\n",
        "Create a method add_scoops in Bowl class which will add any no of Scoop objects given as parameter and store it in scoops_list.\n",
        "\n",
        "Make getter and setter method for price property.\n",
        "\n",
        "Make a method display to display flavour and price of each Scoop in scoop_list and print total price of the bowl by adding all flavour scoops prices.\n",
        "\n",
        "Make a method sold in both Scoop class and Bowl class to print no of quantity sold."
      ],
      "metadata": {
        "id": "600vwjyFdsaO"
      }
    },
    {
      "cell_type": "markdown",
      "source": [
        "Ex.-\n",
        "\n",
        "choco = Scoop('chocolate')\n",
        "\n",
        "print(choco)\n",
        "\n",
        "choco.set_price(100)\n",
        "\n",
        "berry = Scoop('berry')\n",
        "\n",
        "berry.set_price(120)\n",
        "\n",
        "print(berry)\n",
        "\n",
        "vanilla = Scoop('vanilla')\n",
        "\n",
        "vanilla.set_price(150)\n",
        "\n",
        "bowl = Bowl()\n",
        "\n",
        "bowl.add_scoops(choco) # Giving one parameter\n",
        "\n",
        "bowl.add_scoops(berry, vanilla) # Multiple\n",
        "\n",
        "add_scoops should handle both scenerios\n",
        "print(bowl)\n",
        "\n",
        "bowl.display()\n",
        "\n",
        "Scoop.sold()\n",
        "\n",
        "Bowl.sold()"
      ],
      "metadata": {
        "id": "2cASV00WdydI"
      }
    },
    {
      "cell_type": "markdown",
      "source": [
        "Output\n",
        "\n",
        "Flavor - chocolate Price - None\n",
        "\n",
        "Flavor - berry Price - 120\n",
        "\n",
        "chocolate\n",
        "\n",
        "berry\n",
        "\n",
        "vanilla\n",
        "\n",
        "Dsiplaying Bowl\n",
        "\n",
        "Flavor - chocolate Price - 100\n",
        "\n",
        "Flavor - berry Price - 120\n",
        "\n",
        "Flavor - vanilla Price - 150\n",
        "\n",
        "Price of Bowl - 370\n",
        "\n",
        "3 scoops sold\n",
        "\n",
        "1 bowls sold"
      ],
      "metadata": {
        "id": "Mef2L-1veDQM"
      }
    },
    {
      "cell_type": "code",
      "source": [
        "\n",
        "class Scoop:\n",
        "\n",
        "  __counter = 0\n",
        "\n",
        "  def __init__(self,flavor):\n",
        "    self.flavor = flavor\n",
        "    self.__price = None\n",
        "    Scoop.__counter += 1\n",
        "\n",
        "  def set_price(self,price):\n",
        "    self.__price = price\n",
        "\n",
        "  def get_price(self):\n",
        "    return self.__price\n",
        "\n",
        "  def __str__(self):\n",
        "    return \"Flavor - {} and Price - {}\".format(self.flavor,self.__price)\n",
        "\n",
        "  @staticmethod\n",
        "  def sold():\n",
        "    return Scoop.__counter\n",
        "\n",
        "\n",
        "class Bowl:\n",
        "\n",
        "  __counter = 0\n",
        "\n",
        "  def __init__(self):\n",
        "    self.__scoop_list = []\n",
        "    Bowl.__counter += 1\n",
        "\n",
        "  @staticmethod\n",
        "  def sold():\n",
        "    return Bowl.__counter\n",
        "\n",
        "  def add_scoops(self,*new_scoops):\n",
        "    for scoop in new_scoops:\n",
        "      self.__scoop_list.append(scoop)\n",
        "\n",
        "  def display(self):\n",
        "    total = 0\n",
        "    for scoop in self.__scoop_list:\n",
        "      print(scoop)\n",
        "      total = total + scoop.get_price()\n",
        "\n",
        "    print('Total price : ', total)\n",
        "\n",
        "\n",
        "choco = Scoop('chocolate')\n",
        "choco.set_price(100)\n",
        "\n",
        "berry = Scoop('berry')\n",
        "berry.set_price(120)\n",
        "\n",
        "vanilla = Scoop('vanilla')\n",
        "vanilla.set_price(150)\n",
        "\n",
        "bowl = Bowl()\n",
        "\n",
        "bowl.add_scoops(choco) # Giving one parameter\n",
        "bowl.add_scoops(berry, vanilla) # Multiple\n",
        "# add_scoops should handle both scenerios\n",
        "\n",
        "bowl.display()\n",
        "\n",
        "print(Scoop.sold())\n",
        "print(Bowl.sold())"
      ],
      "metadata": {
        "colab": {
          "base_uri": "https://localhost:8080/"
        },
        "id": "UuBV2lwmeJ_E",
        "outputId": "2c1c523b-79b7-4e3e-f7ee-4db8c5c9abf3"
      },
      "execution_count": 6,
      "outputs": [
        {
          "output_type": "stream",
          "name": "stdout",
          "text": [
            "Flavor - chocolate and Price - 100\n",
            "Flavor - berry and Price - 120\n",
            "Flavor - vanilla and Price - 150\n",
            "Total price :  370\n",
            "3\n",
            "1\n"
          ]
        }
      ]
    },
    {
      "cell_type": "markdown",
      "source": [
        "Q-7:Ice-Cream Bowl continue..\n",
        "\n",
        "Making advancement in the above classes. Scoop and Bowl\n",
        "\n",
        "1. Introduce a property max_scoops in Bowl class to signify maximum scoops that a bowl can have, exceeding that it will display Bowl is full. Take default value as 3.\n",
        "\n",
        "2. no_of_scoop in Scoop class with default value of 1\n",
        "\n",
        "3. Print <flavour> added with every scoop added."
      ],
      "metadata": {
        "id": "joCJOBTreTQA"
      }
    },
    {
      "cell_type": "markdown",
      "source": [
        "# Testing Code-1\n",
        "\n",
        "choco = Scoop('chocolate', 1)\n",
        "\n",
        "choco.set_price(100)\n",
        "\n",
        "print(choco)\n",
        "\n",
        "\n",
        "berry = Scoop('berry', 2)\n",
        "\n",
        "berry.set_price(120)\n",
        "\n",
        "print(berry)\n",
        "\n",
        "vanilla = Scoop('vanilla') # no of scoop parameter not given, will take default value\n",
        "\n",
        "vanilla.set_price(150)\n",
        "\n",
        "print(vanilla)\n",
        "\n",
        "Output:\n",
        "\n",
        "Flavor - chocolate, No of Scoops - 1, Price - 100\n",
        "\n",
        "Flavor - berry, No of Scoops - 2, Price - 120\n",
        "\n",
        "Flavor - vanilla, No of Scoops - 1, Price - 150"
      ],
      "metadata": {
        "id": "R-b-aDNDeoem"
      }
    },
    {
      "cell_type": "markdown",
      "source": [
        "Testing code-2 considering above test code executed\n",
        "\n",
        "bowl1 = Bowl() # max_scoop parameter not given, will take default value\n",
        "\n",
        "bowl1.add_scoops(choco) # Giving one parameter\n",
        "\n",
        "bowl1.add_scoops(berry, vanilla) # Multiple\n",
        "\n",
        "bowl1.display()\n",
        "\n",
        "Output\n",
        "\n",
        "chocolate added\n",
        "\n",
        "berry added\n",
        "\n",
        "Bowl is full\n",
        "\n",
        "Dsiplaying Bowl-1\n",
        "\n",
        "Flavor - chocolate, No of Scoops - 1, Price - 100\n",
        "\n",
        "Flavor - berry, No of Scoops - 2, Price - 120\n",
        "\n",
        "Price of Bowl-1: 340"
      ],
      "metadata": {
        "id": "QnMYaPf0e9ZL"
      }
    },
    {
      "cell_type": "markdown",
      "source": [
        "Testing code-3, considering above tests executed\n",
        "\n",
        "# Tetsing code-3\n",
        "\n",
        "bowl2 = Bowl(2)\n",
        "\n",
        "bowl2.add_scoops(berry)\n",
        "\n",
        "bowl2.add_scoops(choco)\n",
        "\n",
        "\n",
        "bowl2.display()\n",
        "\n",
        "Bowl.sold()\n",
        "\n",
        "Output:\n",
        "\n",
        "\n",
        "berry added\n",
        "\n",
        "chocolate not added. Bowl is full!!\n",
        "\n",
        "Dsiplaying Bowl-2\n",
        "\n",
        "Flavor - berry, No of Scoops - 2, Price - 120\n",
        "\n",
        "Price of Bowl-2: 240\n",
        "\n",
        "2 bowls sold"
      ],
      "metadata": {
        "id": "0EPgG7GOfHNm"
      }
    },
    {
      "cell_type": "code",
      "source": [
        "\n",
        "class Scoop:\n",
        "\n",
        "  __counter = 0\n",
        "\n",
        "  def __init__(self,flavor,num_scoops=1):\n",
        "    self.flavor = flavor\n",
        "    self.__price = None\n",
        "    self.num_scoops = num_scoops\n",
        "    Scoop.__counter += 1\n",
        "\n",
        "  def set_price(self,price):\n",
        "    self.__price = price\n",
        "\n",
        "  def get_price(self):\n",
        "    return self.__price\n",
        "\n",
        "  def __str__(self):\n",
        "    return \"Flavor - {} and Price - {}\".format(self.flavor,self.__price)\n",
        "\n",
        "  @staticmethod\n",
        "  def sold():\n",
        "    return Scoop.__counter\n",
        "\n",
        "\n",
        "class Bowl:\n",
        "\n",
        "  __counter = 0\n",
        "\n",
        "  def __init__(self,max_scoops=3):\n",
        "    self.__scoop_list = []\n",
        "    self.scoops_added = 0\n",
        "    self.max_scoops = max_scoops\n",
        "    Bowl.__counter += 1\n",
        "\n",
        "  @staticmethod\n",
        "  def sold():\n",
        "    return Bowl.__counter\n",
        "\n",
        "  def add_scoops(self,*new_scoops):\n",
        "    for scoop in new_scoops:\n",
        "      if self.scoops_added + scoop.num_scoops <= self.max_scoops:\n",
        "        self.__scoop_list.append(scoop)\n",
        "        self.scoops_added = self.scoops_added + scoop.num_scoops\n",
        "        print(scoop.flavor,' added')\n",
        "      else:\n",
        "        print('Bowl is full')\n",
        "        break\n",
        "\n",
        "\n",
        "  def display(self):\n",
        "    total = 0\n",
        "    for scoop in self.__scoop_list:\n",
        "      print(scoop)\n",
        "      total = total + scoop.get_price()\n",
        "\n",
        "    print('Total price : ', total)\n",
        "\n",
        "\n",
        "choco = Scoop('chocolate', 1)\n",
        "choco.set_price(100)\n",
        "print(choco)\n",
        "\n",
        "\n",
        "berry = Scoop('berry', 2)\n",
        "berry.set_price(120)\n",
        "print(berry)\n",
        "\n",
        "vanilla = Scoop('vanilla') # no of scoop parameter not given, will take default value\n",
        "vanilla.set_price(150)\n",
        "print(vanilla)\n",
        "\n",
        "\n",
        "bowl1 = Bowl() # max_scoop parameter not given, will take default value\n",
        "bowl1.add_scoops(choco) # Giving one parameter\n",
        "bowl1.add_scoops(berry, vanilla) # Multiple\n",
        "bowl1.display()"
      ],
      "metadata": {
        "colab": {
          "base_uri": "https://localhost:8080/"
        },
        "id": "SWFXpGlPeei7",
        "outputId": "44ec229b-dbca-4ca5-8fc3-6cc26a32ac8c"
      },
      "execution_count": 7,
      "outputs": [
        {
          "output_type": "stream",
          "name": "stdout",
          "text": [
            "Flavor - chocolate and Price - 100\n",
            "Flavor - berry and Price - 120\n",
            "Flavor - vanilla and Price - 150\n",
            "chocolate  added\n",
            "berry  added\n",
            "Bowl is full\n",
            "Flavor - chocolate and Price - 100\n",
            "Flavor - berry and Price - 120\n",
            "Total price :  220\n"
          ]
        }
      ]
    }
  ]
}