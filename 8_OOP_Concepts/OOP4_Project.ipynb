{
  "nbformat": 4,
  "nbformat_minor": 0,
  "metadata": {
    "colab": {
      "provenance": [],
      "authorship_tag": "ABX9TyPeCHyFz60wAZLqdPbzsYka",
      "include_colab_link": true
    },
    "kernelspec": {
      "name": "python3",
      "display_name": "Python 3"
    },
    "language_info": {
      "name": "python"
    }
  },
  "cells": [
    {
      "cell_type": "markdown",
      "metadata": {
        "id": "view-in-github",
        "colab_type": "text"
      },
      "source": [
        "<a href=\"https://colab.research.google.com/github/jyotirangu/DataScience/blob/main/8_OOP_Concepts/OOP4_Project.ipynb\" target=\"_parent\"><img src=\"https://colab.research.google.com/assets/colab-badge.svg\" alt=\"Open In Colab\"/></a>"
      ]
    },
    {
      "cell_type": "code",
      "execution_count": null,
      "metadata": {
        "colab": {
          "base_uri": "https://localhost:8080/"
        },
        "id": "eQzgdGhO_V8j",
        "outputId": "a0a575e4-ea57-4ec5-f3d5-60cf8549b4be"
      },
      "outputs": [
        {
          "output_type": "stream",
          "name": "stdout",
          "text": [
            "Collecting nlpcloud\n",
            "  Downloading nlpcloud-1.1.47-py3-none-any.whl.metadata (1.1 kB)\n",
            "Requirement already satisfied: requests in /usr/local/lib/python3.11/dist-packages (from nlpcloud) (2.32.3)\n",
            "Requirement already satisfied: charset-normalizer<4,>=2 in /usr/local/lib/python3.11/dist-packages (from requests->nlpcloud) (3.4.2)\n",
            "Requirement already satisfied: idna<4,>=2.5 in /usr/local/lib/python3.11/dist-packages (from requests->nlpcloud) (3.10)\n",
            "Requirement already satisfied: urllib3<3,>=1.21.1 in /usr/local/lib/python3.11/dist-packages (from requests->nlpcloud) (2.4.0)\n",
            "Requirement already satisfied: certifi>=2017.4.17 in /usr/local/lib/python3.11/dist-packages (from requests->nlpcloud) (2025.4.26)\n",
            "Downloading nlpcloud-1.1.47-py3-none-any.whl (3.9 kB)\n",
            "Installing collected packages: nlpcloud\n",
            "Successfully installed nlpcloud-1.1.47\n"
          ]
        }
      ],
      "source": [
        "!pip install nlpcloud"
      ]
    },
    {
      "cell_type": "code",
      "source": [
        "import nlpcloud\n",
        "\n",
        "client = nlpcloud.Client(\"finetuned-llama-3-70b\", \"dd7e0218333da03d74f52e25af94f1f93d5a5885\", gpu=True)\n",
        "client.entities(\n",
        "    \"\"\"John Doe started learning Javascript when he was 15 years old. After a couple of years he switched to Python and starter learning low level programming. He is now a Go expert at Google.\"\"\",\n",
        "    searched_entity=\"programming languages\"\n",
        ")"
      ],
      "metadata": {
        "id": "_DoEg4gc_vD5",
        "outputId": "54bf6dbf-654d-42c4-a6e9-5acee8edf2fc",
        "colab": {
          "base_uri": "https://localhost:8080/"
        }
      },
      "execution_count": null,
      "outputs": [
        {
          "output_type": "execute_result",
          "data": {
            "text/plain": [
              "{'entities': [{'start': 26,\n",
              "   'end': 36,\n",
              "   'type': 'programming languages',\n",
              "   'text': 'Javascript'},\n",
              "  {'start': 102,\n",
              "   'end': 108,\n",
              "   'type': 'programming languages',\n",
              "   'text': 'Python'},\n",
              "  {'start': 165, 'end': 167, 'type': 'programming languages', 'text': 'Go'}]}"
            ]
          },
          "metadata": {},
          "execution_count": 2
        }
      ]
    },
    {
      "cell_type": "code",
      "source": [
        "import nlpcloud\n",
        "\n",
        "class NLPApp:\n",
        "\n",
        "  def __init__(self):\n",
        "\n",
        "   self.__database = {}\n",
        "   self.__first_menu()\n",
        "\n",
        "  def __first_menu(self):\n",
        "\n",
        "    first_input = input(\"\"\"\n",
        "    Hi! How would you like to proceed?\n",
        "    1. Not a member? Register\n",
        "    2. Already a member? Login\n",
        "    3. Exit\n",
        "    \"\"\")\n",
        "\n",
        "    if first_input == '1':\n",
        "      self.__register()\n",
        "    elif first_input == '2':\n",
        "      self.__login()\n",
        "    else:\n",
        "      exit()\n",
        "\n",
        "  def __second_menu(self):\n",
        "\n",
        "    second_input = input(\"\"\"\n",
        "    Hi! How would you like to proceed?\n",
        "    1. NER\n",
        "    2. Sentiment Analysis\n",
        "    3. Logout\n",
        "    \"\"\")\n",
        "\n",
        "    if second_input == '1':\n",
        "      self.__ner()\n",
        "    elif second_input == '2':\n",
        "      self.__sentiment_analysis()\n",
        "    else:\n",
        "      exit()\n",
        "\n",
        "#  The self. is not mentioned for the variables of the __register() method because we are not going to use those variable for other methods() they are specified for this specific method only\n",
        "  def __register(self):\n",
        "    name = input('Enter name : ')\n",
        "    email = input('Enter your email : ')\n",
        "    password = input('Enter your password :')\n",
        "\n",
        "    if email in self.__database:\n",
        "      print('Email already exist!')\n",
        "    else:\n",
        "      self.__database[email] = [name,password]\n",
        "      print('Registration Successfully, now login')\n",
        "      print(self.__database)\n",
        "      self.__first_menu()\n",
        "\n",
        "  def __login(self):\n",
        "    email = input('Enter your email :')\n",
        "    password = input('Enter your password : ')\n",
        "\n",
        "    if email in self.__database:\n",
        "      if self.__database[email][1] == password:\n",
        "        print('Login Successfully')\n",
        "        self.__second_menu()\n",
        "      else:\n",
        "        print('Wrong password')\n",
        "        self.__login()\n",
        "    else:\n",
        "      print('This email is not registered')\n",
        "      self.__first_menu()\n",
        "\n",
        "  def __ner(self):\n",
        "    para = input('Enter the paragraph : ')\n",
        "    search_term = input('What would you like to search : ')\n",
        "\n",
        "    client = nlpcloud.Client(\"finetuned-llama-3-70b\", \"dd7e0218333da03d74f52e25af94f1f93d5a5885\", gpu=True)\n",
        "    response = client.entities(para,searched_entity=search_term)\n",
        "\n",
        "    print(response)\n",
        "    self.__second_menu()\n",
        "\n",
        "  def __sentiment_analysis(self):\n",
        "\n",
        "    para = input('Enter the paragraph : ')\n",
        "\n",
        "    client = nlpcloud.Client(\"finetuned-llama-3-70b\", \"dd7e0218333da03d74f52e25af94f1f93d5a5885\", gpu=True)\n",
        "    response = client.sentiment(para,target=\"NLP Cloud\")\n",
        "\n",
        "    L = []\n",
        "    for i in response['scored_labels']:\n",
        "      L.append(i['score'])\n",
        "\n",
        "    index = sorted(list(enumerate(L)),key=lambda x:x[1],reverse=True)[0][0]\n",
        "\n",
        "    print(response['scored_labels'][index]['label'])\n",
        "    self.__second_menu()\n",
        "\n",
        "\n",
        "\n",
        "obj = NLPApp()"
      ],
      "metadata": {
        "colab": {
          "base_uri": "https://localhost:8080/"
        },
        "id": "Tob_SOdsKgI_",
        "outputId": "82e7145b-c49b-480e-89a1-5c5b746adeea"
      },
      "execution_count": null,
      "outputs": [
        {
          "name": "stdout",
          "output_type": "stream",
          "text": [
            "\n",
            "    Hi! How would you like to proceed?\n",
            "    1. Not a member? Register\n",
            "    2. Already a member? Login\n",
            "    3. Exit\n",
            "    1\n",
            "Enter name : Jyoti Rangu\n",
            "Enter your email : jyoti@gmail.com\n",
            "Enter your password :1234\n",
            "Registration Successfully, now login\n",
            "{'jyoti@gmail.com': ['Jyoti Rangu', '1234']}\n",
            "\n",
            "    Hi! How would you like to proceed?\n",
            "    1. Not a member? Register\n",
            "    2. Already a member? Login\n",
            "    3. Exit\n",
            "    1\n",
            "Enter name : Shruti Rangu\n",
            "Enter your email : shruti@gmail.com\n",
            "Enter your password :1234\n",
            "Registration Successfully, now login\n",
            "{'jyoti@gmail.com': ['Jyoti Rangu', '1234'], 'shruti@gmail.com': ['Shruti Rangu', '1234']}\n",
            "\n",
            "    Hi! How would you like to proceed?\n",
            "    1. Not a member? Register\n",
            "    2. Already a member? Login\n",
            "    3. Exit\n",
            "    2\n",
            "Enter your email :jyoti@gmail.com\n",
            "Enter your password : 1234\n",
            "Login Successfully\n",
            "\n",
            "    Hi! How would you like to proceed?\n",
            "    1. NER\n",
            "    2. Sentiment Analysis\n",
            "    3. Logout\n",
            "    1\n",
            "Enter the paragraph : John Doe started learning Javascript when he was 15 years old. After a couple of years he switched to Python and starter learning low level programming. He is now a Go expert at Google.\n",
            "What would you like to search : programming languages\n",
            "{'entities': [{'start': 26, 'end': 36, 'type': 'programming languages', 'text': 'Javascript'}, {'start': 102, 'end': 108, 'type': 'programming languages', 'text': 'Python'}, {'start': 165, 'end': 167, 'type': 'programming languages', 'text': 'Go'}]}\n",
            "\n",
            "    Hi! How would you like to proceed?\n",
            "    1. NER\n",
            "    2. Sentiment Analysis\n",
            "    3. Logout\n",
            "    2\n",
            "Enter the paragraph : I hate convoluted products with poor documentation. I see such products all the time. But NLP Cloud is not like that!\n",
            "POSITIVE\n",
            "\n",
            "    Hi! How would you like to proceed?\n",
            "    1. NER\n",
            "    2. Sentiment Analysis\n",
            "    3. Logout\n",
            "    3\n"
          ]
        }
      ]
    },
    {
      "cell_type": "code",
      "source": [
        "d = {'scored_labels': [{'label': 'sadness', 'score': 0.98093181848526}, {'label': 'joy', 'score': 0.001407247269526124}, {'label': 'love', 'score': 0.0004157320945523679}, {'label': 'anger', 'score': 0.01649504341185093}, {'label': 'fear', 'score': 0.00039679379551671445}, {'label': 'surprise', 'score': 0.00035347335506230593}]}"
      ],
      "metadata": {
        "id": "r9zSzF3Vg9Sq"
      },
      "execution_count": null,
      "outputs": []
    },
    {
      "cell_type": "code",
      "source": [
        "d"
      ],
      "metadata": {
        "colab": {
          "base_uri": "https://localhost:8080/"
        },
        "id": "QOljHVkVhBqn",
        "outputId": "95e15d1d-7941-4059-b12b-f377c443121a"
      },
      "execution_count": null,
      "outputs": [
        {
          "output_type": "execute_result",
          "data": {
            "text/plain": [
              "{'scored_labels': [{'label': 'sadness', 'score': 0.98093181848526},\n",
              "  {'label': 'joy', 'score': 0.001407247269526124},\n",
              "  {'label': 'love', 'score': 0.0004157320945523679},\n",
              "  {'label': 'anger', 'score': 0.01649504341185093},\n",
              "  {'label': 'fear', 'score': 0.00039679379551671445},\n",
              "  {'label': 'surprise', 'score': 0.00035347335506230593}]}"
            ]
          },
          "metadata": {},
          "execution_count": 2
        }
      ]
    },
    {
      "cell_type": "code",
      "source": [
        "L = []\n",
        "for i in d['scored_labels']:\n",
        "  L.append(i['score'])\n",
        "\n",
        "index = sorted(list(enumerate(L)),key=lambda x:x[1],reverse=True)[0][0]"
      ],
      "metadata": {
        "id": "G5cWVjt4hC-o"
      },
      "execution_count": null,
      "outputs": []
    },
    {
      "cell_type": "code",
      "source": [
        "d['scored_labels'][index]['label']"
      ],
      "metadata": {
        "colab": {
          "base_uri": "https://localhost:8080/",
          "height": 36
        },
        "id": "8tKB91bQhG_g",
        "outputId": "ce02fd5e-8937-4ffd-e247-f4233a2e4998"
      },
      "execution_count": null,
      "outputs": [
        {
          "output_type": "execute_result",
          "data": {
            "text/plain": [
              "'sadness'"
            ],
            "application/vnd.google.colaboratory.intrinsic+json": {
              "type": "string"
            }
          },
          "metadata": {},
          "execution_count": 4
        }
      ]
    },
    {
      "cell_type": "code",
      "source": [
        "!pip install emoji\n"
      ],
      "metadata": {
        "colab": {
          "base_uri": "https://localhost:8080/"
        },
        "id": "_bcjkpEtkTjA",
        "outputId": "bf1a206c-d57f-4a5f-e63f-154c4ca1769f"
      },
      "execution_count": null,
      "outputs": [
        {
          "output_type": "stream",
          "name": "stdout",
          "text": [
            "Collecting emoji\n",
            "  Downloading emoji-2.14.1-py3-none-any.whl.metadata (5.7 kB)\n",
            "Downloading emoji-2.14.1-py3-none-any.whl (590 kB)\n",
            "\u001b[?25l   \u001b[90m━━━━━━━━━━━━━━━━━━━━━━━━━━━━━━━━━━━━━━━━\u001b[0m \u001b[32m0.0/590.6 kB\u001b[0m \u001b[31m?\u001b[0m eta \u001b[36m-:--:--\u001b[0m\r\u001b[2K   \u001b[91m━━━━━━━━━━━━━━━━━\u001b[0m\u001b[90m╺\u001b[0m\u001b[90m━━━━━━━━━━━━━━━━━━━━━━\u001b[0m \u001b[32m256.0/590.6 kB\u001b[0m \u001b[31m7.5 MB/s\u001b[0m eta \u001b[36m0:00:01\u001b[0m\r\u001b[2K   \u001b[90m━━━━━━━━━━━━━━━━━━━━━━━━━━━━━━━━━━━━━━━━\u001b[0m \u001b[32m590.6/590.6 kB\u001b[0m \u001b[31m9.6 MB/s\u001b[0m eta \u001b[36m0:00:00\u001b[0m\n",
            "\u001b[?25hInstalling collected packages: emoji\n",
            "Successfully installed emoji-2.14.1\n"
          ]
        }
      ]
    },
    {
      "cell_type": "code",
      "source": [
        "import emoji\n",
        "print(emoji.emojize('Python is :red_heart:'))"
      ],
      "metadata": {
        "colab": {
          "base_uri": "https://localhost:8080/",
          "height": 331
        },
        "id": "ABRjPYcYkbbd",
        "outputId": "fa7fd0df-c49c-472d-8df1-7314d39670e0"
      },
      "execution_count": null,
      "outputs": [
        {
          "output_type": "error",
          "ename": "ModuleNotFoundError",
          "evalue": "No module named 'emoji'",
          "traceback": [
            "\u001b[0;31m---------------------------------------------------------------------------\u001b[0m",
            "\u001b[0;31mModuleNotFoundError\u001b[0m                       Traceback (most recent call last)",
            "\u001b[0;32m<ipython-input-1-3417758085>\u001b[0m in \u001b[0;36m<cell line: 0>\u001b[0;34m()\u001b[0m\n\u001b[0;32m----> 1\u001b[0;31m \u001b[0;32mimport\u001b[0m \u001b[0memoji\u001b[0m\u001b[0;34m\u001b[0m\u001b[0;34m\u001b[0m\u001b[0m\n\u001b[0m\u001b[1;32m      2\u001b[0m \u001b[0mprint\u001b[0m\u001b[0;34m(\u001b[0m\u001b[0memoji\u001b[0m\u001b[0;34m.\u001b[0m\u001b[0memojize\u001b[0m\u001b[0;34m(\u001b[0m\u001b[0;34m'Python is :red_heart:'\u001b[0m\u001b[0;34m)\u001b[0m\u001b[0;34m)\u001b[0m\u001b[0;34m\u001b[0m\u001b[0;34m\u001b[0m\u001b[0m\n",
            "\u001b[0;31mModuleNotFoundError\u001b[0m: No module named 'emoji'",
            "",
            "\u001b[0;31m---------------------------------------------------------------------------\u001b[0;32m\nNOTE: If your import is failing due to a missing package, you can\nmanually install dependencies using either !pip or !apt.\n\nTo view examples of installing some common dependencies, click the\n\"Open Examples\" button below.\n\u001b[0;31m---------------------------------------------------------------------------\u001b[0m\n"
          ],
          "errorDetails": {
            "actions": [
              {
                "action": "open_url",
                "actionText": "Open Examples",
                "url": "/notebooks/snippets/importing_libraries.ipynb"
              }
            ]
          }
        }
      ]
    }
  ]
}