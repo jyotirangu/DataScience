{
  "cells": [
    {
      "cell_type": "markdown",
      "metadata": {
        "id": "view-in-github",
        "colab_type": "text"
      },
      "source": [
        "<a href=\"https://colab.research.google.com/github/jyotirangu/DataScience/blob/main/9_File_Handling/4_Task2.ipynb\" target=\"_parent\"><img src=\"https://colab.research.google.com/assets/colab-badge.svg\" alt=\"Open In Colab\"/></a>"
      ]
    },
    {
      "cell_type": "markdown",
      "metadata": {
        "id": "ZK-sR6DpSWEw"
      },
      "source": [
        "## Exception Handling\n"
      ]
    },
    {
      "cell_type": "markdown",
      "metadata": {
        "id": "rm_T6EiKSZkx"
      },
      "source": [
        "### `Q-1`: You are given a function definition. There might be several issues on execution of this function. You are asked to do exception handling for diffrent errors that this function goes in to `without altering this function`. And print error text.\n",
        "\n"
      ]
    },
    {
      "cell_type": "markdown",
      "metadata": {
        "id": "sCtpsSLVSeXW"
      },
      "source": [
        "Function parameters `l -> list, s -> could be anything`\n",
        "\n",
        "```\n",
        "def function(l: list, s, **args):\n",
        "    last_element = l[-1]\n",
        "    \n",
        "    l[int(s)]=10\n",
        "    any_element = l[int(s)+10]\n",
        "    l[s]=10\n",
        "    \n",
        "    res = sum(l)\n",
        "    \n",
        "    p = args['p']\n",
        "    # print(p)\n",
        "    return res/last_element * p + any_element\n",
        "\n",
        "```\n",
        "Check for different function calls:-\n",
        "\n",
        "```\n",
        "function([1,2,1], 12)\n",
        "function([1,2,1]*9, '1-2')\n",
        "function([1,'2',1]*9, 12)\n",
        "function([1,'2',1]*9, 12)\n",
        "function([1,2,0]*9, 12  )\n",
        "function([1,2,1]*9, 12, p=None)\n",
        "function([1,2,0]*9, 12, p=10)\n",
        "```"
      ]
    },
    {
      "cell_type": "code",
      "execution_count": 36,
      "metadata": {
        "colab": {
          "base_uri": "https://localhost:8080/"
        },
        "id": "Xr8728ObSSSP",
        "outputId": "751a790d-6b22-470a-8bdd-635a5a23fbc0"
      },
      "outputs": [
        {
          "output_type": "stream",
          "name": "stdout",
          "text": [
            "REsult :  452.0\n",
            "Done\n"
          ]
        }
      ],
      "source": [
        "def function(l: list, s, **args):\n",
        "    last_element = l[-1]\n",
        "\n",
        "    l[int(s)]=10\n",
        "    any_element = l[int(s)+10]\n",
        "    l[s]=10\n",
        "\n",
        "    res = sum(l)\n",
        "\n",
        "    p = args['p']\n",
        "    # print(p)\n",
        "    return res/last_element * p + any_element\n",
        "try:\n",
        "  res = function([1,2,1]*9, 12, p=10)\n",
        "except IndexError as e:\n",
        "  print(type(e))\n",
        "  print(e)\n",
        "except ValueError as v:\n",
        "  print(type(v))\n",
        "  print(v)\n",
        "except TypeError as t:\n",
        "  print(type(t))\n",
        "  print(t)\n",
        "except KeyError as k:\n",
        "  print(type(k))\n",
        "  print(k)\n",
        "except ZeroDivisionError as z:\n",
        "  print(type(z))\n",
        "  print(z)\n",
        "else:\n",
        "  print('REsult : ', res)\n",
        "finally:\n",
        "  print('Done')\n"
      ]
    },
    {
      "cell_type": "markdown",
      "metadata": {
        "id": "rORPYViuV7Xy"
      },
      "source": [
        "### `Q-2:` You are given a code snippet. There might be several issues on execution of this code. You are asked to do exception handling for diffrent errors, condition is what ever happens we need to execute last line printing correct result of `sum of elements`.\n",
        "\n",
        "List have elemnts as any no of  `key-pair dict with key as list index and value as any integer`, `integers` and `numeric-strings`. There is always only one element in the dict.\n",
        "\n",
        "\n",
        "```\n",
        "l = [{0:2},2,3,4,'5', {5:10}]\n",
        "# For calculating sum of above list\n",
        "s=0\n",
        "for i in range(len(l)):\n",
        "    #You can Edit code from here\n",
        "    s += l[i].get(i)\n",
        "    s += l[i]\n",
        "    s += int(l[i])\n",
        "\n",
        "\n",
        "print(s)\n",
        "```"
      ]
    },
    {
      "cell_type": "code",
      "execution_count": 37,
      "metadata": {
        "id": "gDpL1kHbWUc9",
        "colab": {
          "base_uri": "https://localhost:8080/"
        },
        "outputId": "6daa2ef1-8be0-49de-976b-738dc0556cdd"
      },
      "outputs": [
        {
          "output_type": "stream",
          "name": "stdout",
          "text": [
            "26\n"
          ]
        }
      ],
      "source": [
        "l = [{0:2},2,3,4,'5', {5:10}]\n",
        "# For calculating sum of above list\n",
        "s=0\n",
        "for i in range(len(l)):\n",
        "  try:\n",
        "    s += l[i]\n",
        "  except TypeError:\n",
        "    try :\n",
        "      s += l[i].get(i)\n",
        "    except AttributeError:\n",
        "        s += int(l[i])\n",
        "\n",
        "print(s)"
      ]
    },
    {
      "cell_type": "markdown",
      "metadata": {
        "id": "TydOa6LDXZ-N"
      },
      "source": [
        "### `Q-3:`: File Handling with Exception handling\n",
        "\n",
        "Write a program that opens a text file and write data to it as \"Hello, Good Morning!!!\". Handle exceptions that can be generated during the I/O operations. Do not show the success message on the main exception handling block (write inside the else block)."
      ]
    },
    {
      "cell_type": "code",
      "execution_count": 38,
      "metadata": {
        "id": "IH7PvpI2XYHn",
        "colab": {
          "base_uri": "https://localhost:8080/"
        },
        "outputId": "a3b06a32-51cd-4307-86f5-e8269dd6380f"
      },
      "outputs": [
        {
          "output_type": "stream",
          "name": "stdout",
          "text": [
            "File written successfully\n"
          ]
        }
      ],
      "source": [
        "try:\n",
        "  with open('text_file.txt','w') as f:\n",
        "    f.write('Hello, Good Morning!!!')\n",
        "except IOError:\n",
        "  print('Error wroking with file')\n",
        "else:\n",
        "  print('File written successfully')\n",
        "\n"
      ]
    },
    {
      "cell_type": "markdown",
      "metadata": {
        "id": "q3suWI8YYwBW"
      },
      "source": [
        "### `Q-4`: Number game program.\n",
        "\n",
        "Write a number game program. Ask the user to enter a number. If the number is greater than number to be guessed, raise a **ValueTooLarge** exception. If the value is smaller the number to be guessed the, raise a **ValueTooSmall** exception and prompt the user to enter again. Quit the program only when the user enters the correct number. Also raise **GuessError** if user guess a number less than 1."
      ]
    },
    {
      "cell_type": "code",
      "execution_count": 39,
      "metadata": {
        "id": "m6A7HN7kYw8V",
        "colab": {
          "base_uri": "https://localhost:8080/"
        },
        "outputId": "b92b9a92-1372-4f99-a054-ff5cc24ba06d"
      },
      "outputs": [
        {
          "output_type": "stream",
          "name": "stdout",
          "text": [
            "Enter a number : 50\n",
            "Input value is too large\n",
            "Enter a number : 39\n",
            "Input value is too large\n",
            "Enter a number : 25\n",
            "Input value is too small\n",
            "Enter a number : 30\n",
            "Input value is too small\n",
            "Enter a number : 35\n",
            "Input value is too large\n",
            "Enter a number : 33\n",
            "Input value is too large\n",
            "Enter a number : 32\n",
            "You guessed it right\n"
          ]
        }
      ],
      "source": [
        "import random\n",
        "\n",
        "class ValueTooLarge(Exception):\n",
        "  def display(self):\n",
        "    print('Input value is too large')\n",
        "\n",
        "class ValueTooSmall(Exception):\n",
        "  def display(self):\n",
        "    print('Input value is too small')\n",
        "\n",
        "class GuessError(Exception):\n",
        "  def display(self):\n",
        "    print('Guess the number between 1 to 100')\n",
        "\n",
        "num = random.randint(1, 100)\n",
        "while 1:\n",
        "  try:\n",
        "    guess = int(input('Enter a number : '))\n",
        "\n",
        "    if guess < 1:\n",
        "      raise GuessError\n",
        "    elif guess > num:\n",
        "      raise ValueTooLarge\n",
        "    elif guess < num:\n",
        "      raise ValueTooSmall\n",
        "    else:\n",
        "      print('You guessed it right')\n",
        "      break\n",
        "  except GuessError as g:\n",
        "    g.display()\n",
        "  except ValueTooLarge as l:\n",
        "    l.display()\n",
        "  except ValueTooSmall as s:\n",
        "    s.display()\n"
      ]
    },
    {
      "cell_type": "markdown",
      "metadata": {
        "id": "Rs9B55QXY7Pu"
      },
      "source": [
        "### `Q-5:` Cast vote\n",
        "\n",
        "Write a program that validate name and age as entered by the user to determine whether the person can cast vote or not. To handle the age, create **InvalidAge** exception and for name, create **InvalidName** exception. The name will be invalid when the string will be empty or name has only one word.\n",
        "\n",
        "Example 1:\n",
        "\n",
        "Input:\n",
        "\n",
        "```bash\n",
        "Enter the name:               goransh singh\n",
        "Enter the age: 25\n",
        "```\n",
        "\n",
        "Output:\n",
        "\n",
        "```bash\n",
        "Goransh Singh  Congratulation !!! You can vote.\n",
        "```"
      ]
    },
    {
      "cell_type": "code",
      "execution_count": 40,
      "metadata": {
        "id": "BkzLqSGwY9Ol",
        "colab": {
          "base_uri": "https://localhost:8080/"
        },
        "outputId": "fbd070d8-e421-468f-b3f9-bcbc150a9a11"
      },
      "outputs": [
        {
          "output_type": "stream",
          "name": "stdout",
          "text": [
            "Enter your name : Jyoti Rangu\n",
            "Enter your age: 23\n",
            "Your vote is accepted successfully\n",
            "Thank You\n"
          ]
        }
      ],
      "source": [
        "class InvalidAge(Exception):\n",
        "  def display(self):\n",
        "    print('Sorry!! Age cannot be below 18.')\n",
        "class InvalidName(Exception):\n",
        "  def display(self):\n",
        "    print('Please enter a valid name')\n",
        "try:\n",
        "  name = input('Enter your name : ')\n",
        "  if len(name) == 0 or len(name.split()) < 2:\n",
        "    raise InvalidName\n",
        "\n",
        "  age = int(input('Enter your age: '))\n",
        "  if age < 18:\n",
        "    raise InvalidAge\n",
        "\n",
        "except InvalidName as i:\n",
        "  i.display()\n",
        "except InvalidAge as a:\n",
        "  a.display()\n",
        "else:\n",
        "  print('Your vote is accepted successfully')\n",
        "finally:\n",
        "  print('Thank You')\n",
        "\n"
      ]
    },
    {
      "cell_type": "markdown",
      "metadata": {
        "id": "FJyJx3RBY9sR"
      },
      "source": [
        "### `Q-6`: Write a python function which infinitely prints natural numbers in a single line. Raise the **StopIteration** exception after displaying first 20 numnbers to exit from the program."
      ]
    },
    {
      "cell_type": "code",
      "execution_count": 43,
      "metadata": {
        "colab": {
          "base_uri": "https://localhost:8080/"
        },
        "id": "QDe1NuFygyYo",
        "outputId": "9c4e44e8-c3af-4361-a9a3-303076645afe"
      },
      "outputs": [
        {
          "output_type": "stream",
          "name": "stdout",
          "text": [
            "1 2 3 4 5 6 7 8 9 10 11 12 13 14 15 16 17 18 19 20 "
          ]
        }
      ],
      "source": [
        "def display(n):\n",
        "  i = 0\n",
        "  while True:\n",
        "    try:\n",
        "      n+=1\n",
        "      i+=1\n",
        "      if i == 21:\n",
        "        raise StopIteration\n",
        "    except StopIteration:\n",
        "      break\n",
        "    else:\n",
        "      print(n, end = \" \")\n",
        "\n",
        "display(0)\n",
        "\n"
      ]
    }
  ],
  "metadata": {
    "colab": {
      "provenance": [],
      "authorship_tag": "ABX9TyOaC45SlxzjJxzrDJHsmgHr",
      "include_colab_link": true
    },
    "kernelspec": {
      "display_name": "Python 3",
      "name": "python3"
    },
    "language_info": {
      "name": "python"
    }
  },
  "nbformat": 4,
  "nbformat_minor": 0
}