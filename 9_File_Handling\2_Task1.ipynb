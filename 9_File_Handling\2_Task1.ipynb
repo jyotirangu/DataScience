{
  "nbformat": 4,
  "nbformat_minor": 0,
  "metadata": {
    "colab": {
      "provenance": [],
      "authorship_tag": "ABX9TyM1xiYqwWrKUvY1p1hhgLXG",
      "include_colab_link": true
    },
    "kernelspec": {
      "name": "python3",
      "display_name": "Python 3"
    },
    "language_info": {
      "name": "python"
    }
  },
  "cells": [
    {
      "cell_type": "markdown",
      "metadata": {
        "id": "view-in-github",
        "colab_type": "text"
      },
      "source": [
        "<a href=\"https://colab.research.google.com/github/jyotirangu/DataScience/blob/main/9_File_Handling%5C2_Task1.ipynb\" target=\"_parent\"><img src=\"https://colab.research.google.com/assets/colab-badge.svg\" alt=\"Open In Colab\"/></a>"
      ]
    },
    {
      "cell_type": "code",
      "source": [
        "f = open('sample.txt', 'w')\n",
        "f.write(\"Jai shree Ram \")\n",
        "f.write('\\nHare Krishn')\n",
        "f.write('\\nRadhe Radhe')\n",
        "f.close()\n"
      ],
      "metadata": {
        "id": "d2kwgXL5m3vN"
      },
      "execution_count": 2,
      "outputs": []
    },
    {
      "cell_type": "markdown",
      "source": [
        "### `Q-1:` Write a function `get_final_line(filename)`, which takes filename as input and return final line of the file.\n",
        "\n",
        "Note: You can choose any file of your choice."
      ],
      "metadata": {
        "id": "GIXYVpwck9ot"
      }
    },
    {
      "cell_type": "code",
      "execution_count": 3,
      "metadata": {
        "colab": {
          "base_uri": "https://localhost:8080/",
          "height": 36
        },
        "id": "lURKx26Yk3PK",
        "outputId": "cb71cbd0-3066-4e0c-8c39-5ca731fe5511"
      },
      "outputs": [
        {
          "output_type": "execute_result",
          "data": {
            "text/plain": [
              "'Radhe Radhe'"
            ],
            "application/vnd.google.colaboratory.intrinsic+json": {
              "type": "string"
            }
          },
          "metadata": {},
          "execution_count": 3
        }
      ],
      "source": [
        "def get_final_line(filename):\n",
        "  final_line = ''\n",
        "  for current_line in open(filename, 'r'):\n",
        "    final_line = current_line\n",
        "  return final_line\n",
        "\n",
        "get_final_line('sample.txt')"
      ]
    },
    {
      "cell_type": "markdown",
      "source": [
        "###`Q-2:` Read through a text file, line by line. Use a dict to keep track of how many times each vowel (a, e, i, o, and u) appears in the file. Print the resulting tabulation -- dictionary."
      ],
      "metadata": {
        "id": "-PVGASyNk_-I"
      }
    },
    {
      "cell_type": "code",
      "source": [
        "def vowel_count_table(filename):\n",
        "  vowels = ['a', 'e', 'i', 'o', 'u']\n",
        "  d = {i:0 for i in vowels}\n",
        "  for current_line in open(filename, 'r'):\n",
        "    for ch in current_line:\n",
        "      if ch in vowels:\n",
        "        d[ch] += 1\n",
        "  return d\n",
        "vowel_count_table('sample.txt')"
      ],
      "metadata": {
        "colab": {
          "base_uri": "https://localhost:8080/"
        },
        "id": "0I1ABRH3lzyp",
        "outputId": "3862c4b5-0cda-4149-df44-e29b415e2504"
      },
      "execution_count": 4,
      "outputs": [
        {
          "output_type": "execute_result",
          "data": {
            "text/plain": [
              "{'a': 5, 'e': 5, 'i': 2, 'o': 0, 'u': 0}"
            ]
          },
          "metadata": {},
          "execution_count": 4
        }
      ]
    },
    {
      "cell_type": "markdown",
      "source": [
        "###`Q-3:` Create a text file (using an editor, not necessarily Python) containing two tab separated columns, with each column containing a number. Then use Python to read through the file you’ve created. For each line, multiply each first number by the second and include it in the file in third column. In last add a line Total, by summing the value of third column\n",
        "\n"
      ],
      "metadata": {
        "id": "vmfkXlw4lG7g"
      }
    },
    {
      "cell_type": "markdown",
      "source": [
        "Input File example: That you need to create\n",
        "```\n",
        "1   2\n",
        "3   4\n",
        "5   6\n",
        "7   8\n",
        "9   10\n",
        "\n",
        "```\n",
        "\n",
        "Output File Example:\n",
        "```\n",
        "1   2   2\n",
        "3   4   12\n",
        "5   6   30\n",
        "7   8   56\n",
        "9   10  90\n",
        "Total   190\n",
        "```\n"
      ],
      "metadata": {
        "id": "UabHvi0ilKhD"
      }
    },
    {
      "cell_type": "code",
      "source": [
        "file_name = 'sample2.txt'\n",
        "f = open(file_name, 'w')\n",
        "for i in range(1,11,2):\n",
        "  line = '{} \\t{}\\n'.format(i, i+1)\n",
        "  f.writelines(line)\n",
        "f.close()\n",
        "\n",
        "with open(file_name, 'r') as f:\n",
        "  lines = f.read().splitlines()\n",
        "\n",
        "total = 0\n",
        "with open(file_name, 'w') as f:\n",
        "  for line in lines:\n",
        "    a,b = line.split(sep='\\t')\n",
        "    res = int(a) * int(b)\n",
        "    total += res\n",
        "    f.write('{} \\t{} \\t{} \\n'.format(a,b,res))\n",
        "  f.write(\"Total \\t\"+ str(total))"
      ],
      "metadata": {
        "id": "4x1cCrWUl1FE"
      },
      "execution_count": 8,
      "outputs": []
    },
    {
      "cell_type": "markdown",
      "source": [
        "###`Q-4:` Create line wise reverse of a file\n",
        "Write a function which takes two arguments: the names of the input file (to be read from) and the output file (which will be created)."
      ],
      "metadata": {
        "id": "_qdKAScTlObC"
      }
    },
    {
      "cell_type": "markdown",
      "source": [
        "For example, if a file looks like\n",
        " ```\n",
        "abc def\n",
        "ghi jkl\n",
        "```\n",
        "then the output file will be\n",
        "```\n",
        "fed cba\n",
        "lkj ihg\n",
        "```\n",
        "**Notice**: The newline remains at the end of the string, while the rest of the characters are all reversed."
      ],
      "metadata": {
        "id": "_hsIyey_lRmq"
      }
    },
    {
      "cell_type": "code",
      "source": [
        "input_file = 'sample.txt'\n",
        "output_file = 'sample_reversed.txt'\n",
        "\n",
        "def reverse_lines(infilename, outfilename):\n",
        "  with open(infilename, 'r') as infile, open(outfilename, 'w') as outfile:\n",
        "    for one_line in infile:\n",
        "      outfile.write(one_line.rstrip()[::-1]+'\\n')\n",
        "reverse_lines(input_file, output_file)"
      ],
      "metadata": {
        "id": "1iYmbSkXl1zU"
      },
      "execution_count": 10,
      "outputs": []
    },
    {
      "cell_type": "markdown",
      "source": [
        "###`Q-5:` Create a Serialized dict of frequency of words in the file. And from given list of words, using serialized dict show word count.\n",
        "\n",
        "* List of word will be given\n",
        "\n"
      ],
      "metadata": {
        "id": "5dQdJyA-lVNe"
      }
    },
    {
      "cell_type": "markdown",
      "source": [
        "**Given** String\n",
        "\n",
        "```\n",
        "strings = \"\"\"Alice was beginning to get very tired of sitting by her sister\n",
        "            on the bank, and of having nothing to do:  once or twice she had\n",
        "            peeped into the book her sister was reading, but it had no\n",
        "            pictures or conversations in it, `and what is the use of a book,'\n",
        "            thought Alice `without pictures or conversation?'\n",
        "\n",
        "            So she was considering in her own mind (as well as she could,\n",
        "            for the hot day made her feel very sleepy and stupid), whether\n",
        "            the pleasure of making a daisy-chain would be worth the trouble\n",
        "            of getting up and picking the daisies, when suddenly a White\n",
        "            Rabbit with pink eyes ran close by her.\n",
        "\n",
        "            There was nothing so VERY remarkable in that; nor did Alice\n",
        "            think it so VERY much out of the way to hear the Rabbit say to\n",
        "            itself, `Oh dear!  Oh dear!  I shall be late!'  (when she thought\n",
        "            it over afterwards, it occurred to her that she ought to have\n",
        "            wondered at this, but at the time it all seemed quite natural);\n",
        "            but when the Rabbit actually TOOK A WATCH OUT OF ITS WAISTCOAT-\n",
        "            POCKET, and looked at it, and then hurried on, Alice started to\n",
        "            her feet, for it flashed across her mind that she had never\n",
        "            before seen a rabbit with either a waistcoat-pocket, or a watch to\n",
        "            take out of it, and burning with curiosity, she ran across the\n",
        "            field after it, and fortunately was just in time to see it pop\n",
        "            down a large rabbit-hole under the hedge.\"\"\"\n",
        "\n",
        "word_list = ['alice', 'wonder', 'natural']\n",
        "```"
      ],
      "metadata": {
        "id": "lUQO7vIslYgX"
      }
    },
    {
      "cell_type": "code",
      "source": [
        "strings = \"\"\"Alice was beginning to get very tired of sitting by her sister\n",
        "            on the bank, and of having nothing to do:  once or twice she had\n",
        "            peeped into the book her sister was reading, but it had no\n",
        "            pictures or conversations in it, `and what is the use of a book,'\n",
        "            thought Alice `without pictures or conversation?'\n",
        "\n",
        "            So she was considering in her own mind (as well as she could,\n",
        "            for the hot day made her feel very sleepy and stupid), whether\n",
        "            the pleasure of making a daisy-chain would be worth the trouble\n",
        "            of getting up and picking the daisies, when suddenly a White\n",
        "            Rabbit with pink eyes ran close by her.\n",
        "\n",
        "            There was nothing so VERY remarkable in that; nor did Alice\n",
        "            think it so VERY much out of the way to hear the Rabbit say to\n",
        "            itself, `Oh dear!  Oh dear!  I shall be late!'  (when she thought\n",
        "            it over afterwards, it occurred to her that she ought to have\n",
        "            wondered at this, but at the time it all seemed quite natural);\n",
        "            but when the Rabbit actually TOOK A WATCH OUT OF ITS WAISTCOAT-\n",
        "            POCKET, and looked at it, and then hurried on, Alice started to\n",
        "            her feet, for it flashed across her mind that she had never\n",
        "            before seen a rabbit with either a waistcoat-pocket, or a watch to\n",
        "            take out of it, and burning with curiosity, she ran across the\n",
        "            field after it, and fortunately was just in time to see it pop\n",
        "            down a large rabbit-hole under the hedge.\"\"\"\n",
        "\n",
        "word_list = ['alice', 'wonder', 'natural']"
      ],
      "metadata": {
        "id": "7cipBHWvt9Tg"
      },
      "execution_count": 11,
      "outputs": []
    },
    {
      "cell_type": "code",
      "source": [
        "word_count_dict=dict()\n",
        "for word in strings.lower().split(' '):\n",
        "  try:\n",
        "    word_count_dict[word] += 1\n",
        "  except:\n",
        "    word_count_dict[word] = 1\n",
        "\n",
        "import pickle as pkl\n",
        "\n",
        "pkl.dump(word_count_dict, open('word_count_dict.pkl', 'wb'))\n",
        "word_count = pkl.load(open('word_count_dict.pkl','rb'))\n",
        "for s in word_list:\n",
        "  try:\n",
        "    print(s, word_count[s])\n",
        "  except:\n",
        "    print(s,0)\n"
      ],
      "metadata": {
        "colab": {
          "base_uri": "https://localhost:8080/"
        },
        "id": "YzhgdmmEl3MO",
        "outputId": "4372deef-92a5-4980-ef47-670cec6870c7"
      },
      "execution_count": 18,
      "outputs": [
        {
          "output_type": "stream",
          "name": "stdout",
          "text": [
            "alice 3\n",
            "wonder 0\n",
            "natural 0\n"
          ]
        }
      ]
    },
    {
      "cell_type": "markdown",
      "source": [
        "### **`Q-6:`** Given a string calculate length of the string using recursion.\n",
        "\n",
        "**Example 1:**\n",
        "\n",
        "Input:\n",
        "```bash\n",
        "\"abcd\"\n",
        "```\n",
        "\n",
        "Output:\n",
        "\n",
        "```bash\n",
        "4\n",
        "```\n",
        "\n",
        "**Example 2:**\n",
        "\n",
        "Input:\n",
        "```bash\n",
        "DataScience\n",
        "```\n",
        "\n",
        "Output:\n",
        "\n",
        "```bash\n",
        "11\n",
        "```\n"
      ],
      "metadata": {
        "id": "_GEFp5Orlgtk"
      }
    },
    {
      "cell_type": "code",
      "source": [
        "string = 'Jai Jai shree Ram'\n",
        "def string_length(s):\n",
        "  if s == \"\":\n",
        "    return 0\n",
        "  else:\n",
        "    return 1 + string_length(s[1:])\n",
        "\n",
        "string_length(string)"
      ],
      "metadata": {
        "colab": {
          "base_uri": "https://localhost:8080/"
        },
        "id": "Rg0pwIyxl4dU",
        "outputId": "9e88cf42-cc36-4e24-9a57-641300fb3a25"
      },
      "execution_count": 21,
      "outputs": [
        {
          "output_type": "execute_result",
          "data": {
            "text/plain": [
              "17"
            ]
          },
          "metadata": {},
          "execution_count": 21
        }
      ]
    },
    {
      "cell_type": "markdown",
      "source": [
        "### **`Q-7:`** Write a function that accepts two numbers and returns their greatest common divisior. Without using any loop\n",
        "\n",
        "def gcd(int, int) => int\n",
        "\n",
        "```\n",
        "gcd(16,24) will give 8\n",
        "```"
      ],
      "metadata": {
        "id": "OySnA6JJlknQ"
      }
    },
    {
      "cell_type": "code",
      "source": [
        "def gcd(a,b):\n",
        "  if a==b:\n",
        "    return a\n",
        "  elif a>b:\n",
        "    return gcd(a-b,b)\n",
        "  else:\n",
        "    return gcd(b-a, a)\n",
        "gcd(16,24)\n"
      ],
      "metadata": {
        "colab": {
          "base_uri": "https://localhost:8080/"
        },
        "id": "NxdMCBagl5dP",
        "outputId": "4d5c56c7-147a-42be-ba0f-84a465e52270"
      },
      "execution_count": 23,
      "outputs": [
        {
          "output_type": "execute_result",
          "data": {
            "text/plain": [
              "8"
            ]
          },
          "metadata": {},
          "execution_count": 23
        }
      ]
    },
    {
      "cell_type": "markdown",
      "source": [
        " ### `Q-8:` String Edit Distance\n",
        "\n",
        " Use your recursive function to write a program that reads two strings from the\n",
        "user and displays the edit distance between them.\n",
        "\n",
        "*The edit distance between two strings is a measure of their similarity—the smaller the edit distance, the more similar the strings are with regard to the minimum number of insert, delete and substitute operations needed to transform one string into the other.*\n",
        "\n",
        "Consider the strings `kitten` and `sitting`. The first string can be transformed\n",
        "into the second string with the following operations:\n",
        "* Substitute the `k` with an `s`,\n",
        "* substitute the `e` with an `i`,\n",
        "* and insert a `g` at the end of the string.\n",
        "\n",
        "This is the smallest number of operations that can be performed to transform kitten into sitting. As a result, the edit distance is `3`.\n",
        "\n",
        "\n",
        "Write a recursive function that computes the edit distance between two strings.\n",
        "\n",
        "Use the following algorithm:\n",
        "\n",
        "```\n",
        "Let s and t be the strings\n",
        "    If the length of s is 0 then\n",
        "        Return the length of t\n",
        "    Else if the length of t is 0 then\n",
        "        Return the length of s\n",
        "    Else\n",
        "        Set cost to 0\n",
        "        If the last character in s does not equal the last character in t then\n",
        "            Set cost to 1\n",
        "        Set d1 equal to the edit distance between all characters except the last one in s, and all characters in t, plus 1\n",
        "        Set d2 equal to the edit distance between all characters in s, and all characters except the last one in t, plus 1\n",
        "\n",
        "        Set d3 equal to the edit distance between all characters except the last one in s, and all characters except the last one in t, plus cost\n",
        "        Return the minimum of d1, d2 and d3\n",
        "```\n",
        "\n",
        "\n",
        "\n"
      ],
      "metadata": {
        "id": "613pV0qulpbp"
      }
    },
    {
      "cell_type": "code",
      "source": [
        "def editDistance(s,t):\n",
        "\n",
        "  if len(s) == 0:\n",
        "    return len(t)\n",
        "  elif len(t) == 0:\n",
        "    return len(s)\n",
        "  else:\n",
        "    cost =0\n",
        "    if s[-1] != t[-1]:\n",
        "      cost = 1\n",
        "\n",
        "    d1 = editDistance(s[:-1], t) + 1\n",
        "    d2 = editDistance(s, t[:-1]) + 1\n",
        "    d3 = editDistance(s[:-1], t[:-1]) + cost\n",
        "    return min(d1,d2,d3)\n",
        "\n",
        "editDistance('kitten', 'sitting')"
      ],
      "metadata": {
        "colab": {
          "base_uri": "https://localhost:8080/"
        },
        "id": "zIvP-Vy4l7CJ",
        "outputId": "f9ddc39b-633f-4084-d62b-bba50beedd5c"
      },
      "execution_count": 24,
      "outputs": [
        {
          "output_type": "execute_result",
          "data": {
            "text/plain": [
              "3"
            ]
          },
          "metadata": {},
          "execution_count": 24
        }
      ]
    },
    {
      "cell_type": "markdown",
      "source": [
        "###`Q-9:` Run-Length Encoding\n",
        "\n",
        "Run-length encoding is a simple data compression technique that can be effective when repeated values occur at adjacent positions within a list. Compression is achieved by replacing groups of repeated values with one copy of the value, followed by the number of times that the value should be repeated. For example, the list\n",
        "```\n",
        "[\"A\", \"A\", \"A\", \"A\", \"A\", \"A\", \"A\", \"A\", \"A\", \"A\", \"A\", \"A\", \"B\", \"B\", \"B\", \"B\", \"A\", \"A\", \"A\", \"A\", \"A\", \"A\", \"B\"]\n",
        "```\n",
        "would be compressed as `[\"A\", 12, \"B\", 4, \"A\", 6, \"B\", 1]`.\n",
        "\n",
        "Write a recursive function that implements the run-length compression technique\n",
        "described above. Your function will take a list or a string as its only parameter. It should return the run-length compressed list as its only result. Include a main program that reads a string from the user, compresses it, and displays the run-length encoded result."
      ],
      "metadata": {
        "id": "EDAMdxUGltPE"
      }
    },
    {
      "cell_type": "code",
      "source": [
        "string = 'aabbccaaaaaaabbbbcccccffgghiiiii'\n",
        "\n",
        "def runEncode(s):\n",
        "  if len(s) == 0:\n",
        "    return []\n",
        "  else:\n",
        "    index = 1\n",
        "    while index < len(s) and s[index] == s[index-1]:\n",
        "      index += 1\n",
        "    compressed = [s[0], index]\n",
        "\n",
        "    return compressed + runEncode(s[index:])\n",
        "\n",
        "print(runEncode(string))"
      ],
      "metadata": {
        "colab": {
          "base_uri": "https://localhost:8080/"
        },
        "id": "iP8BYCpSl77K",
        "outputId": "a98ea03b-0734-4eb0-b1b1-7e5ba18612c4"
      },
      "execution_count": 27,
      "outputs": [
        {
          "output_type": "stream",
          "name": "stdout",
          "text": [
            "['a', 2, 'b', 2, 'c', 2, 'a', 7, 'b', 4, 'c', 5, 'f', 2, 'g', 2, 'h', 1, 'i', 5]\n"
          ]
        }
      ]
    },
    {
      "cell_type": "markdown",
      "source": [
        "###`Q-10:` Write a recursive function to convert a decimal to binary"
      ],
      "metadata": {
        "id": "Z0eJwcdOlxR6"
      }
    },
    {
      "cell_type": "code",
      "source": [
        "decimal = 5\n",
        "\n",
        "def decToBin(decimal):\n",
        "  if decimal == 0:\n",
        "    return '0'\n",
        "  else:\n",
        "    return decToBin(decimal >> 1) + str(decimal & 1)\n",
        "\n",
        "decToBin(decimal)"
      ],
      "metadata": {
        "colab": {
          "base_uri": "https://localhost:8080/",
          "height": 36
        },
        "id": "QlQ3nMxZl8n6",
        "outputId": "7db7245a-d5b0-48f8-a502-08d97f769964"
      },
      "execution_count": 29,
      "outputs": [
        {
          "output_type": "execute_result",
          "data": {
            "text/plain": [
              "'0101'"
            ],
            "application/vnd.google.colaboratory.intrinsic+json": {
              "type": "string"
            }
          },
          "metadata": {},
          "execution_count": 29
        }
      ]
    }
  ]
}